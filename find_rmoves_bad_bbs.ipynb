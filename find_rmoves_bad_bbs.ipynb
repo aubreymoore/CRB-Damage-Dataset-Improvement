{
 "cells": [
  {
   "cell_type": "markdown",
   "metadata": {},
   "source": [
    "Based on the [Finding Detection Mistakes with FiftyOne Tuturial](https://docs.voxel51.com/tutorials/detection_mistakes.html)."
   ]
  },
  {
   "cell_type": "code",
   "execution_count": 1,
   "metadata": {},
   "outputs": [],
   "source": [
    "import fiftyone as fo\n",
    "from fiftyone import ViewField as F\n",
    "from icecream import ic\n"
   ]
  },
  {
   "cell_type": "code",
   "execution_count": 2,
   "metadata": {},
   "outputs": [],
   "source": [
    "dataset = fo.load_dataset('dataset5')"
   ]
  },
  {
   "cell_type": "code",
   "execution_count": 3,
   "metadata": {},
   "outputs": [
    {
     "name": "stdout",
     "output_type": "stream",
     "text": [
      "Name:        dataset5\n",
      "Media type:  image\n",
      "Num samples: 59997\n",
      "Persistent:  True\n",
      "Tags:        []\n",
      "Sample fields:\n",
      "    id:                 fiftyone.core.fields.ObjectIdField\n",
      "    filepath:           fiftyone.core.fields.StringField\n",
      "    tags:               fiftyone.core.fields.ListField(fiftyone.core.fields.StringField)\n",
      "    metadata:           fiftyone.core.fields.EmbeddedDocumentField(fiftyone.core.metadata.ImageMetadata)\n",
      "    created_at:         fiftyone.core.fields.DateTimeField\n",
      "    last_modified_at:   fiftyone.core.fields.DateTimeField\n",
      "    ground_truth:       fiftyone.core.fields.EmbeddedDocumentField(fiftyone.core.labels.Detections)\n",
      "    YOLOv8_predictions: fiftyone.core.fields.EmbeddedDocumentField(fiftyone.core.labels.Detections)\n"
     ]
    }
   ],
   "source": [
    "print(dataset)"
   ]
  },
  {
   "cell_type": "code",
   "execution_count": 6,
   "metadata": {},
   "outputs": [
    {
     "name": "stdout",
     "output_type": "stream",
     "text": [
      "Session launched. Run `session.show()` to open the App in a cell output.\n"
     ]
    },
    {
     "data": {
      "text/plain": [
       "Dataset:          dataset5\n",
       "Media type:       image\n",
       "Num samples:      59997\n",
       "Selected samples: 0\n",
       "Selected labels:  0\n",
       "Session URL:      http://localhost:5151/"
      ]
     },
     "execution_count": 6,
     "metadata": {},
     "output_type": "execute_result"
    }
   ],
   "source": [
    "# Open the dataset in the App\n",
    "fo.launch_app(dataset, auto=False)"
   ]
  },
  {
   "cell_type": "code",
   "execution_count": null,
   "metadata": {},
   "outputs": [
    {
     "data": {
      "text/plain": [
       "Dataset:          dataset5\n",
       "Media type:       image\n",
       "Num samples:      59997\n",
       "Selected samples: 0\n",
       "Selected labels:  0\n",
       "Session URL:      http://localhost:5151/"
      ]
     },
     "execution_count": 7,
     "metadata": {},
     "output_type": "execute_result"
    }
   ],
   "source": [
    "patches_view = dataset.to_patches(\"ground_truth\")\n",
    "print(patches_view)"
   ]
  },
  {
   "cell_type": "code",
   "execution_count": 9,
   "metadata": {},
   "outputs": [
    {
     "name": "stdout",
     "output_type": "stream",
     "text": [
      "Evaluating detections...\n",
      " 100% |█████████████| 59997/59997 [2.1m elapsed, 0s remaining, 540.3 samples/s]      \n",
      "Computing mistakenness...\n",
      " 100% |█████████████| 59997/59997 [1.9m elapsed, 0s remaining, 571.7 samples/s]      \n",
      "Mistakenness computation complete\n"
     ]
    }
   ],
   "source": [
    "import fiftyone.brain as fob\n",
    "\n",
    "# Compute mistakenness of annotations in `ground_truth` field using\n",
    "# predictions from `predictions` field as point of reference\n",
    "fob.compute_mistakenness(dataset, \"YOLOv8_predictions\", label_field=\"ground_truth\")"
   ]
  },
  {
   "cell_type": "code",
   "execution_count": 10,
   "metadata": {},
   "outputs": [
    {
     "name": "stdout",
     "output_type": "stream",
     "text": [
      "Dataset:     dataset5\n",
      "Media type:  image\n",
      "Num samples: 59997\n",
      "Sample fields:\n",
      "    id:                 fiftyone.core.fields.ObjectIdField\n",
      "    filepath:           fiftyone.core.fields.StringField\n",
      "    tags:               fiftyone.core.fields.ListField(fiftyone.core.fields.StringField)\n",
      "    metadata:           fiftyone.core.fields.EmbeddedDocumentField(fiftyone.core.metadata.ImageMetadata)\n",
      "    created_at:         fiftyone.core.fields.DateTimeField\n",
      "    last_modified_at:   fiftyone.core.fields.DateTimeField\n",
      "    ground_truth:       fiftyone.core.fields.EmbeddedDocumentField(fiftyone.core.labels.Detections)\n",
      "    YOLOv8_predictions: fiftyone.core.fields.EmbeddedDocumentField(fiftyone.core.labels.Detections)\n",
      "    mistakenness:       fiftyone.core.fields.FloatField\n",
      "    possible_missing:   fiftyone.core.fields.IntField\n",
      "    possible_spurious:  fiftyone.core.fields.IntField\n",
      "View stages:\n",
      "    1. SortBy(field_or_expr='mistakenness', reverse=True, create_index=True)\n"
     ]
    }
   ],
   "source": [
    "from fiftyone import ViewField as F\n",
    "\n",
    "# Sort by likelihood of mistake (most likely first)\n",
    "mistake_view = dataset.sort_by(\"mistakenness\", reverse=True)\n",
    "\n",
    "# Print some information about the view\n",
    "print(mistake_view)"
   ]
  },
  {
   "cell_type": "code",
   "execution_count": 11,
   "metadata": {},
   "outputs": [
    {
     "name": "stdout",
     "output_type": "stream",
     "text": [
      "<Detection: {\n",
      "    'id': '6736b58b7698ad55d4ec4ca9',\n",
      "    'attributes': {},\n",
      "    'tags': [],\n",
      "    'label': 'live',\n",
      "    'bounding_box': [0.041749999999999995, 0.69385, 0.0917, 0.1305],\n",
      "    'mask': None,\n",
      "    'confidence': None,\n",
      "    'index': None,\n",
      "    'mistakenness': 0.052697449922561646,\n",
      "    'mistakenness_loc': 0.09355670594444199,\n",
      "}>\n"
     ]
    }
   ],
   "source": [
    "# Inspect some samples and detections\n",
    "# This is the first detection of the first sample\n",
    "print(mistake_view.first().ground_truth.detections[0])"
   ]
  },
  {
   "cell_type": "code",
   "execution_count": 12,
   "metadata": {},
   "outputs": [],
   "source": [
    "# Show the samples we processed in rank order by the mistakenness\n",
    "session.view = mistake_view"
   ]
  },
  {
   "cell_type": "code",
   "execution_count": null,
   "metadata": {},
   "outputs": [
    {
     "name": "stderr",
     "output_type": "stream",
     "text": [
      "ic| len(removal_list): 40\n"
     ]
    },
    {
     "data": {
      "text/plain": [
       "40"
      ]
     },
     "execution_count": 38,
     "metadata": {},
     "output_type": "execute_result"
    }
   ],
   "source": [
    "# Get list of ground truth detection ids tagged with \"remove\"\n",
    "\n",
    "removal_list = []\n",
    "for sample in dataset:\n",
    "    for detection in sample.ground_truth.detections:\n",
    "        if 'remove' in detection.tags:   \n",
    "            removal_list.append(detection.id)\n",
    "ic(len(removal_list))"
   ]
  },
  {
   "cell_type": "code",
   "execution_count": null,
   "metadata": {},
   "outputs": [],
   "source": []
  },
  {
   "cell_type": "code",
   "execution_count": 2,
   "metadata": {},
   "outputs": [
    {
     "name": "stdout",
     "output_type": "stream",
     "text": [
      "Session launched. Run `session.show()` to open the App in a cell output.\n",
      "Dataset:     dataset5\n",
      "Media type:  image\n",
      "Num samples: 59997\n",
      "Sample fields:\n",
      "    id:                 fiftyone.core.fields.ObjectIdField\n",
      "    filepath:           fiftyone.core.fields.StringField\n",
      "    tags:               fiftyone.core.fields.ListField(fiftyone.core.fields.StringField)\n",
      "    metadata:           fiftyone.core.fields.EmbeddedDocumentField(fiftyone.core.metadata.ImageMetadata)\n",
      "    created_at:         fiftyone.core.fields.DateTimeField\n",
      "    last_modified_at:   fiftyone.core.fields.DateTimeField\n",
      "    ground_truth:       fiftyone.core.fields.EmbeddedDocumentField(fiftyone.core.labels.Detections)\n",
      "    YOLOv8_predictions: fiftyone.core.fields.EmbeddedDocumentField(fiftyone.core.labels.Detections)\n",
      "    mistakenness:       fiftyone.core.fields.FloatField\n",
      "    possible_missing:   fiftyone.core.fields.IntField\n",
      "    possible_spurious:  fiftyone.core.fields.IntField\n",
      "View stages:\n",
      "    1. SortBy(field_or_expr='mistakenness', reverse=True, create_index=True)\n"
     ]
    }
   ],
   "source": [
    "dataset = fo.load_dataset('dataset5')\n",
    "session = fo.launch_app(dataset, auto=False)\n",
    "\n",
    "# Sort by likelihood of mistake (most likely first)\n",
    "mistake_view = dataset.sort_by(\"mistakenness\", reverse=True)\n",
    "\n",
    "# Print some information about the view\n",
    "print(mistake_view)\n",
    "\n",
    "# session.view = dataset.filter_labels(\"ground_truth\", F(\"mistakenness\") > 0.70)"
   ]
  },
  {
   "cell_type": "code",
   "execution_count": 6,
   "metadata": {},
   "outputs": [],
   "source": [
    "mistake_view = dataset.sort_by(\"mistakenness\", reverse=True)\n",
    "session.view = mistake_view"
   ]
  }
 ],
 "metadata": {
  "kernelspec": {
   "display_name": ".venv",
   "language": "python",
   "name": "python3"
  },
  "language_info": {
   "codemirror_mode": {
    "name": "ipython",
    "version": 3
   },
   "file_extension": ".py",
   "mimetype": "text/x-python",
   "name": "python",
   "nbconvert_exporter": "python",
   "pygments_lexer": "ipython3",
   "version": "3.10.12"
  }
 },
 "nbformat": 4,
 "nbformat_minor": 2
}
