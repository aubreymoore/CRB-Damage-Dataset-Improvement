{
 "cells": [
  {
   "cell_type": "markdown",
   "metadata": {},
   "source": []
  },
  {
   "cell_type": "code",
   "execution_count": 6,
   "metadata": {},
   "outputs": [],
   "source": [
    "import fiftyone as fo\n",
    "from ultralytics import YOLO"
   ]
  },
  {
   "cell_type": "code",
   "execution_count": null,
   "metadata": {},
   "outputs": [
    {
     "name": "stdout",
     "output_type": "stream",
     "text": [
      " 100% |█████████████| 48002/48002 [34.4s elapsed, 0s remaining, 1.5K samples/s]       \n",
      " 100% |███████████████| 6005/6005 [4.2s elapsed, 0s remaining, 1.4K samples/s]      \n",
      " 100% |███████████████| 5990/5990 [4.2s elapsed, 0s remaining, 1.4K samples/s]      \n",
      " 100% |█████████████| 59997/59997 [10.7m elapsed, 0s remaining, 94.1 samples/s]      \n",
      "Session launched. Run `session.show()` to open the App in a cell output.\n"
     ]
    },
    {
     "data": {
      "text/plain": [
       "Dataset:          dataset5\n",
       "Media type:       image\n",
       "Num samples:      59997\n",
       "Selected samples: 0\n",
       "Selected labels:  0\n",
       "Session URL:      http://localhost:5151/"
      ]
     },
     "execution_count": 11,
     "metadata": {},
     "output_type": "execute_result"
    }
   ],
   "source": [
    "# name of the new fiftyone dataset we are creating\n",
    "name = 'dataset5' \n",
    "\n",
    "# path to the YOLO dataset\n",
    "dataset_path = '/home/aubrey/datasets/dataset4' \n",
    "\n",
    " # path to the trained object detector\n",
    "model_path = '/home/aubrey/datasets/models/model4_yolov8n/weights/best.pt'\n",
    "\n",
    "# The splits to load\n",
    "splits = ['train', 'test', 'val']\n",
    "\n",
    "# Load the dataset, using tags to mark samples from each split\n",
    "print(f'Loading {dataset_path}')\n",
    "dataset = fo.Dataset(name)\n",
    "for split in splits:\n",
    "    dataset.add_dir(\n",
    "        dataset_dir=dataset_path,\n",
    "        dataset_type=fo.types.YOLOv5Dataset,\n",
    "        split=split,\n",
    "        tags=split,\n",
    "    )\n",
    "\n",
    "# Save dataset to disk\n",
    "print(f'Saving {dataset.name} to disk)\n",
    "dataset.persistent = True\n",
    "\n",
    "# Load object detector\n",
    "print(f'Loading {model_path}')\n",
    "model = YOLO(model_path)\n",
    "\n",
    "# Apply object detector to dataset\n",
    "print('Applying model to dataset')\n",
    "dataset.apply_model(model, label_field='YOLOv8_predictions')\n",
    "\n",
    "# Launch app in browser\n",
    "print('Launching {dataset.name} in FiftyOne app browser')\n",
    "fo.launch_app(dataset, auto=False)"
   ]
  }
 ],
 "metadata": {
  "kernelspec": {
   "display_name": ".venv",
   "language": "python",
   "name": "python3"
  },
  "language_info": {
   "codemirror_mode": {
    "name": "ipython",
    "version": 3
   },
   "file_extension": ".py",
   "mimetype": "text/x-python",
   "name": "python",
   "nbconvert_exporter": "python",
   "pygments_lexer": "ipython3",
   "version": "3.10.12"
  }
 },
 "nbformat": 4,
 "nbformat_minor": 2
}
