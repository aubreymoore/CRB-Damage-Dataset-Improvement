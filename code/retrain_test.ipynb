{
 "cells": [
  {
   "cell_type": "code",
   "execution_count": 25,
   "metadata": {},
   "outputs": [],
   "source": [
    "from ultralytics import YOLO\n",
    "import glob\n",
    "from icecream import ic"
   ]
  },
  {
   "cell_type": "code",
   "execution_count": null,
   "metadata": {},
   "outputs": [
    {
     "name": "stderr",
     "output_type": "stream",
     "text": [
      "ic| latest_weights_path: '/home/aubrey/crb_damage_detector_data/runs/20241128_1657/weights/best.pt'\n",
      "ic| latest_yaml_path: '/home/aubrey/crb_damage_detector_data/datasets/20241128_1648/dataset.yaml'\n"
     ]
    }
   ],
   "source": [
    "DATAPATH = '/home/aubrey/crb_damage_detector_data'\n",
    "\n",
    "# Get latest model weights path\n",
    "search_str = f'{DATAPATH}/runs/[0-9][0-9][0-9][0-9][0-9][0-9][0-9][0-9]_[0-9][0-9][0-9][0-9]'\n",
    "runs_list = glob.glob(search_str)\n",
    "latest_run = sorted(runs_list, reverse=True)[0]\n",
    "latest_weights_path = f'{latest_run}/weights/best.pt'\n",
    "ic(latest_weights_path)\n",
    "\n",
    "# Get latest yaml path\n",
    "search_str = f'{DATAPATH}/datasets/[0-9][0-9][0-9][0-9][0-9][0-9][0-9][0-9]_[0-9][0-9][0-9][0-9]'\n",
    "datasets_list = glob.glob(search_str)\n",
    "latest_dataset = sorted(datasets_list, reverse=True)[0]\n",
    "latest_yaml_path = f'{latest_dataset}/dataset.yaml'\n",
    "ic(latest_yaml_path);\n",
    "\n",
    "# retrain model\n",
    "\n",
    "model = YOLO(latest_weights_path)\n",
    "results = model.train(\n",
    "        imgsz=1920,\n",
    "        rect=True,\n",
    "        epochs=200,\n",
    "        batch=-1,\n",
    "        patience=20,\n",
    "        name=updated_model_name\n",
    "    )"
   ]
  }
 ],
 "metadata": {
  "kernelspec": {
   "display_name": ".venv",
   "language": "python",
   "name": "python3"
  },
  "language_info": {
   "codemirror_mode": {
    "name": "ipython",
    "version": 3
   },
   "file_extension": ".py",
   "mimetype": "text/x-python",
   "name": "python",
   "nbconvert_exporter": "python",
   "pygments_lexer": "ipython3",
   "version": "3.10.12"
  }
 },
 "nbformat": 4,
 "nbformat_minor": 2
}
