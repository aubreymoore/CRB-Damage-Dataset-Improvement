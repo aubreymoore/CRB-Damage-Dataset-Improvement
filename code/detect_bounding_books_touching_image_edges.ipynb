{
 "cells": [
  {
   "cell_type": "code",
   "execution_count": 50,
   "metadata": {},
   "outputs": [],
   "source": [
    "import fiftyone as fo\n",
    "from icecream import ic"
   ]
  },
  {
   "cell_type": "code",
   "execution_count": 51,
   "metadata": {},
   "outputs": [],
   "source": [
    "dataset = fo.load_dataset('dataset5')"
   ]
  },
  {
   "cell_type": "code",
   "execution_count": 52,
   "metadata": {},
   "outputs": [],
   "source": [
    "# Find ground truth bounding boxes which touch the left, right, or top edge of image\n",
    "\n",
    "for sample in dataset:\n",
    "    for x in sample['ground_truth']['detections']:\n",
    "        x,y,w,h = x['bounding_box']\n",
    "        if x <= 0.0:\n",
    "            ic(f'sample {sample.id} contains a bb touching the left edge')\n",
    "        if y <= 0.0:\n",
    "            ic(f'sample {sample.id} contains a bb touching the top edge')\n",
    "        if x + w >= 1.0:\n",
    "            ic(f'sample {sample.id} contains a bb touching the right edge')"
   ]
  }
 ],
 "metadata": {
  "kernelspec": {
   "display_name": ".venv",
   "language": "python",
   "name": "python3"
  },
  "language_info": {
   "codemirror_mode": {
    "name": "ipython",
    "version": 3
   },
   "file_extension": ".py",
   "mimetype": "text/x-python",
   "name": "python",
   "nbconvert_exporter": "python",
   "pygments_lexer": "ipython3",
   "version": "3.10.12"
  }
 },
 "nbformat": 4,
 "nbformat_minor": 2
}
