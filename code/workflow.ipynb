{
 "cells": [
  {
   "cell_type": "markdown",
   "metadata": {},
   "source": [
    "# create_new_dataset.ipynb\n",
    "\n",
    "This notebook implements my workflow for fine tuning a YOLOv8 object detection model which\n",
    "detects coconut rhinoceros beetle damage in coconut palms.\n",
    "\n",
    "# Installation\n",
    "\n",
    "Clone the repo\n",
    "```\n",
    "git clone https://github.com/aubreymoore/CRB-Damage-Dataset-Improvement\n",
    "```\n",
    "\n",
    "Move to the new folder\n",
    "```\n",
    "cd CRB-Damage-Dataset-Improvement\n",
    "```\n",
    "\n",
    "Create a virtual environment\n",
    "```\n",
    "python3 -m venv .venv\n",
    "```\n",
    "\n",
    "Activate the new virtual environment\n",
    "```\n",
    "source venv/bin/activate\n",
    "```\n",
    "\n",
    "Install required python modules\n",
    "```\n",
    "pip install -r code/requirements.txt\n",
    "```\n",
    "\n",
    "Create a .gitignore file and add .venv to the list of files and folders to be ignored.\n",
    "Adding a virtual environmant to a repository is bad practice.\n",
    "```\n",
    "echo \".venv\" >> .gitignore\n",
    "```\n",
    "\n",
    "# References\n",
    "\n",
    "https://pybit.es/articles/a-better-place-to-put-your-python-virtual-environments/\n",
    "\n",
    "[Image Deduplication](https://github.com/voxel51/fiftyone-examples/blob/master/examples/image_deduplication.ipynb)\n",
    "\n",
    "[CVAT <> FiftyOne: Data-Centric Machine Learning with Two Open Source Tools](https://www.cvat.ai/post/data-centric)\n",
    "\n",
    "[FiftyOne - Ultralytics Integration](https://docs.voxel51.com/integrations/ultralytics.html)\n",
    "\n",
    "[Finding Detection Mistakes with FiftyOne](https://docs.voxel51.com/tutorials/detection_mistakes.html)\n",
    "\n",
    "[Fine-tune YOLOv8 models for custom use cases with the help of FiftyOne](https://docs.voxel51.com/tutorials/yolov8.html)\n",
    "\n",
    "[FiftyOne Brain](https://docs.voxel51.com/brain.html)\n",
    "\n",
    "[Tracking Datasets in FiftyOne](https://voxel51.com/blog/tracking-datasets-in-fiftyone/)"
   ]
  },
  {
   "cell_type": "markdown",
   "metadata": {},
   "source": []
  },
  {
   "cell_type": "code",
   "execution_count": 1,
   "metadata": {},
   "outputs": [],
   "source": [
    "import os\n",
    "import shutil\n",
    "import glob\n",
    "import fiftyone as fo\n",
    "import fiftyone.brain as fob\n",
    "import fiftyone.zoo as foz\n",
    "from fiftyone import ViewField as F\n",
    "import logging\n",
    "import sys\n",
    "from icecream import ic\n",
    "from datetime import datetime\n",
    "import numpy as np\n",
    "from numpy.linalg import norm\n",
    "from ultralytics import YOLO\n",
    "import glob\n",
    "import ipywidgets as widgets\n",
    "from time import sleep\n",
    "import pandas as pd\n",
    "from IPython.display import display"
   ]
  },
  {
   "cell_type": "code",
   "execution_count": 2,
   "metadata": {},
   "outputs": [],
   "source": [
    "def create_timestamp_for_filename():\n",
    "    \"\"\" \n",
    "    Returns current time formated for use in creating a new file path.\n",
    "    Formatted as '%Y%m%d%H%M'; Example: '202411291648'\n",
    "    \"\"\"\n",
    "    return datetime.strftime(datetime.now(), '%Y%m%d%H%M')\n",
    "\n",
    "# create_timestamp_for_filename()"
   ]
  },
  {
   "cell_type": "code",
   "execution_count": 3,
   "metadata": {},
   "outputs": [],
   "source": [
    "def add_timestamp_field():\n",
    "    dataset.add_sample_field(\"timestamp\", fo.DateTimeField)\n",
    "\n",
    "    for sample in dataset:\n",
    "        timestamp_str = os.path.basename(sample.filepath)[4:-4]\n",
    "        dt = datetime.strptime(timestamp_str, '%Y%m%d_%H%M%S')\n",
    "        # ic(timestamp_str, dt)\n",
    "        sample['timestamp'] = dt\n",
    "        sample.save()\n",
    "    \n",
    "    # Create view  \n",
    "    view = dataset.sort_by(F'timestamp')\n",
    "    dataset.save_view('sorted_by_timestamp', view, overwrite=True)"
   ]
  },
  {
   "cell_type": "code",
   "execution_count": 4,
   "metadata": {},
   "outputs": [],
   "source": [
    "def update_requirements_file():\n",
    "    os.system('pip list --format=freeze > requirements.txt')\n",
    "\n",
    "# update_requirements_file()"
   ]
  },
  {
   "cell_type": "code",
   "execution_count": 5,
   "metadata": {},
   "outputs": [],
   "source": [
    "def create_new_dataset(NONSTANDARD_DATASET_PATH, YOLO_DATASET_PATH):\n",
    "    \"\"\" \n",
    "    \"\"\"\n",
    "    os.mkdir(YOLO_DATASET_PATH)\n",
    "    os.mkdir(f'{YOLO_DATASET_PATH}/images')\n",
    "    os.mkdir(f'{YOLO_DATASET_PATH}/images/train')\n",
    "    os.mkdir(f'{YOLO_DATASET_PATH}/images/val')\n",
    "    os.mkdir(f'{YOLO_DATASET_PATH}/labels')\n",
    "    os.mkdir(f'{YOLO_DATASET_PATH}/labels/train')\n",
    "    os.mkdir(f'{YOLO_DATASET_PATH}/labels/val')\n",
    "    \n",
    "    for filepath in glob.glob(f'{NONSTANDARD_DATASET_PATH}/train/*.jpg'):\n",
    "        shutil.copy2(filepath, f'{YOLO_DATASET_PATH}/images/train')\n",
    "    for filepath in glob.glob(f'{NONSTANDARD_DATASET_PATH}/train/*.txt'):\n",
    "        shutil.copy2(filepath, f'{YOLO_DATASET_PATH}/labels/train')\n",
    "    for filepath in glob.glob(f'{NONSTANDARD_DATASET_PATH}/val/*.jpg'):\n",
    "        shutil.copy2(filepath, f'{YOLO_DATASET_PATH}/images/val')\n",
    "    for filepath in glob.glob(f'{NONSTANDARD_DATASET_PATH}/val/*.txt'):\n",
    "        shutil.copy2(filepath, f'{YOLO_DATASET_PATH}/labels/val')\n",
    "        \n",
    "    s = f'path: {YOLO_DATASET_PATH} \\n'\n",
    "    s += 'train: ./images/train/ \\n'\n",
    "    s += 'val: ./images/val/ \\n'\n",
    "    s += 'names: \\n'\n",
    "    s += '  0: live \\n'\n",
    "    s += '  1: dead \\n'\n",
    "    s += '  2: vcut \\n'\n",
    "    with open(f'{YOLO_DATASET_PATH}/dataset.yaml', 'w') as f:\n",
    "        f.write(s)"
   ]
  },
  {
   "cell_type": "code",
   "execution_count": 6,
   "metadata": {},
   "outputs": [],
   "source": [
    "def yolo2fiftyone(name, dataset_dir, splits=[\"train\", \"val\"]):\n",
    "    \"\"\" \n",
    "    Imports a dataset in YOLO5 format into FiftyOne, using tags to mark the samples in each split\n",
    "    \n",
    "    Arguments:\n",
    "        name - name of FiftyOne dataset to be created \n",
    "        dataset_dir - path to dataset in YOLOv5 format\n",
    "        splits - list of splits to be included   \n",
    "    \"\"\" \n",
    "    dataset = fo.Dataset(name, persistent=True)\n",
    "    for split in splits:\n",
    "        dataset.add_dir(\n",
    "            dataset_dir=dataset_dir,\n",
    "            dataset_type=fo.types.YOLOv5Dataset,\n",
    "            split=split,\n",
    "            tags=split,\n",
    "    )\n",
    "    return dataset\n",
    "\n",
    "# yolo2fiftyone(FO_DATASET_NAME, YOLO_DATASET_PATH)"
   ]
  },
  {
   "cell_type": "code",
   "execution_count": 7,
   "metadata": {},
   "outputs": [],
   "source": [
    "def add_embeddings_field():\n",
    "    \"\"\" \n",
    "    \"\"\" \n",
    "    model = foz.load_zoo_model(\"mobilenet-v2-imagenet-torch\")\n",
    "    dataset.compute_embeddings(model=model, embeddings_field='embeddings')\n",
    "    \n",
    "# add_embeddings_field()"
   ]
  },
  {
   "cell_type": "code",
   "execution_count": 8,
   "metadata": {},
   "outputs": [],
   "source": [
    "def cosine_similarity(a, b):\n",
    "    return np.dot(a,b)/(norm(a)*norm(b))\n",
    " \n",
    "# a = np.array([2,1,2,3,2,9])\n",
    "# b = np.array([3,4,2,4,5,5])\n",
    "# cosine_similarity(a, b)"
   ]
  },
  {
   "cell_type": "code",
   "execution_count": 9,
   "metadata": {},
   "outputs": [],
   "source": [
    "def add_similarity_with_prev_img_field():\n",
    "    \"\"\" \n",
    "    \"\"\"\n",
    "    view = dataset.load_saved_view('sorted_by_timestamp')\n",
    "    # thresh = 0.92\n",
    "    first_sample = True\n",
    "    for sample in view:\n",
    "        if first_sample:\n",
    "            current_embeddings = sample.embeddings\n",
    "            similarity = 0.0\n",
    "            first_sample = False\n",
    "        else:\n",
    "            previous_embeddings = current_embeddings\n",
    "            current_embeddings = sample.embeddings\n",
    "            similarity = cosine_similarity(previous_embeddings, current_embeddings)\n",
    "        sample['similarity_with_prev_img'] = similarity\n",
    "        # if similarity > thresh:\n",
    "        #     sample.tags.append(f'similarity>{thresh}')\n",
    "        # else:\n",
    "        #     sample.tags.append('similarity OK') \n",
    "        sample.save()"
   ]
  },
  {
   "cell_type": "code",
   "execution_count": 10,
   "metadata": {},
   "outputs": [],
   "source": [
    "def add_predictions_field():\n",
    "    \"\"\" \n",
    "    \"\"\"\n",
    "    # Load YOLOv8 model\n",
    "    # from ultralytics import YOLO\n",
    "    model = YOLO(WEIGHTS)\n",
    "    dataset.apply_model(model, label_field=\"yolo\")\n",
    "    \n",
    "# add_predictions_field()"
   ]
  },
  {
   "cell_type": "code",
   "execution_count": 11,
   "metadata": {},
   "outputs": [],
   "source": [
    "def add_mistakenness_field():\n",
    "    \"\"\" \n",
    "    Adds mistakenness, possible_missing and possible_spurious fields.\n",
    "    See docs at https://docs.voxel51.com/brain.html#label-mistakes for details.\n",
    "    \"\"\"\n",
    "    fob.compute_mistakenness(dataset, \"yolo\", label_field=\"ground_truth\")  \n",
    "    \n",
    "# add_mistakenness_field() "
   ]
  },
  {
   "cell_type": "code",
   "execution_count": 12,
   "metadata": {},
   "outputs": [],
   "source": [
    "def add_field(fieldname, func):\n",
    "    \"\"\" \n",
    "    This utility function checks for existence of a field in a dataset.\n",
    "    If the field does not exist it is added by running func.\n",
    "    \"\"\"\n",
    "    if dataset.get_field(fieldname):\n",
    "        logger.info(f'\"{fieldname}\" field already exists')\n",
    "    else:\n",
    "        logger.info(f'Adding \"{fieldname}\" field')\n",
    "        func()\n",
    "\n",
    "# def add_new_field():\n",
    "#     \"\"\" \n",
    "#     Code for adding a field named 'new' should be inserted in this function.\n",
    "#     \"\"\"\n",
    "#     pass\n",
    "    \n",
    "# add_field('new', add_new_field)"
   ]
  },
  {
   "cell_type": "code",
   "execution_count": 13,
   "metadata": {},
   "outputs": [],
   "source": [
    "def create_autocorrelated_images_view(threshold, delete=False):\n",
    "    \"\"\" \n",
    "    \"\"\"\n",
    "    dataset = fo.load_dataset(FO_DATASET_NAME)\n",
    "    sorted_by_timestamp_view = dataset.load_saved_view('sorted_by_timestamp')\n",
    "    view = sorted_by_timestamp_view.match(\n",
    "        F('similarity_with_prev_img') > threshold)\n",
    "    dataset.save_view(\"autocorrelated_images_view\", view, overwrite=True)\n",
    "    count = view.count()\n",
    "    \n",
    "    if delete:\n",
    "        dataset.delete_samples(view) \n",
    "        dataset.save()\n",
    "     \n",
    "    return count\n",
    "  \n",
    "# create_autocorrelated_images_view(0.98, True)"
   ]
  },
  {
   "cell_type": "code",
   "execution_count": 14,
   "metadata": {},
   "outputs": [],
   "source": [
    "def count_ground_truth_bbs(dataset):\n",
    "    total_detections = 0\n",
    "    for sample in dataset:\n",
    "        total_detections += len(sample.ground_truth.detections)\n",
    "    return total_detections\n",
    "\n",
    "# count_ground_truth_bbs()"
   ]
  },
  {
   "cell_type": "code",
   "execution_count": 15,
   "metadata": {},
   "outputs": [],
   "source": [
    "def create_bb_touching_edge_view(delete=False):\n",
    "    \"\"\" \n",
    "    Find, tag and optionally delete ground truth bounding boxes which are touching\n",
    "    or almost touching the left, top or right edge of the image.    \n",
    "    \n",
    "    Reference:\n",
    "        https://docs.voxel51.com/recipes/remove_duplicate_annos.html\n",
    "    \"\"\"\n",
    "    dataset = fo.load_dataset(FO_DATASET_NAME)\n",
    "    view = dataset.filter_labels('ground_truth', \n",
    "        (F('bounding_box')[0] <= 0.001) | # left\n",
    "        (F('bounding_box')[1] <= 0.001) | # top\n",
    "        ((F('bounding_box')[0] + F('bounding_box')[3]) >= 0.999) # right\n",
    "    )\n",
    "    count = view.count()\n",
    "    view.tag_labels('bb touching edge')   \n",
    "    dataset.save_view('bb_touching_edge', view, overwrite=True) \n",
    "            \n",
    "    if delete:\n",
    "        dataset.delete_labels(tags=\"bb touching edge\")\n",
    "         \n",
    "    dataset.save()\n",
    "            \n",
    "    return  count\n",
    "\n",
    "# create_bb_touching_edge_view(delete=True)"
   ]
  },
  {
   "cell_type": "code",
   "execution_count": 16,
   "metadata": {},
   "outputs": [],
   "source": [
    "def remove_unannotated_images(yolo5_dataset_path: str) -> int:\n",
    "    \"\"\" \n",
    "    Removes unannoted images from a YOLO5 data set\n",
    "    Arguments:\n",
    "        yolo5_dataset_path -- absolute path for the YOLO5 dataset\n",
    "    Returns:\n",
    "        count -- number of image (*.jpg) and annotation file pairs removed\n",
    "    \"\"\" \n",
    "    search_str = f'{yolo5_dataset_path}/**/*.txt'\n",
    "    txt_paths = glob.glob(search_str, recursive=True)\n",
    "    count = 0\n",
    "    for txt_path in txt_paths:\n",
    "        if os.path.getsize(txt_path) == 0:\n",
    "            img_path = txt_path.replace('labels', 'images').replace('.txt', '.jpg')\n",
    "            os.remove(txt_path)\n",
    "            os.remove(img_path)\n",
    "            count += 1\n",
    "    return count\n",
    "\n",
    "# remove_unannotated_images(\n",
    "#     yolo5_dataset_path='/home/aubrey/myexport')"
   ]
  },
  {
   "cell_type": "code",
   "execution_count": 17,
   "metadata": {},
   "outputs": [],
   "source": [
    "def export_51_to_YOLO(dataset_name: str, \n",
    "                      export_dir: str, \n",
    "                      remove_unannotated: bool) -> int:\n",
    "    \"\"\"\n",
    "    Export a dataset from 51 format to YOLO5 format.\n",
    "    Optionally, unannotated images will be removed from the export_dir.\n",
    "    \n",
    "    Arguments:\n",
    "    dataset_name -- a saved (persistent) 51 dataset (the dataset to be exported)\n",
    "    export_dir -- absolute destination path for the YOLO5 dataset. Should be given a new dataset name.\n",
    "    remove_unannoted -- if True, unannotated images (images containing no detected objects) are removed from the new YOLO5 dataset\n",
    "\n",
    "    Reference https://docs.voxel51.com/user_guide/export_datasets.html#yolov5dataset\n",
    "    \"\"\"\n",
    "    label_field = \"ground_truth\"\n",
    "\n",
    "    # The splits to export\n",
    "    splits = [\"train\", \"val\"]\n",
    "\n",
    "    # All splits must use the same classes list\n",
    "    classes = [\"live\", \"dead\", \"vcut\"]\n",
    "\n",
    "    # The dataset or view to export\n",
    "    # We assume the dataset uses sample tags to encode the splits to export\n",
    "    dataset_or_view = fo.load_dataset(dataset_name)\n",
    "\n",
    "    # Export the splits\n",
    "    for split in splits:\n",
    "        split_view = dataset_or_view.match_tags(split)\n",
    "        split_view.export(\n",
    "            export_dir=export_dir,\n",
    "            dataset_type=fo.types.YOLOv5Dataset,\n",
    "            label_field=label_field,\n",
    "            split=split,\n",
    "            classes=classes,\n",
    "        )\n",
    "        \n",
    "    # Remove unannotated images (optional)\n",
    "    images_removed = 0\n",
    "    if remove_unannotated:\n",
    "        images_removed = remove_unannotated_images(\n",
    "            yolo5_dataset_path=export_dir)\n",
    "    return images_removed     \n",
    "\n",
    "# export_51_to_YOLO(\n",
    "#     dataset_name='Guam07v4', \n",
    "#     export_dir='/home/aubrey/crb_damage_detector_data/datasets/Guam07v5', \n",
    "#     remove_unannotated=True)"
   ]
  },
  {
   "cell_type": "code",
   "execution_count": 18,
   "metadata": {},
   "outputs": [],
   "source": [
    "def train_model(yaml_path):\n",
    "    model = YOLO()\n",
    "    results = model.train(\n",
    "        data = yaml_path,\n",
    "        imgsz=1920,\n",
    "        rect=True,\n",
    "        epochs=1000,\n",
    "        batch=-1,\n",
    "        patience=50,\n",
    "        name='yolo11n.pt',\n",
    "        save_dir=f'{DATAPATH}/runs/{create_timestamp_for_filename()}'\n",
    "    )\n",
    "\n",
    "# train_model()"
   ]
  },
  {
   "cell_type": "code",
   "execution_count": 19,
   "metadata": {},
   "outputs": [],
   "source": [
    "def launch_cvat(anno_key_suffix: str, view) -> str:\n",
    "    \"\"\" \n",
    "    Saves a FiftyOne view in CVAT and launches the CVAT annotator\n",
    "    \n",
    "    Arguments:\n",
    "    anno_key_suffix - string     \n",
    "    view - the view to be imported into CVAT\n",
    "    \n",
    "    Result:\n",
    "    \n",
    "    anno_key - a unique string in the form of myview-2024-11-27-16:57\n",
    "    \"\"\"\n",
    "    timestamp = datetime.strftime(datetime.now(), '%Y%m%d%H%M')\n",
    "    anno_key = f'{anno_key_suffix}_{timestamp}'\n",
    "    view.annotate(\n",
    "        anno_key= anno_key,\n",
    "        label_field=\"ground_truth\", \n",
    "        launch_editor=True\n",
    "    )\n",
    "    return anno_key\n",
    "    \n",
    "# launch_cvat('mistakes', session.view)\n"
   ]
  },
  {
   "cell_type": "code",
   "execution_count": 20,
   "metadata": {},
   "outputs": [],
   "source": [
    "def configure_logger(LOGFILE):\n",
    "    \"\"\"\n",
    "    Configure logger to send messages to notebook and LOGFILE\n",
    "    \"\"\"\n",
    "    logging.root.handlers = []\n",
    "    logging.basicConfig(\n",
    "        level=logging.INFO, \n",
    "        format='%(asctime)s %(message)s',\n",
    "        datefmt='%Y-%m-%d %H:%M:%S',\n",
    "        handlers=[\n",
    "            logging.FileHandler(filename=LOGFILE),\n",
    "            logging.StreamHandler(sys.stdout)\n",
    "        ]\n",
    "    )\n",
    "    logger = logging.getLogger()\n",
    "    return logger"
   ]
  },
  {
   "cell_type": "code",
   "execution_count": 21,
   "metadata": {},
   "outputs": [],
   "source": [
    "def get_latest_weights_path():\n",
    "    \"\"\" \n",
    "    \"\"\"\n",
    "    search_str = f'{DATAPATH}/runs/[0-9][0-9][0-9][0-9][0-9][0-9][0-9][0-9][0-9][0-9][0-9][0-9]'\n",
    "    runs_list = glob.glob(search_str)\n",
    "    latest_run = sorted(runs_list, reverse=True)[0]\n",
    "    latest_weights_path = f'{latest_run}/weights/best.pt'\n",
    "    return latest_weights_path"
   ]
  },
  {
   "cell_type": "code",
   "execution_count": 22,
   "metadata": {},
   "outputs": [],
   "source": [
    "def get_latest_yaml_path():\n",
    "    \"\"\" \n",
    "    \"\"\"\n",
    "    search_str = f'{DATAPATH}/datasets/[0-9][0-9][0-9][0-9][0-9][0-9][0-9][0-9][0-9][0-9][0-9][0-9]'\n",
    "    datasets_list = glob.glob(search_str)\n",
    "    latest_dataset = sorted(datasets_list, reverse=True)[0]\n",
    "    latest_yaml_path = f'{latest_dataset}/dataset.yaml'\n",
    "    return latest_yaml_path"
   ]
  },
  {
   "cell_type": "code",
   "execution_count": 23,
   "metadata": {},
   "outputs": [],
   "source": [
    "def get_latest_51_dataset():\n",
    "    \"\"\" \n",
    "    Returns latest FiftyOne dataset which is named with a time stamp like '202412031148'\n",
    "    \"\"\"\n",
    "    datasets = []\n",
    "    for ds in fo.list_datasets():\n",
    "        if ds.isnumeric(): \n",
    "            datasets.append(ds)\n",
    "    latest_51_dataset = sorted(datasets, reverse=True)[0]\n",
    "    return latest_51_dataset\n",
    "\n",
    "# get_latest_51_dataset()"
   ]
  },
  {
   "cell_type": "code",
   "execution_count": 24,
   "metadata": {},
   "outputs": [],
   "source": [
    "def retrain_model():\n",
    "    \"\"\" \n",
    "    \"\"\"\n",
    "    model = YOLO(latest_weights_path)\n",
    "    results = model.train(\n",
    "            data=latest_yaml_path,\n",
    "            imgsz=1920,\n",
    "            rect=True,\n",
    "            epochs=1000,\n",
    "            batch=-1,\n",
    "            patience=200,\n",
    "            save_dir=f'{DATAPATH}/runs',\n",
    "            name=create_timestamp_for_filename()\n",
    "        )"
   ]
  },
  {
   "cell_type": "code",
   "execution_count": 25,
   "metadata": {},
   "outputs": [],
   "source": [
    "def delete_tagged_bounding_boxes(dataset_name):\n",
    "    \"\"\" \n",
    "    Deletes labels (bounding boxes) that are tagged with 'delete'\n",
    "    \"\"\"\n",
    "    dataset = fo.load_dataset(dataset_name)\n",
    "    count_before = dataset.count_label_tags()\n",
    "    dataset.delete_labels(tags='delete')\n",
    "    count_after = dataset.count_label_tags()\n",
    "    dataset.save()\n",
    "    return count_before, count_after\n",
    "\n",
    "# dataset_name = get_latest_51_dataset()    \n",
    "# delete_tagged_bounding_boxes(dataset_name)"
   ]
  },
  {
   "cell_type": "code",
   "execution_count": 26,
   "metadata": {},
   "outputs": [],
   "source": [
    "def get_best_pt_metadata(datapath):\n",
    "    \"\"\" \n",
    "    Gets training results corresponding to model weights stored in best.pt files.\n",
    "    Note that at the end of training, \"best\" weights are selected by identifying the epoch which produces maximum \"fitness\"\n",
    "    where fitness is: \n",
    "        0.9 * \"mAP50\" + 0.1 * \"mAP50-95\"\n",
    "    Reference: \n",
    "        https://github.com/ultralytics/ultralytics/issues/3972\n",
    "        \n",
    "    Returns a pandas dataframe\n",
    "    \"\"\"\n",
    "    search_str = f'{datapath}/runs/[0-9][0-9][0-9][0-9][0-9][0-9][0-9][0-9][0-9][0-9][0-9][0-9]/results.csv'\n",
    "    csv_paths = sorted(glob.glob(search_str))\n",
    "    dict_list = []\n",
    "    for i, csv_path in enumerate(csv_paths):\n",
    "        df = pd.read_csv(csv_path)\n",
    "\n",
    "        # add columns\n",
    "        df['fitness'] =  0.9*df['metrics/mAP50-95(B)'] + 0.1*df['metrics/mAP50(B)']\n",
    "        df['run_id'] = csv_path.split('/')[-2]\n",
    "        \n",
    "        # get row where fitness is maximum, convert to a dict and add to dict_list\n",
    "        dict_list.append(df.iloc[df['fitness'].idxmax()].to_dict())\n",
    "    return pd.DataFrame.from_dict(dict_list)  \n",
    "\n",
    "# get_best_pt_metadata()  "
   ]
  },
  {
   "cell_type": "markdown",
   "metadata": {},
   "source": [
    "```\n",
    "if YOLO_DATASET_PATH exists:\n",
    "    continue\n",
    "else:\n",
    "    create_new_dataset(NONSTANDARD_DATASET_PATH, YOLO_DATASET_PATH)\n",
    "\n",
    "if FO_DATASET_NAME exists:\n",
    "    continue\n",
    "else:\n",
    "    yolo2fiftyone(name=FO_DATASET_NAME, dataset_dir=YOLO_DATASET_PATH)\n",
    "    \n",
    "dataset = fo.load_dataset(FO_DATASET_NAME)\n",
    "\n",
    "# Add sample fields if they don't already exist\n",
    "add_field('timestamp', add_timestamp_field)\n",
    "add_field('embeddings', add_embeddings_field)\n",
    "add_field('similarity_with_prev_img', add_similarity_with_prev_img_field)\n",
    "add_field('yolov8', add_predictions_field)\n",
    "add_field('mistakenness', add_mistakenness_field)\n",
    "\n",
    "if 'bb_touching_edge' in dataset.list_saved_views():\n",
    "    continue\n",
    "else:\n",
    "    create_bb_touching_edge_view(DELETE_BBS_TOUCHING_EDGES)\n",
    "\n",
    "if 'autocorrelated_images_view' in dataset.list_saved_views():\n",
    "    continue\n",
    "else:\n",
    "    create_autocorrelated_images_view(AUTOCORRELATED_IMAGES_THRESHOLD, DELETE_AUTOCORRELATED_IMAGES)\n",
    "\n",
    "if RETRAIN_MODEL:\n",
    "    export_51_to_YOLO()\n",
    "    train_model()\n",
    "else:\n",
    "    continue\n",
    "\n",
    "if LAUNCH_51:\n",
    "    dataset = fo.load_dataset(FO_DATASET_NAME)\n",
    "    session = fo.launch_app(dataset, auto=False)\n",
    "```"
   ]
  },
  {
   "cell_type": "code",
   "execution_count": 27,
   "metadata": {},
   "outputs": [],
   "source": [
    "# # MAIN\n",
    "\n",
    "# # Start of constants #############################################################################\n",
    "\n",
    "# DATAPATH = '/home/aubrey/crb_damage_detector_data'\n",
    "\n",
    "# # path to dataset nonstandard format (images and labels in same folders). Not normally used.\n",
    "# NONSTANDARD_DATASET_PATH = None\n",
    "\n",
    "# # path to latest dataset in YOLOv5 format\n",
    "# YOLO_DATASET_PATH = '/home/aubrey/crb_damage_detector_data/datasets/20241128_1648'\n",
    "\n",
    "# # path to latest weights file\n",
    "# WEIGHTS = '/home/aubrey/crb_damage_detector_data/runs/20241128_1657/weights/best.pt'\n",
    "\n",
    "# # name of FiftyOne dataset\n",
    "# FO_DATASET_NAME = '20241128_1648'\n",
    "\n",
    "# # file name for log file saved in the same folder as this notebook\n",
    "# LOGFILE = f'{FO_DATASET_NAME}.log'\n",
    "\n",
    "# # Arguments for create_autocorrelated_images_view function.\n",
    "# AUTOCORRELATED_IMAGES_THRESHOLD = 0.98\n",
    "# DELETE_AUTOCORRELATED_IMAGES = True\n",
    "\n",
    "# # Argument for create_autocorrelated_images_view function\n",
    "# DELETE_BBS_TOUCHING_EDGES = True\n",
    "\n",
    "# # Option to retrain model. Usually FALSE.\n",
    "# RETRAIN_MODEL = False\n",
    "\n",
    "# # Option to launch the FiftyOne app in a browser at end of workflow. Usually True.\n",
    "# LAUNCH_51 = True\n",
    "\n",
    "# # End of constants ########################################################################\n",
    "\n",
    "# #configure logger\n",
    "# logger = configure_logger(LOGFILE)\n",
    "\n",
    "# # update requirements.txt\n",
    "# logger.info('Updating \"requirements.txt\"')\n",
    "# update_requirements_file()\n",
    "\n",
    "# # # wrangle dataset into YOLOv5 format\n",
    "# # if os.path.exists(YOLO_DATASET_PATH):\n",
    "# #     logger.info(f'\"{YOLO_DATASET_PATH}\" already exists in YOLOv5 format')\n",
    "# # else:\n",
    "# #     logger.info(f'creating dataset \"{YOLO_DATASET_PATH}\" in YOLOv5 format')\n",
    "# #     create_new_dataset(NONSTANDARD_DATASET_PATH, YOLO_DATASET_PATH)\n",
    "\n",
    "# # Create new FiftyOne dataset\n",
    "# if FO_DATASET_NAME in fo.list_datasets():\n",
    "#     logger.info(f'FiftyOne dataset \"{FO_DATASET_NAME}\" already exists') \n",
    "# else:\n",
    "#     logger.info(f'Creating FiftyOne dataset \"{FO_DATASET_NAME}\"')\n",
    "#     dataset = yolo2fiftyone(name=FO_DATASET_NAME, dataset_dir=YOLO_DATASET_PATH)\n",
    "    \n",
    "# # Load dataset\n",
    "# logger.info(f'Loading FiftyOne dataset \"{FO_DATASET_NAME}\"')\n",
    "# dataset = fo.load_dataset(FO_DATASET_NAME)\n",
    "# logger.info(f'    Ground truth bounding boxes: {count_ground_truth_bbs(dataset)}')\n",
    "\n",
    "# # Add fields if they don't already exist\n",
    "# add_field('timestamp', add_timestamp_field)\n",
    "# add_field('embeddings', add_embeddings_field)\n",
    "# add_field('similarity_with_prev_img', add_similarity_with_prev_img_field)\n",
    "# add_field('yolov8', add_predictions_field)\n",
    "# add_field('mistakenness', add_mistakenness_field)\n",
    "\n",
    "# # Find bounding boxes touching left, top or right edges of images\n",
    "# if 'bb_touching_edge' in dataset.list_saved_views():\n",
    "#     logger.info('\"bb_touching_edge_view\" already exists')\n",
    "# else:\n",
    "#     logger.info('Creating \"bb_touching_edge_view\"')\n",
    "#     if DELETE_BBS_TOUCHING_EDGES:\n",
    "#         logger.info('    \"DELETE_BBS_TOUCHING_EDGES\" is True; bbs will be deleted')\n",
    "#     else:\n",
    "#         logger.info('    \"DELETE_BBS_TOUCHING_EDGES\" is False; bbs will not be deleted')\n",
    "#     bb_touching_edge_count = create_bb_touching_edge_view(DELETE_BBS_TOUCHING_EDGES)\n",
    "#     logger.info(f'    {bb_touching_edge_count} ground truth bounding boxes touching image edges were found')\n",
    "\n",
    "# # Find autocorrelated images\n",
    "# if 'autocorrelated_images_view' in dataset.list_saved_views():\n",
    "#     logger.info('\"autocorrelated_images_view\" already exists')\n",
    "# else:\n",
    "#     logger.info('Creating \"autocorrelated_images_view\"')\n",
    "#     if DELETE_BBS_TOUCHING_EDGES:\n",
    "#         logger.info('    \"DELETE_AUTOCORRELATED_IMAGES\" is True; samples will be deleted')\n",
    "#     else:\n",
    "#         logger.info('    \"DELETE_AUTOCORRELATED_IMAGES\" is False; bbs will not be deleted')\n",
    "#     autocorrelated_image_count = create_autocorrelated_images_view(\n",
    "#         threshold=AUTOCORRELATED_IMAGES_THRESHOLD, delete=DELETE_AUTOCORRELATED_IMAGES)\n",
    "#     logger.info(f'    With a threshold of {AUTOCORRELATED_IMAGES_THRESHOLD}, {autocorrelated_image_count} autocorrelated images were found')\n",
    "\n",
    "# if RETRAIN_MODEL:\n",
    "#     export_51_to_YOLO(\n",
    "#         dataset_name='Guam07v3', \n",
    "#         export_dir='/home/aubrey/myexport', \n",
    "#         remove_unannotated=True)\n",
    "#     train_model()\n",
    "\n",
    "# if LAUNCH_51:\n",
    "    \n",
    "#     # Reload dataset\n",
    "#     logger.info(f'Loading FiftyOne dataset \"{FO_DATASET_NAME}\"')\n",
    "#     dataset = fo.load_dataset(FO_DATASET_NAME)\n",
    "#     logger.info(f'    Ground truth bounding boxes: {count_ground_truth_bbs(dataset)}')\n",
    "\n",
    "#     # Launch FiftyOne app in browser\n",
    "#     logger.info(f'Launching FifyOne app in browser')\n",
    "#     session = fo.launch_app(dataset, auto=False)\n",
    "#     logger.info(session)\n",
    "\n",
    "# logger.info('FINISHED')"
   ]
  },
  {
   "cell_type": "code",
   "execution_count": 28,
   "metadata": {},
   "outputs": [],
   "source": [
    "def annotate_with_cvat(saved_view: str):\n",
    "    \"\"\" \n",
    "    Create annotation tasks for images in view\n",
    "    Reference: https://docs.voxel51.com/user_guide/annotation.html\n",
    "    The CVAT app should appear, loaded with images to be annotated.\n",
    "    When finished with annotations, merge back into the 51 dataset using \n",
    "    merge_cvat_annotations().\n",
    "    \"\"\"\n",
    "    anno_key = \"x\"\n",
    "    view = dataset.load_saved_view(saved_view)\n",
    "    view = dataset.filter_labels(\"ground_truth\", F(\"mistakenness\") > 0.338)\n",
    "    view.annotate(anno_key, label_field=\"ground_truth\", launch_editor=True)\n",
    "    # print(dataset.get_annotation_info(anno_key))\n",
    "  \n",
    "# annotate_with_cvat('mistakenness > 0.338')"
   ]
  },
  {
   "cell_type": "code",
   "execution_count": 29,
   "metadata": {},
   "outputs": [],
   "source": [
    "def merge_cvat_annotations():\n",
    "    \"\"\"\n",
    "    Merge the annotations back into FiftyOne\n",
    "    Reference: https://docs.voxel51.com/user_guide/annotation.html\n",
    "    \"\"\"\n",
    "    anno_key = \"x\"\n",
    "    dataset.load_annotations(anno_key)\n",
    "\n",
    "    # Load the view that was annotated in the App\n",
    "    view = dataset.load_annotation_view(anno_key)\n",
    "    session = fo.launch_app(view=view, auto=False)\n",
    "\n",
    "    # Cleanup\n",
    "\n",
    "    # Delete tasks from CVAT\n",
    "    results = dataset.load_annotation_results(anno_key)\n",
    "    results.cleanup()\n",
    "\n",
    "    # Delete run record (not the labels) from FiftyOne\n",
    "    dataset.delete_annotation_run(anno_key)\n",
    "    \n",
    "# merge_cvat_annotations()"
   ]
  },
  {
   "cell_type": "code",
   "execution_count": 30,
   "metadata": {},
   "outputs": [],
   "source": [
    "def create_mistakenness_338_view():\n",
    "    view = dataset.match(F(\"mistakenness\") > 0.338)\n",
    "    dataset.save_view('mistakenness > 0.338', view, overwrite=True) \n",
    "\n",
    "# create_mistakenness_338_view()"
   ]
  },
  {
   "cell_type": "code",
   "execution_count": null,
   "metadata": {},
   "outputs": [],
   "source": []
  },
  {
   "cell_type": "code",
   "execution_count": null,
   "metadata": {},
   "outputs": [
    {
     "name": "stdout",
     "output_type": "stream",
     "text": [
      "2024-12-13 14:37:42 Updating \"requirements.txt\"\n"
     ]
    },
    {
     "data": {
      "application/vnd.jupyter.widget-view+json": {
       "model_id": "6618141b53eb44ada9e2371fe826d624",
       "version_major": 2,
       "version_minor": 0
      },
      "text/plain": [
       "Box(children=(Button(description='import latest yolo dataset into 51', style=ButtonStyle()), Button(descriptio…"
      ]
     },
     "metadata": {},
     "output_type": "display_data"
    },
    {
     "name": "stdout",
     "output_type": "stream",
     "text": [
      "2024-12-13 14:38:07 Executing train_model() with the following parameter:\n",
      "2024-12-13 14:38:07    yaml_path=/home/aubrey/crb_damage_detector_data/datasets/202412131431/dataset.yaml\n",
      "New https://pypi.org/project/ultralytics/8.3.49 available 😃 Update with 'pip install -U ultralytics'\n",
      "Ultralytics 8.3.38 🚀 Python-3.10.12 torch-2.5.1+cu124 CUDA:0 (NVIDIA GeForce RTX 3080 Laptop GPU, 16110MiB)\n",
      "\u001b[34m\u001b[1mengine/trainer: \u001b[0mtask=detect, mode=train, model=yolo11n.pt, data=/home/aubrey/crb_damage_detector_data/datasets/202412131431/dataset.yaml, epochs=1000, time=None, patience=50, batch=-1, imgsz=1920, save=True, save_period=-1, cache=False, device=None, workers=8, project=None, name=yolo11n.pt6, exist_ok=False, pretrained=True, optimizer=auto, verbose=True, seed=0, deterministic=True, single_cls=False, rect=True, cos_lr=False, close_mosaic=10, resume=False, amp=True, fraction=1.0, profile=False, freeze=None, multi_scale=False, overlap_mask=True, mask_ratio=4, dropout=0.0, val=True, split=val, save_json=False, save_hybrid=False, conf=None, iou=0.7, max_det=300, half=False, dnn=False, plots=True, source=None, vid_stride=1, stream_buffer=False, visualize=False, augment=False, agnostic_nms=False, classes=None, retina_masks=False, embed=None, show=False, save_frames=False, save_txt=False, save_conf=False, save_crop=False, show_labels=True, show_conf=True, show_boxes=True, line_width=None, format=torchscript, keras=False, optimize=False, int8=False, dynamic=False, simplify=True, opset=None, workspace=None, nms=False, lr0=0.01, lrf=0.01, momentum=0.937, weight_decay=0.0005, warmup_epochs=3.0, warmup_momentum=0.8, warmup_bias_lr=0.1, box=7.5, cls=0.5, dfl=1.5, pose=12.0, kobj=1.0, nbs=64, hsv_h=0.015, hsv_s=0.7, hsv_v=0.4, degrees=0.0, translate=0.1, scale=0.5, shear=0.0, perspective=0.0, flipud=0.0, fliplr=0.5, bgr=0.0, mosaic=1.0, mixup=0.0, copy_paste=0.0, copy_paste_mode=flip, auto_augment=randaugment, erasing=0.4, crop_fraction=1.0, cfg=None, tracker=botsort.yaml, save_dir=/home/aubrey/label-studio-ml-backend/runs/detect/yolo11n.pt6\n",
      "Overriding model.yaml nc=80 with nc=3\n",
      "\n",
      "                   from  n    params  module                                       arguments                     \n",
      "  0                  -1  1       464  ultralytics.nn.modules.conv.Conv             [3, 16, 3, 2]                 \n",
      "  1                  -1  1      4672  ultralytics.nn.modules.conv.Conv             [16, 32, 3, 2]                \n",
      "  2                  -1  1      6640  ultralytics.nn.modules.block.C3k2            [32, 64, 1, False, 0.25]      \n",
      "  3                  -1  1     36992  ultralytics.nn.modules.conv.Conv             [64, 64, 3, 2]                \n",
      "  4                  -1  1     26080  ultralytics.nn.modules.block.C3k2            [64, 128, 1, False, 0.25]     \n",
      "  5                  -1  1    147712  ultralytics.nn.modules.conv.Conv             [128, 128, 3, 2]              \n",
      "  6                  -1  1     87040  ultralytics.nn.modules.block.C3k2            [128, 128, 1, True]           \n",
      "  7                  -1  1    295424  ultralytics.nn.modules.conv.Conv             [128, 256, 3, 2]              \n",
      "  8                  -1  1    346112  ultralytics.nn.modules.block.C3k2            [256, 256, 1, True]           \n",
      "  9                  -1  1    164608  ultralytics.nn.modules.block.SPPF            [256, 256, 5]                 \n",
      " 10                  -1  1    249728  ultralytics.nn.modules.block.C2PSA           [256, 256, 1]                 \n",
      " 11                  -1  1         0  torch.nn.modules.upsampling.Upsample         [None, 2, 'nearest']          \n",
      " 12             [-1, 6]  1         0  ultralytics.nn.modules.conv.Concat           [1]                           \n",
      " 13                  -1  1    111296  ultralytics.nn.modules.block.C3k2            [384, 128, 1, False]          \n",
      " 14                  -1  1         0  torch.nn.modules.upsampling.Upsample         [None, 2, 'nearest']          \n",
      " 15             [-1, 4]  1         0  ultralytics.nn.modules.conv.Concat           [1]                           \n",
      " 16                  -1  1     32096  ultralytics.nn.modules.block.C3k2            [256, 64, 1, False]           \n",
      " 17                  -1  1     36992  ultralytics.nn.modules.conv.Conv             [64, 64, 3, 2]                \n",
      " 18            [-1, 13]  1         0  ultralytics.nn.modules.conv.Concat           [1]                           \n",
      " 19                  -1  1     86720  ultralytics.nn.modules.block.C3k2            [192, 128, 1, False]          \n",
      " 20                  -1  1    147712  ultralytics.nn.modules.conv.Conv             [128, 128, 3, 2]              \n",
      " 21            [-1, 10]  1         0  ultralytics.nn.modules.conv.Concat           [1]                           \n",
      " 22                  -1  1    378880  ultralytics.nn.modules.block.C3k2            [384, 256, 1, True]           \n",
      " 23        [16, 19, 22]  1    431257  ultralytics.nn.modules.head.Detect           [3, [64, 128, 256]]           \n",
      "YOLO11n summary: 319 layers, 2,590,425 parameters, 2,590,409 gradients, 6.4 GFLOPs\n",
      "\n",
      "Transferred 448/499 items from pretrained weights\n",
      "Freezing layer 'model.23.dfl.conv.weight'\n",
      "\u001b[34m\u001b[1mAMP: \u001b[0mrunning Automatic Mixed Precision (AMP) checks...\n",
      "\u001b[34m\u001b[1mAMP: \u001b[0mchecks passed ✅\n"
     ]
    },
    {
     "name": "stderr",
     "output_type": "stream",
     "text": [
      "\u001b[34m\u001b[1mtrain: \u001b[0mScanning /home/aubrey/crb_damage_detector_data/datasets/202412131431/labels/train.cache... 6163 images, 0 backgrounds, 0 corrupt: 100%|██████████| 6163/6163 [00:00<?, ?it/s]"
     ]
    },
    {
     "name": "stdout",
     "output_type": "stream",
     "text": [
      "\u001b[34m\u001b[1mAutoBatch: \u001b[0mComputing optimal batch size for imgsz=1920 at 60.0% CUDA memory utilization.\n",
      "\u001b[34m\u001b[1mAutoBatch: \u001b[0mCUDA:0 (NVIDIA GeForce RTX 3080 Laptop GPU) 15.73G total, 0.10G reserved, 0.06G allocated, 15.57G free\n"
     ]
    },
    {
     "name": "stderr",
     "output_type": "stream",
     "text": [
      "\n"
     ]
    },
    {
     "name": "stdout",
     "output_type": "stream",
     "text": [
      "      Params      GFLOPs  GPU_mem (GB)  forward (ms) backward (ms)                   input                  output\n",
      "     2590425       57.98         1.694         26.83         110.3      (1, 3, 1920, 1920)                    list\n",
      "     2590425         116         3.406         38.47         61.45      (2, 3, 1920, 1920)                    list\n",
      "     2590425       231.9         6.694         70.13         96.25      (4, 3, 1920, 1920)                    list\n",
      "     2590425       463.9        13.233           139         190.1      (8, 3, 1920, 1920)                    list\n",
      "CUDA out of memory. Tried to allocate 114.00 MiB. GPU 0 has a total capacity of 15.73 GiB of which 38.88 MiB is free. Including non-PyTorch memory, this process has 15.63 GiB memory in use. Of the allocated memory 15.18 GiB is allocated by PyTorch, and 191.15 MiB is reserved by PyTorch but unallocated. If reserved but unallocated memory is large try setting PYTORCH_CUDA_ALLOC_CONF=expandable_segments:True to avoid fragmentation.  See documentation for Memory Management  (https://pytorch.org/docs/stable/notes/cuda.html#environment-variables)\n",
      "\u001b[34m\u001b[1mAutoBatch: \u001b[0mUsing batch-size 5 for CUDA:0 8.47G/15.73G (54%) ✅\n"
     ]
    },
    {
     "name": "stderr",
     "output_type": "stream",
     "text": [
      "\u001b[34m\u001b[1mtrain: \u001b[0mScanning /home/aubrey/crb_damage_detector_data/datasets/202412131431/labels/train.cache... 6163 images, 0 backgrounds, 0 corrupt: 100%|██████████| 6163/6163 [00:00<?, ?it/s]"
     ]
    },
    {
     "name": "stdout",
     "output_type": "stream",
     "text": [
      "WARNING ⚠️ 'rect=True' is incompatible with DataLoader shuffle, setting shuffle=False\n"
     ]
    },
    {
     "name": "stderr",
     "output_type": "stream",
     "text": [
      "\n",
      "\u001b[34m\u001b[1mval: \u001b[0mScanning /home/aubrey/crb_damage_detector_data/datasets/202412131431/labels/val.cache... 644 images, 0 backgrounds, 0 corrupt: 100%|██████████| 644/644 [00:00<?, ?it/s]\n"
     ]
    },
    {
     "name": "stdout",
     "output_type": "stream",
     "text": [
      "Plotting labels to /home/aubrey/label-studio-ml-backend/runs/detect/yolo11n.pt6/labels.jpg... \n",
      "\u001b[34m\u001b[1moptimizer:\u001b[0m 'optimizer=auto' found, ignoring 'lr0=0.01' and 'momentum=0.937' and determining best 'optimizer', 'lr0' and 'momentum' automatically... \n",
      "\u001b[34m\u001b[1moptimizer:\u001b[0m SGD(lr=0.01, momentum=0.9) with parameter groups 81 weight(decay=0.0), 88 weight(decay=0.0005078125), 87 bias(decay=0.0)\n",
      "Image sizes 1920 train, 1920 val\n",
      "Using 8 dataloader workers\n",
      "Logging results to \u001b[1m/home/aubrey/label-studio-ml-backend/runs/detect/yolo11n.pt6\u001b[0m\n",
      "Starting training for 1000 epochs...\n",
      "\n",
      "      Epoch    GPU_mem   box_loss   cls_loss   dfl_loss  Instances       Size\n"
     ]
    },
    {
     "name": "stderr",
     "output_type": "stream",
     "text": [
      "     1/1000      5.16G      1.567      6.788       1.68          4       1920: 100%|██████████| 1233/1233 [03:26<00:00,  5.96it/s]\n",
      "                 Class     Images  Instances      Box(P          R      mAP50  mAP50-95): 100%|██████████| 65/65 [00:09<00:00,  7.13it/s]"
     ]
    },
    {
     "name": "stdout",
     "output_type": "stream",
     "text": [
      "                   all        644       1280      0.577      0.339      0.285      0.161\n"
     ]
    },
    {
     "name": "stderr",
     "output_type": "stream",
     "text": [
      "\n"
     ]
    },
    {
     "name": "stdout",
     "output_type": "stream",
     "text": [
      "\n",
      "      Epoch    GPU_mem   box_loss   cls_loss   dfl_loss  Instances       Size\n"
     ]
    },
    {
     "name": "stderr",
     "output_type": "stream",
     "text": [
      "     2/1000      5.87G        1.4      2.888      1.577          5       1920: 100%|██████████| 1233/1233 [03:28<00:00,  5.93it/s]\n",
      "                 Class     Images  Instances      Box(P          R      mAP50  mAP50-95): 100%|██████████| 65/65 [00:07<00:00,  8.14it/s]\n"
     ]
    },
    {
     "name": "stdout",
     "output_type": "stream",
     "text": [
      "                   all        644       1280      0.619      0.361       0.32      0.181\n",
      "\n",
      "      Epoch    GPU_mem   box_loss   cls_loss   dfl_loss  Instances       Size\n"
     ]
    },
    {
     "name": "stderr",
     "output_type": "stream",
     "text": [
      "     3/1000      5.86G      1.446      2.071      1.636          5       1920: 100%|██████████| 1233/1233 [03:29<00:00,  5.89it/s]\n",
      "                 Class     Images  Instances      Box(P          R      mAP50  mAP50-95): 100%|██████████| 65/65 [00:07<00:00,  8.19it/s]\n"
     ]
    },
    {
     "name": "stdout",
     "output_type": "stream",
     "text": [
      "                   all        644       1280      0.644      0.356      0.326      0.188\n",
      "\n",
      "      Epoch    GPU_mem   box_loss   cls_loss   dfl_loss  Instances       Size\n"
     ]
    },
    {
     "name": "stderr",
     "output_type": "stream",
     "text": [
      "     4/1000      5.87G      1.467       1.88      1.638          4       1920: 100%|██████████| 1233/1233 [03:29<00:00,  5.90it/s]\n",
      "                 Class     Images  Instances      Box(P          R      mAP50  mAP50-95): 100%|██████████| 65/65 [00:07<00:00,  8.15it/s]\n"
     ]
    },
    {
     "name": "stdout",
     "output_type": "stream",
     "text": [
      "                   all        644       1280      0.645      0.347      0.317      0.193\n",
      "\n",
      "      Epoch    GPU_mem   box_loss   cls_loss   dfl_loss  Instances       Size\n"
     ]
    },
    {
     "name": "stderr",
     "output_type": "stream",
     "text": [
      "     5/1000      5.87G      1.422      1.712      1.578          4       1920: 100%|██████████| 1233/1233 [03:28<00:00,  5.92it/s]\n",
      "                 Class     Images  Instances      Box(P          R      mAP50  mAP50-95): 100%|██████████| 65/65 [00:07<00:00,  8.23it/s]"
     ]
    },
    {
     "name": "stdout",
     "output_type": "stream",
     "text": [
      "                   all        644       1280      0.385      0.389      0.386      0.227\n"
     ]
    },
    {
     "name": "stderr",
     "output_type": "stream",
     "text": [
      "\n"
     ]
    },
    {
     "name": "stdout",
     "output_type": "stream",
     "text": [
      "\n",
      "      Epoch    GPU_mem   box_loss   cls_loss   dfl_loss  Instances       Size\n"
     ]
    },
    {
     "name": "stderr",
     "output_type": "stream",
     "text": [
      "     6/1000      5.87G      1.361      1.594      1.536          5       1920: 100%|██████████| 1233/1233 [03:27<00:00,  5.95it/s]\n",
      "                 Class     Images  Instances      Box(P          R      mAP50  mAP50-95): 100%|██████████| 65/65 [00:07<00:00,  8.25it/s]"
     ]
    },
    {
     "name": "stdout",
     "output_type": "stream",
     "text": [
      "                   all        644       1280       0.38      0.401       0.39      0.234\n"
     ]
    },
    {
     "name": "stderr",
     "output_type": "stream",
     "text": [
      "\n"
     ]
    },
    {
     "name": "stdout",
     "output_type": "stream",
     "text": [
      "\n",
      "      Epoch    GPU_mem   box_loss   cls_loss   dfl_loss  Instances       Size\n"
     ]
    },
    {
     "name": "stderr",
     "output_type": "stream",
     "text": [
      "     7/1000      5.87G      1.336      1.493      1.523          4       1920: 100%|██████████| 1233/1233 [03:28<00:00,  5.93it/s]\n",
      "                 Class     Images  Instances      Box(P          R      mAP50  mAP50-95): 100%|██████████| 65/65 [00:07<00:00,  8.22it/s]"
     ]
    },
    {
     "name": "stdout",
     "output_type": "stream",
     "text": [
      "                   all        644       1280      0.382      0.398      0.394      0.247\n"
     ]
    },
    {
     "name": "stderr",
     "output_type": "stream",
     "text": [
      "\n"
     ]
    },
    {
     "name": "stdout",
     "output_type": "stream",
     "text": [
      "\n",
      "      Epoch    GPU_mem   box_loss   cls_loss   dfl_loss  Instances       Size\n"
     ]
    },
    {
     "name": "stderr",
     "output_type": "stream",
     "text": [
      "     8/1000      5.87G      1.285      1.423      1.471          4       1920: 100%|██████████| 1233/1233 [03:27<00:00,  5.94it/s]\n",
      "                 Class     Images  Instances      Box(P          R      mAP50  mAP50-95): 100%|██████████| 65/65 [00:07<00:00,  8.26it/s]"
     ]
    },
    {
     "name": "stdout",
     "output_type": "stream",
     "text": [
      "                   all        644       1280      0.385      0.384      0.403      0.253\n"
     ]
    },
    {
     "name": "stderr",
     "output_type": "stream",
     "text": [
      "\n"
     ]
    },
    {
     "name": "stdout",
     "output_type": "stream",
     "text": [
      "\n",
      "      Epoch    GPU_mem   box_loss   cls_loss   dfl_loss  Instances       Size\n"
     ]
    },
    {
     "name": "stderr",
     "output_type": "stream",
     "text": [
      "     9/1000      5.86G      1.265      1.375      1.457          5       1920: 100%|██████████| 1233/1233 [03:27<00:00,  5.93it/s]\n",
      "                 Class     Images  Instances      Box(P          R      mAP50  mAP50-95): 100%|██████████| 65/65 [00:07<00:00,  8.24it/s]"
     ]
    },
    {
     "name": "stdout",
     "output_type": "stream",
     "text": [
      "                   all        644       1280      0.396       0.42       0.42      0.271\n"
     ]
    },
    {
     "name": "stderr",
     "output_type": "stream",
     "text": [
      "\n"
     ]
    },
    {
     "name": "stdout",
     "output_type": "stream",
     "text": [
      "\n",
      "      Epoch    GPU_mem   box_loss   cls_loss   dfl_loss  Instances       Size\n"
     ]
    },
    {
     "name": "stderr",
     "output_type": "stream",
     "text": [
      "    10/1000      5.86G       1.24      1.328      1.439          4       1920: 100%|██████████| 1233/1233 [03:27<00:00,  5.94it/s]\n",
      "                 Class     Images  Instances      Box(P          R      mAP50  mAP50-95): 100%|██████████| 65/65 [00:07<00:00,  8.27it/s]"
     ]
    },
    {
     "name": "stdout",
     "output_type": "stream",
     "text": [
      "                   all        644       1280      0.703      0.414       0.41      0.261\n"
     ]
    },
    {
     "name": "stderr",
     "output_type": "stream",
     "text": [
      "\n"
     ]
    },
    {
     "name": "stdout",
     "output_type": "stream",
     "text": [
      "\n",
      "      Epoch    GPU_mem   box_loss   cls_loss   dfl_loss  Instances       Size\n"
     ]
    },
    {
     "name": "stderr",
     "output_type": "stream",
     "text": [
      "    11/1000      5.85G      1.219      1.292       1.42          4       1920: 100%|██████████| 1233/1233 [03:27<00:00,  5.94it/s]\n",
      "                 Class     Images  Instances      Box(P          R      mAP50  mAP50-95): 100%|██████████| 65/65 [00:07<00:00,  8.25it/s]"
     ]
    },
    {
     "name": "stdout",
     "output_type": "stream",
     "text": [
      "                   all        644       1280       0.74      0.418      0.431      0.282\n"
     ]
    },
    {
     "name": "stderr",
     "output_type": "stream",
     "text": [
      "\n"
     ]
    },
    {
     "name": "stdout",
     "output_type": "stream",
     "text": [
      "\n",
      "      Epoch    GPU_mem   box_loss   cls_loss   dfl_loss  Instances       Size\n"
     ]
    },
    {
     "name": "stderr",
     "output_type": "stream",
     "text": [
      "    12/1000      5.87G      1.206      1.258      1.407          4       1920: 100%|██████████| 1233/1233 [03:27<00:00,  5.94it/s]\n",
      "                 Class     Images  Instances      Box(P          R      mAP50  mAP50-95): 100%|██████████| 65/65 [00:07<00:00,  8.23it/s]"
     ]
    },
    {
     "name": "stdout",
     "output_type": "stream",
     "text": [
      "                   all        644       1280      0.772      0.389      0.425      0.274\n"
     ]
    },
    {
     "name": "stderr",
     "output_type": "stream",
     "text": [
      "\n"
     ]
    },
    {
     "name": "stdout",
     "output_type": "stream",
     "text": [
      "\n",
      "      Epoch    GPU_mem   box_loss   cls_loss   dfl_loss  Instances       Size\n"
     ]
    },
    {
     "name": "stderr",
     "output_type": "stream",
     "text": [
      "    13/1000      5.86G      1.183      1.236      1.388          4       1920: 100%|██████████| 1233/1233 [03:27<00:00,  5.94it/s]\n",
      "                 Class     Images  Instances      Box(P          R      mAP50  mAP50-95): 100%|██████████| 65/65 [00:07<00:00,  8.24it/s]"
     ]
    },
    {
     "name": "stdout",
     "output_type": "stream",
     "text": [
      "                   all        644       1280      0.403      0.429      0.435       0.29\n"
     ]
    },
    {
     "name": "stderr",
     "output_type": "stream",
     "text": [
      "\n"
     ]
    },
    {
     "name": "stdout",
     "output_type": "stream",
     "text": [
      "\n",
      "      Epoch    GPU_mem   box_loss   cls_loss   dfl_loss  Instances       Size\n"
     ]
    },
    {
     "name": "stderr",
     "output_type": "stream",
     "text": [
      "    14/1000      5.86G      1.187      1.208      1.396          5       1920: 100%|██████████| 1233/1233 [03:27<00:00,  5.95it/s]\n",
      "                 Class     Images  Instances      Box(P          R      mAP50  mAP50-95): 100%|██████████| 65/65 [00:07<00:00,  8.30it/s]"
     ]
    },
    {
     "name": "stdout",
     "output_type": "stream",
     "text": [
      "                   all        644       1280      0.736      0.443      0.448      0.293\n"
     ]
    },
    {
     "name": "stderr",
     "output_type": "stream",
     "text": [
      "\n"
     ]
    },
    {
     "name": "stdout",
     "output_type": "stream",
     "text": [
      "\n",
      "      Epoch    GPU_mem   box_loss   cls_loss   dfl_loss  Instances       Size\n"
     ]
    },
    {
     "name": "stderr",
     "output_type": "stream",
     "text": [
      "    15/1000      5.87G      1.168      1.181      1.381          5       1920: 100%|██████████| 1233/1233 [03:26<00:00,  5.96it/s]\n",
      "                 Class     Images  Instances      Box(P          R      mAP50  mAP50-95): 100%|██████████| 65/65 [00:07<00:00,  8.32it/s]"
     ]
    },
    {
     "name": "stdout",
     "output_type": "stream",
     "text": [
      "                   all        644       1280      0.728      0.465      0.451      0.296\n"
     ]
    },
    {
     "name": "stderr",
     "output_type": "stream",
     "text": [
      "\n"
     ]
    },
    {
     "name": "stdout",
     "output_type": "stream",
     "text": [
      "\n",
      "      Epoch    GPU_mem   box_loss   cls_loss   dfl_loss  Instances       Size\n"
     ]
    },
    {
     "name": "stderr",
     "output_type": "stream",
     "text": [
      "    16/1000      5.86G      1.143      1.159      1.358          5       1920: 100%|██████████| 1233/1233 [03:26<00:00,  5.97it/s]\n",
      "                 Class     Images  Instances      Box(P          R      mAP50  mAP50-95): 100%|██████████| 65/65 [00:07<00:00,  8.31it/s]"
     ]
    },
    {
     "name": "stdout",
     "output_type": "stream",
     "text": [
      "                   all        644       1280      0.731      0.443      0.456      0.311\n"
     ]
    },
    {
     "name": "stderr",
     "output_type": "stream",
     "text": [
      "\n"
     ]
    },
    {
     "name": "stdout",
     "output_type": "stream",
     "text": [
      "\n",
      "      Epoch    GPU_mem   box_loss   cls_loss   dfl_loss  Instances       Size\n"
     ]
    },
    {
     "name": "stderr",
     "output_type": "stream",
     "text": [
      "    17/1000      5.86G      1.136      1.146      1.358          5       1920: 100%|██████████| 1233/1233 [03:26<00:00,  5.97it/s]\n",
      "                 Class     Images  Instances      Box(P          R      mAP50  mAP50-95): 100%|██████████| 65/65 [00:07<00:00,  8.36it/s]"
     ]
    },
    {
     "name": "stdout",
     "output_type": "stream",
     "text": [
      "                   all        644       1280      0.744      0.452      0.459      0.309\n"
     ]
    },
    {
     "name": "stderr",
     "output_type": "stream",
     "text": [
      "\n"
     ]
    },
    {
     "name": "stdout",
     "output_type": "stream",
     "text": [
      "\n",
      "      Epoch    GPU_mem   box_loss   cls_loss   dfl_loss  Instances       Size\n"
     ]
    },
    {
     "name": "stderr",
     "output_type": "stream",
     "text": [
      "    18/1000      5.86G      1.132      1.129       1.35          4       1920: 100%|██████████| 1233/1233 [03:26<00:00,  5.98it/s]\n",
      "                 Class     Images  Instances      Box(P          R      mAP50  mAP50-95): 100%|██████████| 65/65 [00:07<00:00,  8.35it/s]"
     ]
    },
    {
     "name": "stdout",
     "output_type": "stream",
     "text": [
      "                   all        644       1280      0.755       0.45      0.455       0.31\n"
     ]
    },
    {
     "name": "stderr",
     "output_type": "stream",
     "text": [
      "\n"
     ]
    },
    {
     "name": "stdout",
     "output_type": "stream",
     "text": [
      "\n",
      "      Epoch    GPU_mem   box_loss   cls_loss   dfl_loss  Instances       Size\n"
     ]
    },
    {
     "name": "stderr",
     "output_type": "stream",
     "text": [
      "    19/1000      5.86G      1.118      1.101      1.339          4       1920: 100%|██████████| 1233/1233 [03:25<00:00,  5.99it/s]\n",
      "                 Class     Images  Instances      Box(P          R      mAP50  mAP50-95): 100%|██████████| 65/65 [00:07<00:00,  8.34it/s]"
     ]
    },
    {
     "name": "stdout",
     "output_type": "stream",
     "text": [
      "                   all        644       1280      0.763      0.475      0.479      0.322\n"
     ]
    },
    {
     "name": "stderr",
     "output_type": "stream",
     "text": [
      "\n"
     ]
    },
    {
     "name": "stdout",
     "output_type": "stream",
     "text": [
      "\n",
      "      Epoch    GPU_mem   box_loss   cls_loss   dfl_loss  Instances       Size\n"
     ]
    },
    {
     "name": "stderr",
     "output_type": "stream",
     "text": [
      "    20/1000      5.86G      1.113      1.087      1.329          4       1920: 100%|██████████| 1233/1233 [03:26<00:00,  5.98it/s]\n",
      "                 Class     Images  Instances      Box(P          R      mAP50  mAP50-95): 100%|██████████| 65/65 [00:07<00:00,  8.35it/s]"
     ]
    },
    {
     "name": "stdout",
     "output_type": "stream",
     "text": [
      "                   all        644       1280      0.751      0.465      0.467      0.318\n"
     ]
    },
    {
     "name": "stderr",
     "output_type": "stream",
     "text": [
      "\n"
     ]
    },
    {
     "name": "stdout",
     "output_type": "stream",
     "text": [
      "\n",
      "      Epoch    GPU_mem   box_loss   cls_loss   dfl_loss  Instances       Size\n"
     ]
    },
    {
     "name": "stderr",
     "output_type": "stream",
     "text": [
      "    21/1000      5.87G      1.108      1.097      1.325          4       1920: 100%|██████████| 1233/1233 [03:26<00:00,  5.98it/s]\n",
      "                 Class     Images  Instances      Box(P          R      mAP50  mAP50-95): 100%|██████████| 65/65 [00:07<00:00,  8.31it/s]"
     ]
    },
    {
     "name": "stdout",
     "output_type": "stream",
     "text": [
      "                   all        644       1280      0.441      0.459      0.477      0.324\n"
     ]
    },
    {
     "name": "stderr",
     "output_type": "stream",
     "text": [
      "\n"
     ]
    },
    {
     "name": "stdout",
     "output_type": "stream",
     "text": [
      "\n",
      "      Epoch    GPU_mem   box_loss   cls_loss   dfl_loss  Instances       Size\n"
     ]
    },
    {
     "name": "stderr",
     "output_type": "stream",
     "text": [
      "    22/1000      5.86G      1.084      1.068       1.31          4       1920: 100%|██████████| 1233/1233 [03:26<00:00,  5.96it/s]\n",
      "                 Class     Images  Instances      Box(P          R      mAP50  mAP50-95): 100%|██████████| 65/65 [00:07<00:00,  8.27it/s]"
     ]
    },
    {
     "name": "stdout",
     "output_type": "stream",
     "text": [
      "                   all        644       1280      0.756      0.471      0.477      0.327\n"
     ]
    },
    {
     "name": "stderr",
     "output_type": "stream",
     "text": [
      "\n"
     ]
    },
    {
     "name": "stdout",
     "output_type": "stream",
     "text": [
      "\n",
      "      Epoch    GPU_mem   box_loss   cls_loss   dfl_loss  Instances       Size\n"
     ]
    },
    {
     "name": "stderr",
     "output_type": "stream",
     "text": [
      "    23/1000      5.86G      1.086       1.05      1.311          5       1920: 100%|██████████| 1233/1233 [03:27<00:00,  5.96it/s]\n",
      "                 Class     Images  Instances      Box(P          R      mAP50  mAP50-95): 100%|██████████| 65/65 [00:07<00:00,  8.29it/s]"
     ]
    },
    {
     "name": "stdout",
     "output_type": "stream",
     "text": [
      "                   all        644       1280      0.763      0.471      0.506      0.346\n"
     ]
    },
    {
     "name": "stderr",
     "output_type": "stream",
     "text": [
      "\n"
     ]
    },
    {
     "name": "stdout",
     "output_type": "stream",
     "text": [
      "\n",
      "      Epoch    GPU_mem   box_loss   cls_loss   dfl_loss  Instances       Size\n"
     ]
    },
    {
     "name": "stderr",
     "output_type": "stream",
     "text": [
      "    24/1000      5.85G      1.073      1.039        1.3          4       1920: 100%|██████████| 1233/1233 [03:27<00:00,  5.95it/s]\n",
      "                 Class     Images  Instances      Box(P          R      mAP50  mAP50-95): 100%|██████████| 65/65 [00:07<00:00,  8.28it/s]"
     ]
    },
    {
     "name": "stdout",
     "output_type": "stream",
     "text": [
      "                   all        644       1280      0.768      0.472        0.5      0.352\n"
     ]
    },
    {
     "name": "stderr",
     "output_type": "stream",
     "text": [
      "\n"
     ]
    },
    {
     "name": "stdout",
     "output_type": "stream",
     "text": [
      "\n",
      "      Epoch    GPU_mem   box_loss   cls_loss   dfl_loss  Instances       Size\n"
     ]
    },
    {
     "name": "stderr",
     "output_type": "stream",
     "text": [
      "    25/1000      5.86G      1.069      1.035      1.299          5       1920: 100%|██████████| 1233/1233 [03:27<00:00,  5.95it/s]\n",
      "                 Class     Images  Instances      Box(P          R      mAP50  mAP50-95): 100%|██████████| 65/65 [00:07<00:00,  8.30it/s]"
     ]
    },
    {
     "name": "stdout",
     "output_type": "stream",
     "text": [
      "                   all        644       1280      0.761      0.481      0.474      0.329\n"
     ]
    },
    {
     "name": "stderr",
     "output_type": "stream",
     "text": [
      "\n"
     ]
    },
    {
     "name": "stdout",
     "output_type": "stream",
     "text": [
      "\n",
      "      Epoch    GPU_mem   box_loss   cls_loss   dfl_loss  Instances       Size\n"
     ]
    },
    {
     "name": "stderr",
     "output_type": "stream",
     "text": [
      "    26/1000      5.87G      1.059      1.027      1.294          5       1920: 100%|██████████| 1233/1233 [03:27<00:00,  5.95it/s]\n",
      "                 Class     Images  Instances      Box(P          R      mAP50  mAP50-95): 100%|██████████| 65/65 [00:07<00:00,  8.33it/s]"
     ]
    },
    {
     "name": "stdout",
     "output_type": "stream",
     "text": [
      "                   all        644       1280        0.8      0.455      0.519      0.351\n"
     ]
    },
    {
     "name": "stderr",
     "output_type": "stream",
     "text": [
      "\n"
     ]
    },
    {
     "name": "stdout",
     "output_type": "stream",
     "text": [
      "\n",
      "      Epoch    GPU_mem   box_loss   cls_loss   dfl_loss  Instances       Size\n"
     ]
    },
    {
     "name": "stderr",
     "output_type": "stream",
     "text": [
      "    27/1000      5.86G      1.052      1.013      1.281          4       1920: 100%|██████████| 1233/1233 [03:27<00:00,  5.94it/s]\n",
      "                 Class     Images  Instances      Box(P          R      mAP50  mAP50-95): 100%|██████████| 65/65 [00:07<00:00,  8.26it/s]"
     ]
    },
    {
     "name": "stdout",
     "output_type": "stream",
     "text": [
      "                   all        644       1280      0.795      0.441      0.497      0.343\n"
     ]
    },
    {
     "name": "stderr",
     "output_type": "stream",
     "text": [
      "\n"
     ]
    },
    {
     "name": "stdout",
     "output_type": "stream",
     "text": [
      "\n",
      "      Epoch    GPU_mem   box_loss   cls_loss   dfl_loss  Instances       Size\n"
     ]
    },
    {
     "name": "stderr",
     "output_type": "stream",
     "text": [
      "    28/1000      5.86G      1.053     0.9924      1.285          4       1920: 100%|██████████| 1233/1233 [03:27<00:00,  5.93it/s]\n",
      "                 Class     Images  Instances      Box(P          R      mAP50  mAP50-95): 100%|██████████| 65/65 [00:07<00:00,  8.27it/s]"
     ]
    },
    {
     "name": "stdout",
     "output_type": "stream",
     "text": [
      "                   all        644       1280       0.78      0.454      0.506      0.353\n"
     ]
    },
    {
     "name": "stderr",
     "output_type": "stream",
     "text": [
      "\n"
     ]
    },
    {
     "name": "stdout",
     "output_type": "stream",
     "text": [
      "\n",
      "      Epoch    GPU_mem   box_loss   cls_loss   dfl_loss  Instances       Size\n"
     ]
    },
    {
     "name": "stderr",
     "output_type": "stream",
     "text": [
      "    29/1000      5.86G      1.049     0.9972      1.283          3       1920: 100%|██████████| 1233/1233 [03:29<00:00,  5.88it/s]\n",
      "                 Class     Images  Instances      Box(P          R      mAP50  mAP50-95): 100%|██████████| 65/65 [00:08<00:00,  8.10it/s]"
     ]
    },
    {
     "name": "stdout",
     "output_type": "stream",
     "text": [
      "                   all        644       1280      0.777      0.471       0.51       0.35\n"
     ]
    },
    {
     "name": "stderr",
     "output_type": "stream",
     "text": [
      "\n"
     ]
    },
    {
     "name": "stdout",
     "output_type": "stream",
     "text": [
      "\n",
      "      Epoch    GPU_mem   box_loss   cls_loss   dfl_loss  Instances       Size\n"
     ]
    },
    {
     "name": "stderr",
     "output_type": "stream",
     "text": [
      "    30/1000      5.86G       1.03     0.9882      1.271          5       1920: 100%|██████████| 1233/1233 [03:27<00:00,  5.94it/s]\n",
      "                 Class     Images  Instances      Box(P          R      mAP50  mAP50-95): 100%|██████████| 65/65 [00:07<00:00,  8.30it/s]"
     ]
    },
    {
     "name": "stdout",
     "output_type": "stream",
     "text": [
      "                   all        644       1280      0.755      0.475      0.491      0.338\n"
     ]
    },
    {
     "name": "stderr",
     "output_type": "stream",
     "text": [
      "\n"
     ]
    },
    {
     "name": "stdout",
     "output_type": "stream",
     "text": [
      "\n",
      "      Epoch    GPU_mem   box_loss   cls_loss   dfl_loss  Instances       Size\n"
     ]
    },
    {
     "name": "stderr",
     "output_type": "stream",
     "text": [
      "    31/1000      5.87G      1.029     0.9846      1.269          5       1920: 100%|██████████| 1233/1233 [03:26<00:00,  5.96it/s]\n",
      "                 Class     Images  Instances      Box(P          R      mAP50  mAP50-95): 100%|██████████| 65/65 [00:07<00:00,  8.33it/s]"
     ]
    },
    {
     "name": "stdout",
     "output_type": "stream",
     "text": [
      "                   all        644       1280      0.758      0.461      0.492      0.343\n"
     ]
    },
    {
     "name": "stderr",
     "output_type": "stream",
     "text": [
      "\n"
     ]
    },
    {
     "name": "stdout",
     "output_type": "stream",
     "text": [
      "\n",
      "      Epoch    GPU_mem   box_loss   cls_loss   dfl_loss  Instances       Size\n"
     ]
    },
    {
     "name": "stderr",
     "output_type": "stream",
     "text": [
      "    32/1000      5.87G      1.022     0.9656      1.267          5       1920: 100%|██████████| 1233/1233 [03:26<00:00,  5.97it/s]\n",
      "                 Class     Images  Instances      Box(P          R      mAP50  mAP50-95): 100%|██████████| 65/65 [00:07<00:00,  8.34it/s]"
     ]
    },
    {
     "name": "stdout",
     "output_type": "stream",
     "text": [
      "                   all        644       1280      0.763      0.469      0.494      0.345\n"
     ]
    },
    {
     "name": "stderr",
     "output_type": "stream",
     "text": [
      "\n"
     ]
    },
    {
     "name": "stdout",
     "output_type": "stream",
     "text": [
      "\n",
      "      Epoch    GPU_mem   box_loss   cls_loss   dfl_loss  Instances       Size\n"
     ]
    },
    {
     "name": "stderr",
     "output_type": "stream",
     "text": [
      "    33/1000      5.86G      1.017     0.9572      1.255          5       1920: 100%|██████████| 1233/1233 [03:26<00:00,  5.97it/s]\n",
      "                 Class     Images  Instances      Box(P          R      mAP50  mAP50-95): 100%|██████████| 65/65 [00:07<00:00,  8.34it/s]"
     ]
    },
    {
     "name": "stdout",
     "output_type": "stream",
     "text": [
      "                   all        644       1280      0.742      0.479      0.487      0.341\n"
     ]
    },
    {
     "name": "stderr",
     "output_type": "stream",
     "text": [
      "\n"
     ]
    },
    {
     "name": "stdout",
     "output_type": "stream",
     "text": [
      "\n",
      "      Epoch    GPU_mem   box_loss   cls_loss   dfl_loss  Instances       Size\n"
     ]
    },
    {
     "name": "stderr",
     "output_type": "stream",
     "text": [
      "    34/1000      5.86G      1.012     0.9572      1.259          4       1920: 100%|██████████| 1233/1233 [03:26<00:00,  5.97it/s]\n",
      "                 Class     Images  Instances      Box(P          R      mAP50  mAP50-95): 100%|██████████| 65/65 [00:07<00:00,  8.33it/s]"
     ]
    },
    {
     "name": "stdout",
     "output_type": "stream",
     "text": [
      "                   all        644       1280      0.765      0.482      0.531      0.377\n"
     ]
    },
    {
     "name": "stderr",
     "output_type": "stream",
     "text": [
      "\n"
     ]
    },
    {
     "name": "stdout",
     "output_type": "stream",
     "text": [
      "\n",
      "      Epoch    GPU_mem   box_loss   cls_loss   dfl_loss  Instances       Size\n"
     ]
    },
    {
     "name": "stderr",
     "output_type": "stream",
     "text": [
      "    35/1000      5.86G      1.015     0.9454      1.248          4       1920: 100%|██████████| 1233/1233 [03:26<00:00,  5.97it/s]\n",
      "                 Class     Images  Instances      Box(P          R      mAP50  mAP50-95): 100%|██████████| 65/65 [00:07<00:00,  8.32it/s]"
     ]
    },
    {
     "name": "stdout",
     "output_type": "stream",
     "text": [
      "                   all        644       1280      0.773      0.463       0.49       0.35\n"
     ]
    },
    {
     "name": "stderr",
     "output_type": "stream",
     "text": [
      "\n"
     ]
    },
    {
     "name": "stdout",
     "output_type": "stream",
     "text": [
      "\n",
      "      Epoch    GPU_mem   box_loss   cls_loss   dfl_loss  Instances       Size\n"
     ]
    },
    {
     "name": "stderr",
     "output_type": "stream",
     "text": [
      "    36/1000      5.86G      1.007     0.9492      1.253          5       1920: 100%|██████████| 1233/1233 [03:26<00:00,  5.98it/s]\n",
      "                 Class     Images  Instances      Box(P          R      mAP50  mAP50-95): 100%|██████████| 65/65 [00:07<00:00,  8.37it/s]"
     ]
    },
    {
     "name": "stdout",
     "output_type": "stream",
     "text": [
      "                   all        644       1280      0.772      0.477      0.567       0.38\n"
     ]
    },
    {
     "name": "stderr",
     "output_type": "stream",
     "text": [
      "\n"
     ]
    },
    {
     "name": "stdout",
     "output_type": "stream",
     "text": [
      "\n",
      "      Epoch    GPU_mem   box_loss   cls_loss   dfl_loss  Instances       Size\n"
     ]
    },
    {
     "name": "stderr",
     "output_type": "stream",
     "text": [
      "    37/1000      5.85G     0.9952     0.9337       1.24          4       1920: 100%|██████████| 1233/1233 [03:25<00:00,  6.00it/s]\n",
      "                 Class     Images  Instances      Box(P          R      mAP50  mAP50-95): 100%|██████████| 65/65 [00:07<00:00,  8.39it/s]"
     ]
    },
    {
     "name": "stdout",
     "output_type": "stream",
     "text": [
      "                   all        644       1280        0.8      0.462      0.525      0.362\n"
     ]
    },
    {
     "name": "stderr",
     "output_type": "stream",
     "text": [
      "\n"
     ]
    },
    {
     "name": "stdout",
     "output_type": "stream",
     "text": [
      "\n",
      "      Epoch    GPU_mem   box_loss   cls_loss   dfl_loss  Instances       Size\n"
     ]
    },
    {
     "name": "stderr",
     "output_type": "stream",
     "text": [
      "    38/1000      5.86G     0.9956     0.9263      1.238          4       1920: 100%|██████████| 1233/1233 [03:25<00:00,  6.01it/s]\n",
      "                 Class     Images  Instances      Box(P          R      mAP50  mAP50-95): 100%|██████████| 65/65 [00:07<00:00,  8.40it/s]"
     ]
    },
    {
     "name": "stdout",
     "output_type": "stream",
     "text": [
      "                   all        644       1280      0.798      0.461      0.515      0.361\n"
     ]
    },
    {
     "name": "stderr",
     "output_type": "stream",
     "text": [
      "\n"
     ]
    },
    {
     "name": "stdout",
     "output_type": "stream",
     "text": [
      "\n",
      "      Epoch    GPU_mem   box_loss   cls_loss   dfl_loss  Instances       Size\n"
     ]
    },
    {
     "name": "stderr",
     "output_type": "stream",
     "text": [
      "    39/1000      5.87G     0.9901     0.9192      1.236          3       1920: 100%|██████████| 1233/1233 [03:24<00:00,  6.02it/s]\n",
      "                 Class     Images  Instances      Box(P          R      mAP50  mAP50-95): 100%|██████████| 65/65 [00:07<00:00,  8.42it/s]"
     ]
    },
    {
     "name": "stdout",
     "output_type": "stream",
     "text": [
      "                   all        644       1280      0.784      0.473      0.527      0.363\n"
     ]
    },
    {
     "name": "stderr",
     "output_type": "stream",
     "text": [
      "\n"
     ]
    },
    {
     "name": "stdout",
     "output_type": "stream",
     "text": [
      "\n",
      "      Epoch    GPU_mem   box_loss   cls_loss   dfl_loss  Instances       Size\n"
     ]
    },
    {
     "name": "stderr",
     "output_type": "stream",
     "text": [
      "    40/1000      5.86G     0.9829     0.9128      1.234          5       1920: 100%|██████████| 1233/1233 [03:24<00:00,  6.03it/s]\n",
      "                 Class     Images  Instances      Box(P          R      mAP50  mAP50-95): 100%|██████████| 65/65 [00:07<00:00,  8.42it/s]"
     ]
    },
    {
     "name": "stdout",
     "output_type": "stream",
     "text": [
      "                   all        644       1280        0.8       0.46      0.548      0.371\n"
     ]
    },
    {
     "name": "stderr",
     "output_type": "stream",
     "text": [
      "\n"
     ]
    },
    {
     "name": "stdout",
     "output_type": "stream",
     "text": [
      "\n",
      "      Epoch    GPU_mem   box_loss   cls_loss   dfl_loss  Instances       Size\n"
     ]
    },
    {
     "name": "stderr",
     "output_type": "stream",
     "text": [
      "    41/1000      5.86G     0.9787      0.903      1.224          5       1920: 100%|██████████| 1233/1233 [03:24<00:00,  6.03it/s]\n",
      "                 Class     Images  Instances      Box(P          R      mAP50  mAP50-95): 100%|██████████| 65/65 [00:07<00:00,  8.40it/s]"
     ]
    },
    {
     "name": "stdout",
     "output_type": "stream",
     "text": [
      "                   all        644       1280       0.79      0.478      0.537      0.378\n"
     ]
    },
    {
     "name": "stderr",
     "output_type": "stream",
     "text": [
      "\n"
     ]
    },
    {
     "name": "stdout",
     "output_type": "stream",
     "text": [
      "\n",
      "      Epoch    GPU_mem   box_loss   cls_loss   dfl_loss  Instances       Size\n"
     ]
    },
    {
     "name": "stderr",
     "output_type": "stream",
     "text": [
      "    42/1000      5.86G     0.9882     0.9088      1.229          4       1920: 100%|██████████| 1233/1233 [03:24<00:00,  6.02it/s]\n",
      "                 Class     Images  Instances      Box(P          R      mAP50  mAP50-95): 100%|██████████| 65/65 [00:07<00:00,  8.41it/s]"
     ]
    },
    {
     "name": "stdout",
     "output_type": "stream",
     "text": [
      "                   all        644       1280       0.79      0.468      0.522      0.364\n"
     ]
    },
    {
     "name": "stderr",
     "output_type": "stream",
     "text": [
      "\n"
     ]
    },
    {
     "name": "stdout",
     "output_type": "stream",
     "text": [
      "\n",
      "      Epoch    GPU_mem   box_loss   cls_loss   dfl_loss  Instances       Size\n"
     ]
    },
    {
     "name": "stderr",
     "output_type": "stream",
     "text": [
      "    43/1000      5.86G     0.9685     0.8973      1.223          5       1920: 100%|██████████| 1233/1233 [03:25<00:00,  6.01it/s]\n",
      "                 Class     Images  Instances      Box(P          R      mAP50  mAP50-95): 100%|██████████| 65/65 [00:07<00:00,  8.41it/s]"
     ]
    },
    {
     "name": "stdout",
     "output_type": "stream",
     "text": [
      "                   all        644       1280      0.826      0.452      0.514      0.362\n"
     ]
    },
    {
     "name": "stderr",
     "output_type": "stream",
     "text": [
      "\n"
     ]
    },
    {
     "name": "stdout",
     "output_type": "stream",
     "text": [
      "\n",
      "      Epoch    GPU_mem   box_loss   cls_loss   dfl_loss  Instances       Size\n"
     ]
    },
    {
     "name": "stderr",
     "output_type": "stream",
     "text": [
      "    44/1000      5.86G     0.9687     0.8836      1.221          4       1920: 100%|██████████| 1233/1233 [03:25<00:00,  6.00it/s]\n",
      "                 Class     Images  Instances      Box(P          R      mAP50  mAP50-95): 100%|██████████| 65/65 [00:07<00:00,  8.40it/s]"
     ]
    },
    {
     "name": "stdout",
     "output_type": "stream",
     "text": [
      "                   all        644       1280        0.8      0.464      0.536      0.379\n"
     ]
    },
    {
     "name": "stderr",
     "output_type": "stream",
     "text": [
      "\n"
     ]
    },
    {
     "name": "stdout",
     "output_type": "stream",
     "text": [
      "\n",
      "      Epoch    GPU_mem   box_loss   cls_loss   dfl_loss  Instances       Size\n"
     ]
    },
    {
     "name": "stderr",
     "output_type": "stream",
     "text": [
      "    45/1000      5.86G     0.9609     0.8834      1.217          5       1920: 100%|██████████| 1233/1233 [03:25<00:00,  6.00it/s]\n",
      "                 Class     Images  Instances      Box(P          R      mAP50  mAP50-95): 100%|██████████| 65/65 [00:07<00:00,  8.38it/s]"
     ]
    },
    {
     "name": "stdout",
     "output_type": "stream",
     "text": [
      "                   all        644       1280      0.782      0.487      0.549      0.394\n"
     ]
    },
    {
     "name": "stderr",
     "output_type": "stream",
     "text": [
      "\n"
     ]
    },
    {
     "name": "stdout",
     "output_type": "stream",
     "text": [
      "\n",
      "      Epoch    GPU_mem   box_loss   cls_loss   dfl_loss  Instances       Size\n"
     ]
    },
    {
     "name": "stderr",
     "output_type": "stream",
     "text": [
      "    46/1000      5.86G     0.9595     0.8626      1.213          4       1920: 100%|██████████| 1233/1233 [03:25<00:00,  6.00it/s]\n",
      "                 Class     Images  Instances      Box(P          R      mAP50  mAP50-95): 100%|██████████| 65/65 [00:07<00:00,  8.38it/s]"
     ]
    },
    {
     "name": "stdout",
     "output_type": "stream",
     "text": [
      "                   all        644       1280      0.775      0.495      0.571      0.416\n"
     ]
    },
    {
     "name": "stderr",
     "output_type": "stream",
     "text": [
      "\n"
     ]
    },
    {
     "name": "stdout",
     "output_type": "stream",
     "text": [
      "\n",
      "      Epoch    GPU_mem   box_loss   cls_loss   dfl_loss  Instances       Size\n"
     ]
    },
    {
     "name": "stderr",
     "output_type": "stream",
     "text": [
      "    47/1000      5.86G     0.9601     0.8703       1.22          5       1920: 100%|██████████| 1233/1233 [03:25<00:00,  6.00it/s]\n",
      "                 Class     Images  Instances      Box(P          R      mAP50  mAP50-95): 100%|██████████| 65/65 [00:07<00:00,  8.38it/s]"
     ]
    },
    {
     "name": "stdout",
     "output_type": "stream",
     "text": [
      "                   all        644       1280      0.763      0.493       0.53      0.379\n"
     ]
    },
    {
     "name": "stderr",
     "output_type": "stream",
     "text": [
      "\n"
     ]
    },
    {
     "name": "stdout",
     "output_type": "stream",
     "text": [
      "\n",
      "      Epoch    GPU_mem   box_loss   cls_loss   dfl_loss  Instances       Size\n"
     ]
    },
    {
     "name": "stderr",
     "output_type": "stream",
     "text": [
      "    48/1000      5.86G      0.951     0.8695      1.213          5       1920: 100%|██████████| 1233/1233 [03:25<00:00,  5.99it/s]\n",
      "                 Class     Images  Instances      Box(P          R      mAP50  mAP50-95): 100%|██████████| 65/65 [00:07<00:00,  8.39it/s]"
     ]
    },
    {
     "name": "stdout",
     "output_type": "stream",
     "text": [
      "                   all        644       1280      0.789      0.496      0.566      0.397\n"
     ]
    },
    {
     "name": "stderr",
     "output_type": "stream",
     "text": [
      "\n"
     ]
    },
    {
     "name": "stdout",
     "output_type": "stream",
     "text": [
      "\n",
      "      Epoch    GPU_mem   box_loss   cls_loss   dfl_loss  Instances       Size\n"
     ]
    },
    {
     "name": "stderr",
     "output_type": "stream",
     "text": [
      "    49/1000      5.86G     0.9486     0.8647      1.204          5       1920: 100%|██████████| 1233/1233 [03:25<00:00,  5.99it/s]\n",
      "                 Class     Images  Instances      Box(P          R      mAP50  mAP50-95): 100%|██████████| 65/65 [00:07<00:00,  8.38it/s]"
     ]
    },
    {
     "name": "stdout",
     "output_type": "stream",
     "text": [
      "                   all        644       1280      0.814      0.459      0.563      0.396\n"
     ]
    },
    {
     "name": "stderr",
     "output_type": "stream",
     "text": [
      "\n"
     ]
    },
    {
     "name": "stdout",
     "output_type": "stream",
     "text": [
      "\n",
      "      Epoch    GPU_mem   box_loss   cls_loss   dfl_loss  Instances       Size\n"
     ]
    },
    {
     "name": "stderr",
     "output_type": "stream",
     "text": [
      "    50/1000      5.85G     0.9425     0.8551      1.202          5       1920: 100%|██████████| 1233/1233 [03:25<00:00,  5.99it/s]\n",
      "                 Class     Images  Instances      Box(P          R      mAP50  mAP50-95): 100%|██████████| 65/65 [00:07<00:00,  8.36it/s]"
     ]
    },
    {
     "name": "stdout",
     "output_type": "stream",
     "text": [
      "                   all        644       1280      0.802      0.462      0.539      0.388\n"
     ]
    },
    {
     "name": "stderr",
     "output_type": "stream",
     "text": [
      "\n"
     ]
    },
    {
     "name": "stdout",
     "output_type": "stream",
     "text": [
      "\n",
      "      Epoch    GPU_mem   box_loss   cls_loss   dfl_loss  Instances       Size\n"
     ]
    },
    {
     "name": "stderr",
     "output_type": "stream",
     "text": [
      "    51/1000      5.86G     0.9441     0.8505      1.199          4       1920: 100%|██████████| 1233/1233 [03:25<00:00,  5.99it/s]\n",
      "                 Class     Images  Instances      Box(P          R      mAP50  mAP50-95): 100%|██████████| 65/65 [00:07<00:00,  8.37it/s]"
     ]
    },
    {
     "name": "stdout",
     "output_type": "stream",
     "text": [
      "                   all        644       1280      0.766        0.5      0.553      0.381\n"
     ]
    },
    {
     "name": "stderr",
     "output_type": "stream",
     "text": [
      "\n"
     ]
    },
    {
     "name": "stdout",
     "output_type": "stream",
     "text": [
      "\n",
      "      Epoch    GPU_mem   box_loss   cls_loss   dfl_loss  Instances       Size\n"
     ]
    },
    {
     "name": "stderr",
     "output_type": "stream",
     "text": [
      "    52/1000      5.87G     0.9396     0.8384      1.202          5       1920: 100%|██████████| 1233/1233 [03:25<00:00,  5.99it/s]\n",
      "                 Class     Images  Instances      Box(P          R      mAP50  mAP50-95): 100%|██████████| 65/65 [00:07<00:00,  8.38it/s]"
     ]
    },
    {
     "name": "stdout",
     "output_type": "stream",
     "text": [
      "                   all        644       1280      0.791      0.485      0.581        0.4\n"
     ]
    },
    {
     "name": "stderr",
     "output_type": "stream",
     "text": [
      "\n"
     ]
    },
    {
     "name": "stdout",
     "output_type": "stream",
     "text": [
      "\n",
      "      Epoch    GPU_mem   box_loss   cls_loss   dfl_loss  Instances       Size\n"
     ]
    },
    {
     "name": "stderr",
     "output_type": "stream",
     "text": [
      "    53/1000      5.86G     0.9369     0.8444      1.197          5       1920: 100%|██████████| 1233/1233 [03:25<00:00,  5.99it/s]\n",
      "                 Class     Images  Instances      Box(P          R      mAP50  mAP50-95): 100%|██████████| 65/65 [00:07<00:00,  8.37it/s]"
     ]
    },
    {
     "name": "stdout",
     "output_type": "stream",
     "text": [
      "                   all        644       1280      0.799      0.463      0.551      0.385\n"
     ]
    },
    {
     "name": "stderr",
     "output_type": "stream",
     "text": [
      "\n"
     ]
    },
    {
     "name": "stdout",
     "output_type": "stream",
     "text": [
      "\n",
      "      Epoch    GPU_mem   box_loss   cls_loss   dfl_loss  Instances       Size\n"
     ]
    },
    {
     "name": "stderr",
     "output_type": "stream",
     "text": [
      "    54/1000      5.86G     0.9244     0.8406      1.192          4       1920: 100%|██████████| 1233/1233 [03:25<00:00,  5.99it/s]\n",
      "                 Class     Images  Instances      Box(P          R      mAP50  mAP50-95): 100%|██████████| 65/65 [00:07<00:00,  8.35it/s]"
     ]
    },
    {
     "name": "stdout",
     "output_type": "stream",
     "text": [
      "                   all        644       1280      0.804      0.482      0.596      0.424\n"
     ]
    },
    {
     "name": "stderr",
     "output_type": "stream",
     "text": [
      "\n"
     ]
    },
    {
     "name": "stdout",
     "output_type": "stream",
     "text": [
      "\n",
      "      Epoch    GPU_mem   box_loss   cls_loss   dfl_loss  Instances       Size\n"
     ]
    },
    {
     "name": "stderr",
     "output_type": "stream",
     "text": [
      "    55/1000      5.86G     0.9316     0.8264      1.194          5       1920: 100%|██████████| 1233/1233 [03:26<00:00,  5.98it/s]\n",
      "                 Class     Images  Instances      Box(P          R      mAP50  mAP50-95): 100%|██████████| 65/65 [00:07<00:00,  8.38it/s]"
     ]
    },
    {
     "name": "stdout",
     "output_type": "stream",
     "text": [
      "                   all        644       1280       0.78      0.488      0.546       0.38\n"
     ]
    },
    {
     "name": "stderr",
     "output_type": "stream",
     "text": [
      "\n"
     ]
    },
    {
     "name": "stdout",
     "output_type": "stream",
     "text": [
      "\n",
      "      Epoch    GPU_mem   box_loss   cls_loss   dfl_loss  Instances       Size\n"
     ]
    },
    {
     "name": "stderr",
     "output_type": "stream",
     "text": [
      "    56/1000      5.86G      0.928     0.8353      1.193          5       1920: 100%|██████████| 1233/1233 [03:26<00:00,  5.98it/s]\n",
      "                 Class     Images  Instances      Box(P          R      mAP50  mAP50-95): 100%|██████████| 65/65 [00:07<00:00,  8.35it/s]"
     ]
    },
    {
     "name": "stdout",
     "output_type": "stream",
     "text": [
      "                   all        644       1280      0.819      0.464      0.548      0.383\n"
     ]
    },
    {
     "name": "stderr",
     "output_type": "stream",
     "text": [
      "\n"
     ]
    },
    {
     "name": "stdout",
     "output_type": "stream",
     "text": [
      "\n",
      "      Epoch    GPU_mem   box_loss   cls_loss   dfl_loss  Instances       Size\n"
     ]
    },
    {
     "name": "stderr",
     "output_type": "stream",
     "text": [
      "    57/1000      5.86G     0.9205     0.8292      1.185          4       1920: 100%|██████████| 1233/1233 [03:26<00:00,  5.98it/s]\n",
      "                 Class     Images  Instances      Box(P          R      mAP50  mAP50-95): 100%|██████████| 65/65 [00:07<00:00,  8.37it/s]"
     ]
    },
    {
     "name": "stdout",
     "output_type": "stream",
     "text": [
      "                   all        644       1280      0.805      0.483      0.564      0.386\n"
     ]
    },
    {
     "name": "stderr",
     "output_type": "stream",
     "text": [
      "\n"
     ]
    },
    {
     "name": "stdout",
     "output_type": "stream",
     "text": [
      "\n",
      "      Epoch    GPU_mem   box_loss   cls_loss   dfl_loss  Instances       Size\n"
     ]
    },
    {
     "name": "stderr",
     "output_type": "stream",
     "text": [
      "    58/1000      5.87G     0.9228     0.8206      1.191          4       1920: 100%|██████████| 1233/1233 [03:26<00:00,  5.98it/s]\n",
      "                 Class     Images  Instances      Box(P          R      mAP50  mAP50-95): 100%|██████████| 65/65 [00:07<00:00,  8.32it/s]"
     ]
    },
    {
     "name": "stdout",
     "output_type": "stream",
     "text": [
      "                   all        644       1280      0.816      0.459      0.568      0.397\n"
     ]
    },
    {
     "name": "stderr",
     "output_type": "stream",
     "text": [
      "\n"
     ]
    },
    {
     "name": "stdout",
     "output_type": "stream",
     "text": [
      "\n",
      "      Epoch    GPU_mem   box_loss   cls_loss   dfl_loss  Instances       Size\n"
     ]
    },
    {
     "name": "stderr",
     "output_type": "stream",
     "text": [
      "    59/1000      5.86G     0.9249     0.8133      1.186          4       1920: 100%|██████████| 1233/1233 [03:26<00:00,  5.98it/s]\n",
      "                 Class     Images  Instances      Box(P          R      mAP50  mAP50-95): 100%|██████████| 65/65 [00:07<00:00,  8.35it/s]"
     ]
    },
    {
     "name": "stdout",
     "output_type": "stream",
     "text": [
      "                   all        644       1280      0.817      0.464      0.554      0.383\n"
     ]
    },
    {
     "name": "stderr",
     "output_type": "stream",
     "text": [
      "\n"
     ]
    },
    {
     "name": "stdout",
     "output_type": "stream",
     "text": [
      "\n",
      "      Epoch    GPU_mem   box_loss   cls_loss   dfl_loss  Instances       Size\n"
     ]
    },
    {
     "name": "stderr",
     "output_type": "stream",
     "text": [
      "    60/1000      5.86G     0.9113     0.8025      1.171          4       1920: 100%|██████████| 1233/1233 [03:26<00:00,  5.98it/s]\n",
      "                 Class     Images  Instances      Box(P          R      mAP50  mAP50-95): 100%|██████████| 65/65 [00:07<00:00,  8.38it/s]"
     ]
    },
    {
     "name": "stdout",
     "output_type": "stream",
     "text": [
      "                   all        644       1280      0.807      0.478      0.555      0.387\n"
     ]
    },
    {
     "name": "stderr",
     "output_type": "stream",
     "text": [
      "\n"
     ]
    },
    {
     "name": "stdout",
     "output_type": "stream",
     "text": [
      "\n",
      "      Epoch    GPU_mem   box_loss   cls_loss   dfl_loss  Instances       Size\n"
     ]
    },
    {
     "name": "stderr",
     "output_type": "stream",
     "text": [
      "    61/1000      5.87G      0.913     0.8075      1.174          5       1920: 100%|██████████| 1233/1233 [03:26<00:00,  5.98it/s]\n",
      "                 Class     Images  Instances      Box(P          R      mAP50  mAP50-95): 100%|██████████| 65/65 [00:07<00:00,  8.37it/s]"
     ]
    },
    {
     "name": "stdout",
     "output_type": "stream",
     "text": [
      "                   all        644       1280      0.814      0.479        0.6      0.429\n"
     ]
    },
    {
     "name": "stderr",
     "output_type": "stream",
     "text": [
      "\n"
     ]
    },
    {
     "name": "stdout",
     "output_type": "stream",
     "text": [
      "\n",
      "      Epoch    GPU_mem   box_loss   cls_loss   dfl_loss  Instances       Size\n"
     ]
    },
    {
     "name": "stderr",
     "output_type": "stream",
     "text": [
      "    62/1000      5.86G      0.913     0.8042      1.174          5       1920: 100%|██████████| 1233/1233 [03:26<00:00,  5.98it/s]\n",
      "                 Class     Images  Instances      Box(P          R      mAP50  mAP50-95): 100%|██████████| 65/65 [00:07<00:00,  8.36it/s]"
     ]
    },
    {
     "name": "stdout",
     "output_type": "stream",
     "text": [
      "                   all        644       1280      0.789      0.486      0.589      0.404\n"
     ]
    },
    {
     "name": "stderr",
     "output_type": "stream",
     "text": [
      "\n"
     ]
    },
    {
     "name": "stdout",
     "output_type": "stream",
     "text": [
      "\n",
      "      Epoch    GPU_mem   box_loss   cls_loss   dfl_loss  Instances       Size\n"
     ]
    },
    {
     "name": "stderr",
     "output_type": "stream",
     "text": [
      "    63/1000      5.85G     0.8983     0.7928      1.168          5       1920: 100%|██████████| 1233/1233 [03:25<00:00,  5.99it/s]\n",
      "                 Class     Images  Instances      Box(P          R      mAP50  mAP50-95): 100%|██████████| 65/65 [00:07<00:00,  8.41it/s]"
     ]
    },
    {
     "name": "stdout",
     "output_type": "stream",
     "text": [
      "                   all        644       1280      0.777      0.488      0.593      0.412\n"
     ]
    },
    {
     "name": "stderr",
     "output_type": "stream",
     "text": [
      "\n"
     ]
    },
    {
     "name": "stdout",
     "output_type": "stream",
     "text": [
      "\n",
      "      Epoch    GPU_mem   box_loss   cls_loss   dfl_loss  Instances       Size\n"
     ]
    },
    {
     "name": "stderr",
     "output_type": "stream",
     "text": [
      "    64/1000      5.86G     0.9091     0.8031      1.175          5       1920: 100%|██████████| 1233/1233 [03:25<00:00,  6.01it/s]\n",
      "                 Class     Images  Instances      Box(P          R      mAP50  mAP50-95): 100%|██████████| 65/65 [00:07<00:00,  8.44it/s]"
     ]
    },
    {
     "name": "stdout",
     "output_type": "stream",
     "text": [
      "                   all        644       1280      0.825      0.468       0.59      0.409\n"
     ]
    },
    {
     "name": "stderr",
     "output_type": "stream",
     "text": [
      "\n"
     ]
    },
    {
     "name": "stdout",
     "output_type": "stream",
     "text": [
      "\n",
      "      Epoch    GPU_mem   box_loss   cls_loss   dfl_loss  Instances       Size\n"
     ]
    },
    {
     "name": "stderr",
     "output_type": "stream",
     "text": [
      "    65/1000      5.86G     0.9002     0.7957      1.166          4       1920: 100%|██████████| 1233/1233 [03:24<00:00,  6.02it/s]\n",
      "                 Class     Images  Instances      Box(P          R      mAP50  mAP50-95): 100%|██████████| 65/65 [00:07<00:00,  8.43it/s]"
     ]
    },
    {
     "name": "stdout",
     "output_type": "stream",
     "text": [
      "                   all        644       1280      0.809      0.476      0.547      0.404\n"
     ]
    },
    {
     "name": "stderr",
     "output_type": "stream",
     "text": [
      "\n"
     ]
    },
    {
     "name": "stdout",
     "output_type": "stream",
     "text": [
      "\n",
      "      Epoch    GPU_mem   box_loss   cls_loss   dfl_loss  Instances       Size\n"
     ]
    },
    {
     "name": "stderr",
     "output_type": "stream",
     "text": [
      "    66/1000      5.87G     0.9014     0.7893       1.17          5       1920: 100%|██████████| 1233/1233 [03:24<00:00,  6.03it/s]\n",
      "                 Class     Images  Instances      Box(P          R      mAP50  mAP50-95): 100%|██████████| 65/65 [00:07<00:00,  8.44it/s]"
     ]
    },
    {
     "name": "stdout",
     "output_type": "stream",
     "text": [
      "                   all        644       1280      0.802      0.486      0.597      0.432\n"
     ]
    },
    {
     "name": "stderr",
     "output_type": "stream",
     "text": [
      "\n"
     ]
    },
    {
     "name": "stdout",
     "output_type": "stream",
     "text": [
      "\n",
      "      Epoch    GPU_mem   box_loss   cls_loss   dfl_loss  Instances       Size\n"
     ]
    },
    {
     "name": "stderr",
     "output_type": "stream",
     "text": [
      "    67/1000      5.86G     0.9044     0.7905      1.174          5       1920: 100%|██████████| 1233/1233 [03:24<00:00,  6.04it/s]\n",
      "                 Class     Images  Instances      Box(P          R      mAP50  mAP50-95): 100%|██████████| 65/65 [00:07<00:00,  8.45it/s]"
     ]
    },
    {
     "name": "stdout",
     "output_type": "stream",
     "text": [
      "                   all        644       1280      0.795      0.472      0.579      0.407\n"
     ]
    },
    {
     "name": "stderr",
     "output_type": "stream",
     "text": [
      "\n"
     ]
    },
    {
     "name": "stdout",
     "output_type": "stream",
     "text": [
      "\n",
      "      Epoch    GPU_mem   box_loss   cls_loss   dfl_loss  Instances       Size\n"
     ]
    },
    {
     "name": "stderr",
     "output_type": "stream",
     "text": [
      "    68/1000      5.86G     0.9009     0.7771      1.169          5       1920: 100%|██████████| 1233/1233 [03:24<00:00,  6.04it/s]\n",
      "                 Class     Images  Instances      Box(P          R      mAP50  mAP50-95): 100%|██████████| 65/65 [00:07<00:00,  8.43it/s]"
     ]
    },
    {
     "name": "stdout",
     "output_type": "stream",
     "text": [
      "                   all        644       1280       0.81      0.467      0.581      0.427\n"
     ]
    },
    {
     "name": "stderr",
     "output_type": "stream",
     "text": [
      "\n"
     ]
    },
    {
     "name": "stdout",
     "output_type": "stream",
     "text": [
      "\n",
      "      Epoch    GPU_mem   box_loss   cls_loss   dfl_loss  Instances       Size\n"
     ]
    },
    {
     "name": "stderr",
     "output_type": "stream",
     "text": [
      "    69/1000      5.86G     0.8916     0.7738      1.155          5       1920: 100%|██████████| 1233/1233 [03:24<00:00,  6.02it/s]\n",
      "                 Class     Images  Instances      Box(P          R      mAP50  mAP50-95): 100%|██████████| 65/65 [00:07<00:00,  8.42it/s]"
     ]
    },
    {
     "name": "stdout",
     "output_type": "stream",
     "text": [
      "                   all        644       1280      0.808      0.472      0.554      0.399\n"
     ]
    },
    {
     "name": "stderr",
     "output_type": "stream",
     "text": [
      "\n"
     ]
    },
    {
     "name": "stdout",
     "output_type": "stream",
     "text": [
      "\n",
      "      Epoch    GPU_mem   box_loss   cls_loss   dfl_loss  Instances       Size\n"
     ]
    },
    {
     "name": "stderr",
     "output_type": "stream",
     "text": [
      "    70/1000      5.86G      0.893     0.7728       1.16          5       1920: 100%|██████████| 1233/1233 [03:24<00:00,  6.01it/s]\n",
      "                 Class     Images  Instances      Box(P          R      mAP50  mAP50-95): 100%|██████████| 65/65 [00:07<00:00,  8.41it/s]"
     ]
    },
    {
     "name": "stdout",
     "output_type": "stream",
     "text": [
      "                   all        644       1280      0.817      0.486      0.601      0.409\n"
     ]
    },
    {
     "name": "stderr",
     "output_type": "stream",
     "text": [
      "\n"
     ]
    },
    {
     "name": "stdout",
     "output_type": "stream",
     "text": [
      "\n",
      "      Epoch    GPU_mem   box_loss   cls_loss   dfl_loss  Instances       Size\n"
     ]
    },
    {
     "name": "stderr",
     "output_type": "stream",
     "text": [
      "    71/1000      5.86G     0.8873      0.769      1.156          5       1920: 100%|██████████| 1233/1233 [03:25<00:00,  6.01it/s]\n",
      "                 Class     Images  Instances      Box(P          R      mAP50  mAP50-95): 100%|██████████| 65/65 [00:07<00:00,  8.42it/s]"
     ]
    },
    {
     "name": "stdout",
     "output_type": "stream",
     "text": [
      "                   all        644       1280      0.799      0.483      0.644      0.468\n"
     ]
    },
    {
     "name": "stderr",
     "output_type": "stream",
     "text": [
      "\n"
     ]
    },
    {
     "name": "stdout",
     "output_type": "stream",
     "text": [
      "\n",
      "      Epoch    GPU_mem   box_loss   cls_loss   dfl_loss  Instances       Size\n"
     ]
    },
    {
     "name": "stderr",
     "output_type": "stream",
     "text": [
      "    72/1000      5.86G     0.8829     0.7634       1.16          5       1920: 100%|██████████| 1233/1233 [03:25<00:00,  6.00it/s]\n",
      "                 Class     Images  Instances      Box(P          R      mAP50  mAP50-95): 100%|██████████| 65/65 [00:07<00:00,  8.40it/s]"
     ]
    },
    {
     "name": "stdout",
     "output_type": "stream",
     "text": [
      "                   all        644       1280        0.8      0.481      0.606      0.429\n"
     ]
    },
    {
     "name": "stderr",
     "output_type": "stream",
     "text": [
      "\n"
     ]
    },
    {
     "name": "stdout",
     "output_type": "stream",
     "text": [
      "\n",
      "      Epoch    GPU_mem   box_loss   cls_loss   dfl_loss  Instances       Size\n"
     ]
    },
    {
     "name": "stderr",
     "output_type": "stream",
     "text": [
      "    73/1000      5.86G     0.8753      0.764      1.151          4       1920: 100%|██████████| 1233/1233 [03:25<00:00,  6.00it/s]\n",
      "                 Class     Images  Instances      Box(P          R      mAP50  mAP50-95): 100%|██████████| 65/65 [00:07<00:00,  8.39it/s]"
     ]
    },
    {
     "name": "stdout",
     "output_type": "stream",
     "text": [
      "                   all        644       1280      0.811      0.475        0.6      0.438\n"
     ]
    },
    {
     "name": "stderr",
     "output_type": "stream",
     "text": [
      "\n"
     ]
    },
    {
     "name": "stdout",
     "output_type": "stream",
     "text": [
      "\n",
      "      Epoch    GPU_mem   box_loss   cls_loss   dfl_loss  Instances       Size\n"
     ]
    },
    {
     "name": "stderr",
     "output_type": "stream",
     "text": [
      "    74/1000      5.86G     0.8771     0.7552      1.154          4       1920: 100%|██████████| 1233/1233 [03:25<00:00,  6.00it/s]\n",
      "                 Class     Images  Instances      Box(P          R      mAP50  mAP50-95): 100%|██████████| 65/65 [00:07<00:00,  8.41it/s]"
     ]
    },
    {
     "name": "stdout",
     "output_type": "stream",
     "text": [
      "                   all        644       1280      0.831      0.465      0.619      0.441\n"
     ]
    },
    {
     "name": "stderr",
     "output_type": "stream",
     "text": [
      "\n"
     ]
    },
    {
     "name": "stdout",
     "output_type": "stream",
     "text": [
      "\n",
      "      Epoch    GPU_mem   box_loss   cls_loss   dfl_loss  Instances       Size\n"
     ]
    },
    {
     "name": "stderr",
     "output_type": "stream",
     "text": [
      "    75/1000      5.86G     0.8784     0.7581      1.152          5       1920: 100%|██████████| 1233/1233 [03:25<00:00,  5.99it/s]\n",
      "                 Class     Images  Instances      Box(P          R      mAP50  mAP50-95): 100%|██████████| 65/65 [00:07<00:00,  8.39it/s]"
     ]
    },
    {
     "name": "stdout",
     "output_type": "stream",
     "text": [
      "                   all        644       1280      0.803      0.482      0.648      0.463\n"
     ]
    },
    {
     "name": "stderr",
     "output_type": "stream",
     "text": [
      "\n"
     ]
    },
    {
     "name": "stdout",
     "output_type": "stream",
     "text": [
      "\n",
      "      Epoch    GPU_mem   box_loss   cls_loss   dfl_loss  Instances       Size\n"
     ]
    },
    {
     "name": "stderr",
     "output_type": "stream",
     "text": [
      "    76/1000      5.85G     0.8775      0.759      1.152          5       1920: 100%|██████████| 1233/1233 [03:25<00:00,  5.99it/s]\n",
      "                 Class     Images  Instances      Box(P          R      mAP50  mAP50-95): 100%|██████████| 65/65 [00:07<00:00,  8.39it/s]"
     ]
    },
    {
     "name": "stdout",
     "output_type": "stream",
     "text": [
      "                   all        644       1280      0.827      0.478      0.597      0.422\n"
     ]
    },
    {
     "name": "stderr",
     "output_type": "stream",
     "text": [
      "\n"
     ]
    },
    {
     "name": "stdout",
     "output_type": "stream",
     "text": [
      "\n",
      "      Epoch    GPU_mem   box_loss   cls_loss   dfl_loss  Instances       Size\n"
     ]
    },
    {
     "name": "stderr",
     "output_type": "stream",
     "text": [
      "    77/1000      5.86G     0.8736     0.7509      1.143          5       1920: 100%|██████████| 1233/1233 [03:25<00:00,  5.99it/s]\n",
      "                 Class     Images  Instances      Box(P          R      mAP50  mAP50-95): 100%|██████████| 65/65 [00:07<00:00,  8.40it/s]"
     ]
    },
    {
     "name": "stdout",
     "output_type": "stream",
     "text": [
      "                   all        644       1280      0.586      0.622      0.589      0.427\n"
     ]
    },
    {
     "name": "stderr",
     "output_type": "stream",
     "text": [
      "\n"
     ]
    },
    {
     "name": "stdout",
     "output_type": "stream",
     "text": [
      "\n",
      "      Epoch    GPU_mem   box_loss   cls_loss   dfl_loss  Instances       Size\n"
     ]
    },
    {
     "name": "stderr",
     "output_type": "stream",
     "text": [
      "    78/1000      5.86G     0.8733      0.748      1.148          5       1920: 100%|██████████| 1233/1233 [03:25<00:00,  5.99it/s]\n",
      "                 Class     Images  Instances      Box(P          R      mAP50  mAP50-95): 100%|██████████| 65/65 [00:07<00:00,  8.39it/s]"
     ]
    },
    {
     "name": "stdout",
     "output_type": "stream",
     "text": [
      "                   all        644       1280       0.66      0.605        0.6      0.445\n"
     ]
    },
    {
     "name": "stderr",
     "output_type": "stream",
     "text": [
      "\n"
     ]
    },
    {
     "name": "stdout",
     "output_type": "stream",
     "text": [
      "\n",
      "      Epoch    GPU_mem   box_loss   cls_loss   dfl_loss  Instances       Size\n"
     ]
    },
    {
     "name": "stderr",
     "output_type": "stream",
     "text": [
      "    79/1000      5.86G     0.8672      0.739      1.135          5       1920: 100%|██████████| 1233/1233 [03:25<00:00,  5.99it/s]\n",
      "                 Class     Images  Instances      Box(P          R      mAP50  mAP50-95): 100%|██████████| 65/65 [00:07<00:00,  8.35it/s]"
     ]
    },
    {
     "name": "stdout",
     "output_type": "stream",
     "text": [
      "                   all        644       1280      0.572      0.623      0.642      0.443\n"
     ]
    },
    {
     "name": "stderr",
     "output_type": "stream",
     "text": [
      "\n"
     ]
    },
    {
     "name": "stdout",
     "output_type": "stream",
     "text": [
      "\n",
      "      Epoch    GPU_mem   box_loss   cls_loss   dfl_loss  Instances       Size\n"
     ]
    },
    {
     "name": "stderr",
     "output_type": "stream",
     "text": [
      "    80/1000      5.86G     0.8578     0.7393      1.134          5       1920: 100%|██████████| 1233/1233 [03:25<00:00,  5.99it/s]\n",
      "                 Class     Images  Instances      Box(P          R      mAP50  mAP50-95): 100%|██████████| 65/65 [00:07<00:00,  8.39it/s]"
     ]
    },
    {
     "name": "stdout",
     "output_type": "stream",
     "text": [
      "                   all        644       1280      0.771      0.547      0.652      0.455\n"
     ]
    },
    {
     "name": "stderr",
     "output_type": "stream",
     "text": [
      "\n"
     ]
    },
    {
     "name": "stdout",
     "output_type": "stream",
     "text": [
      "\n",
      "      Epoch    GPU_mem   box_loss   cls_loss   dfl_loss  Instances       Size\n"
     ]
    },
    {
     "name": "stderr",
     "output_type": "stream",
     "text": [
      "    81/1000      5.86G     0.8691     0.7352      1.144          4       1920: 100%|██████████| 1233/1233 [03:26<00:00,  5.99it/s]\n",
      "                 Class     Images  Instances      Box(P          R      mAP50  mAP50-95): 100%|██████████| 65/65 [00:07<00:00,  8.39it/s]"
     ]
    },
    {
     "name": "stdout",
     "output_type": "stream",
     "text": [
      "                   all        644       1280       0.75      0.543      0.587      0.431\n"
     ]
    },
    {
     "name": "stderr",
     "output_type": "stream",
     "text": [
      "\n"
     ]
    },
    {
     "name": "stdout",
     "output_type": "stream",
     "text": [
      "\n",
      "      Epoch    GPU_mem   box_loss   cls_loss   dfl_loss  Instances       Size\n"
     ]
    },
    {
     "name": "stderr",
     "output_type": "stream",
     "text": [
      "    82/1000      5.86G       0.86     0.7315      1.137          4       1920: 100%|██████████| 1233/1233 [03:25<00:00,  5.99it/s]\n",
      "                 Class     Images  Instances      Box(P          R      mAP50  mAP50-95): 100%|██████████| 65/65 [00:07<00:00,  8.39it/s]"
     ]
    },
    {
     "name": "stdout",
     "output_type": "stream",
     "text": [
      "                   all        644       1280      0.742      0.563      0.591       0.42\n"
     ]
    },
    {
     "name": "stderr",
     "output_type": "stream",
     "text": [
      "\n"
     ]
    },
    {
     "name": "stdout",
     "output_type": "stream",
     "text": [
      "\n",
      "      Epoch    GPU_mem   box_loss   cls_loss   dfl_loss  Instances       Size\n"
     ]
    },
    {
     "name": "stderr",
     "output_type": "stream",
     "text": [
      "    83/1000      5.86G     0.8615      0.727       1.14          4       1920: 100%|██████████| 1233/1233 [03:25<00:00,  5.99it/s]\n",
      "                 Class     Images  Instances      Box(P          R      mAP50  mAP50-95): 100%|██████████| 65/65 [00:07<00:00,  8.33it/s]"
     ]
    },
    {
     "name": "stdout",
     "output_type": "stream",
     "text": [
      "                   all        644       1280       0.75      0.545      0.595      0.426\n"
     ]
    },
    {
     "name": "stderr",
     "output_type": "stream",
     "text": [
      "\n"
     ]
    },
    {
     "name": "stdout",
     "output_type": "stream",
     "text": [
      "\n",
      "      Epoch    GPU_mem   box_loss   cls_loss   dfl_loss  Instances       Size\n"
     ]
    },
    {
     "name": "stderr",
     "output_type": "stream",
     "text": [
      "    84/1000      5.86G     0.8611     0.7318      1.136          4       1920: 100%|██████████| 1233/1233 [03:25<00:00,  5.99it/s]\n",
      "                 Class     Images  Instances      Box(P          R      mAP50  mAP50-95): 100%|██████████| 65/65 [00:07<00:00,  8.36it/s]"
     ]
    },
    {
     "name": "stdout",
     "output_type": "stream",
     "text": [
      "                   all        644       1280      0.784      0.528      0.594      0.414\n"
     ]
    },
    {
     "name": "stderr",
     "output_type": "stream",
     "text": [
      "\n"
     ]
    },
    {
     "name": "stdout",
     "output_type": "stream",
     "text": [
      "\n",
      "      Epoch    GPU_mem   box_loss   cls_loss   dfl_loss  Instances       Size\n"
     ]
    },
    {
     "name": "stderr",
     "output_type": "stream",
     "text": [
      "    85/1000      5.86G     0.8571     0.7249      1.135          4       1920: 100%|██████████| 1233/1233 [03:26<00:00,  5.98it/s]\n",
      "                 Class     Images  Instances      Box(P          R      mAP50  mAP50-95): 100%|██████████| 65/65 [00:07<00:00,  8.33it/s]"
     ]
    },
    {
     "name": "stdout",
     "output_type": "stream",
     "text": [
      "                   all        644       1280       0.74      0.551      0.593      0.423\n"
     ]
    },
    {
     "name": "stderr",
     "output_type": "stream",
     "text": [
      "\n"
     ]
    },
    {
     "name": "stdout",
     "output_type": "stream",
     "text": [
      "\n",
      "      Epoch    GPU_mem   box_loss   cls_loss   dfl_loss  Instances       Size\n"
     ]
    },
    {
     "name": "stderr",
     "output_type": "stream",
     "text": [
      "    86/1000      5.86G     0.8613     0.7263      1.134          5       1920: 100%|██████████| 1233/1233 [03:26<00:00,  5.99it/s]\n",
      "                 Class     Images  Instances      Box(P          R      mAP50  mAP50-95): 100%|██████████| 65/65 [00:07<00:00,  8.36it/s]"
     ]
    },
    {
     "name": "stdout",
     "output_type": "stream",
     "text": [
      "                   all        644       1280      0.703       0.58      0.597      0.432\n"
     ]
    },
    {
     "name": "stderr",
     "output_type": "stream",
     "text": [
      "\n"
     ]
    },
    {
     "name": "stdout",
     "output_type": "stream",
     "text": [
      "\n",
      "      Epoch    GPU_mem   box_loss   cls_loss   dfl_loss  Instances       Size\n"
     ]
    },
    {
     "name": "stderr",
     "output_type": "stream",
     "text": [
      "    87/1000      5.86G     0.8483     0.7156      1.127          4       1920: 100%|██████████| 1233/1233 [03:26<00:00,  5.98it/s]\n",
      "                 Class     Images  Instances      Box(P          R      mAP50  mAP50-95): 100%|██████████| 65/65 [00:07<00:00,  8.40it/s]"
     ]
    },
    {
     "name": "stdout",
     "output_type": "stream",
     "text": [
      "                   all        644       1280      0.721      0.582      0.592      0.437\n"
     ]
    },
    {
     "name": "stderr",
     "output_type": "stream",
     "text": [
      "\n"
     ]
    },
    {
     "name": "stdout",
     "output_type": "stream",
     "text": [
      "\n",
      "      Epoch    GPU_mem   box_loss   cls_loss   dfl_loss  Instances       Size\n"
     ]
    },
    {
     "name": "stderr",
     "output_type": "stream",
     "text": [
      "    88/1000      5.86G     0.8503     0.7167      1.125          5       1920: 100%|██████████| 1233/1233 [03:25<00:00,  5.99it/s]\n",
      "                 Class     Images  Instances      Box(P          R      mAP50  mAP50-95): 100%|██████████| 65/65 [00:07<00:00,  8.36it/s]"
     ]
    },
    {
     "name": "stdout",
     "output_type": "stream",
     "text": [
      "                   all        644       1280      0.613      0.601       0.58       0.41\n"
     ]
    },
    {
     "name": "stderr",
     "output_type": "stream",
     "text": [
      "\n"
     ]
    },
    {
     "name": "stdout",
     "output_type": "stream",
     "text": [
      "\n",
      "      Epoch    GPU_mem   box_loss   cls_loss   dfl_loss  Instances       Size\n"
     ]
    },
    {
     "name": "stderr",
     "output_type": "stream",
     "text": [
      "    89/1000      5.85G     0.8463     0.7082      1.126          4       1920: 100%|██████████| 1233/1233 [03:25<00:00,  5.99it/s]\n",
      "                 Class     Images  Instances      Box(P          R      mAP50  mAP50-95): 100%|██████████| 65/65 [00:07<00:00,  8.40it/s]"
     ]
    },
    {
     "name": "stdout",
     "output_type": "stream",
     "text": [
      "                   all        644       1280       0.57      0.604      0.588      0.409\n"
     ]
    },
    {
     "name": "stderr",
     "output_type": "stream",
     "text": [
      "\n"
     ]
    },
    {
     "name": "stdout",
     "output_type": "stream",
     "text": [
      "\n",
      "      Epoch    GPU_mem   box_loss   cls_loss   dfl_loss  Instances       Size\n"
     ]
    },
    {
     "name": "stderr",
     "output_type": "stream",
     "text": [
      "    90/1000      5.86G     0.8503     0.7117      1.124          5       1920: 100%|██████████| 1233/1233 [03:26<00:00,  5.98it/s]\n",
      "                 Class     Images  Instances      Box(P          R      mAP50  mAP50-95): 100%|██████████| 65/65 [00:07<00:00,  8.39it/s]"
     ]
    },
    {
     "name": "stdout",
     "output_type": "stream",
     "text": [
      "                   all        644       1280      0.776      0.544      0.586        0.4\n"
     ]
    },
    {
     "name": "stderr",
     "output_type": "stream",
     "text": [
      "\n"
     ]
    },
    {
     "name": "stdout",
     "output_type": "stream",
     "text": [
      "\n",
      "      Epoch    GPU_mem   box_loss   cls_loss   dfl_loss  Instances       Size\n"
     ]
    },
    {
     "name": "stderr",
     "output_type": "stream",
     "text": [
      "    91/1000      5.86G     0.8351     0.6994      1.118          4       1920: 100%|██████████| 1233/1233 [03:26<00:00,  5.98it/s]\n",
      "                 Class     Images  Instances      Box(P          R      mAP50  mAP50-95): 100%|██████████| 65/65 [00:07<00:00,  8.37it/s]"
     ]
    },
    {
     "name": "stdout",
     "output_type": "stream",
     "text": [
      "                   all        644       1280      0.762      0.532      0.591      0.406\n"
     ]
    },
    {
     "name": "stderr",
     "output_type": "stream",
     "text": [
      "\n"
     ]
    },
    {
     "name": "stdout",
     "output_type": "stream",
     "text": [
      "\n",
      "      Epoch    GPU_mem   box_loss   cls_loss   dfl_loss  Instances       Size\n"
     ]
    },
    {
     "name": "stderr",
     "output_type": "stream",
     "text": [
      "    92/1000      5.86G     0.8411     0.7026      1.118          5       1920: 100%|██████████| 1233/1233 [03:26<00:00,  5.97it/s]\n",
      "                 Class     Images  Instances      Box(P          R      mAP50  mAP50-95): 100%|██████████| 65/65 [00:07<00:00,  8.37it/s]"
     ]
    },
    {
     "name": "stdout",
     "output_type": "stream",
     "text": [
      "                   all        644       1280      0.746      0.538      0.598      0.426\n"
     ]
    },
    {
     "name": "stderr",
     "output_type": "stream",
     "text": [
      "\n"
     ]
    },
    {
     "name": "stdout",
     "output_type": "stream",
     "text": [
      "\n",
      "      Epoch    GPU_mem   box_loss   cls_loss   dfl_loss  Instances       Size\n"
     ]
    },
    {
     "name": "stderr",
     "output_type": "stream",
     "text": [
      "    93/1000      5.86G     0.8462     0.7028      1.124          5       1920: 100%|██████████| 1233/1233 [03:26<00:00,  5.98it/s]\n",
      "                 Class     Images  Instances      Box(P          R      mAP50  mAP50-95): 100%|██████████| 65/65 [00:07<00:00,  8.40it/s]"
     ]
    },
    {
     "name": "stdout",
     "output_type": "stream",
     "text": [
      "                   all        644       1280      0.787      0.536      0.588      0.415\n"
     ]
    },
    {
     "name": "stderr",
     "output_type": "stream",
     "text": [
      "\n"
     ]
    },
    {
     "name": "stdout",
     "output_type": "stream",
     "text": [
      "\n",
      "      Epoch    GPU_mem   box_loss   cls_loss   dfl_loss  Instances       Size\n"
     ]
    },
    {
     "name": "stderr",
     "output_type": "stream",
     "text": [
      "    94/1000      5.87G     0.8383     0.7012      1.114          5       1920: 100%|██████████| 1233/1233 [03:25<00:00,  6.00it/s]\n",
      "                 Class     Images  Instances      Box(P          R      mAP50  mAP50-95): 100%|██████████| 65/65 [00:07<00:00,  8.41it/s]"
     ]
    },
    {
     "name": "stdout",
     "output_type": "stream",
     "text": [
      "                   all        644       1280      0.783       0.53      0.594       0.43\n"
     ]
    },
    {
     "name": "stderr",
     "output_type": "stream",
     "text": [
      "\n"
     ]
    },
    {
     "name": "stdout",
     "output_type": "stream",
     "text": [
      "\n",
      "      Epoch    GPU_mem   box_loss   cls_loss   dfl_loss  Instances       Size\n"
     ]
    },
    {
     "name": "stderr",
     "output_type": "stream",
     "text": [
      "    95/1000      5.87G     0.8446     0.6945      1.123          5       1920: 100%|██████████| 1233/1233 [03:24<00:00,  6.02it/s]\n",
      "                 Class     Images  Instances      Box(P          R      mAP50  mAP50-95): 100%|██████████| 65/65 [00:07<00:00,  8.43it/s]"
     ]
    },
    {
     "name": "stdout",
     "output_type": "stream",
     "text": [
      "                   all        644       1280      0.742      0.526      0.594      0.437\n"
     ]
    },
    {
     "name": "stderr",
     "output_type": "stream",
     "text": [
      "\n"
     ]
    },
    {
     "name": "stdout",
     "output_type": "stream",
     "text": [
      "\n",
      "      Epoch    GPU_mem   box_loss   cls_loss   dfl_loss  Instances       Size\n"
     ]
    },
    {
     "name": "stderr",
     "output_type": "stream",
     "text": [
      "    96/1000      5.86G      0.836     0.6949      1.121          5       1920: 100%|██████████| 1233/1233 [03:24<00:00,  6.03it/s]\n",
      "                 Class     Images  Instances      Box(P          R      mAP50  mAP50-95): 100%|██████████| 65/65 [00:07<00:00,  8.44it/s]"
     ]
    },
    {
     "name": "stdout",
     "output_type": "stream",
     "text": [
      "                   all        644       1280      0.701      0.526      0.588      0.436\n"
     ]
    },
    {
     "name": "stderr",
     "output_type": "stream",
     "text": [
      "\n"
     ]
    },
    {
     "name": "stdout",
     "output_type": "stream",
     "text": [
      "\n",
      "      Epoch    GPU_mem   box_loss   cls_loss   dfl_loss  Instances       Size\n"
     ]
    },
    {
     "name": "stderr",
     "output_type": "stream",
     "text": [
      "    97/1000      5.86G     0.8392     0.6929      1.117          4       1920: 100%|██████████| 1233/1233 [03:24<00:00,  6.04it/s]\n",
      "                 Class     Images  Instances      Box(P          R      mAP50  mAP50-95): 100%|██████████| 65/65 [00:07<00:00,  8.46it/s]"
     ]
    },
    {
     "name": "stdout",
     "output_type": "stream",
     "text": [
      "                   all        644       1280      0.779      0.514      0.596      0.443\n"
     ]
    },
    {
     "name": "stderr",
     "output_type": "stream",
     "text": [
      "\n"
     ]
    },
    {
     "name": "stdout",
     "output_type": "stream",
     "text": [
      "\n",
      "      Epoch    GPU_mem   box_loss   cls_loss   dfl_loss  Instances       Size\n"
     ]
    },
    {
     "name": "stderr",
     "output_type": "stream",
     "text": [
      "    98/1000      5.87G     0.8337     0.6913      1.118          5       1920: 100%|██████████| 1233/1233 [03:24<00:00,  6.04it/s]\n",
      "                 Class     Images  Instances      Box(P          R      mAP50  mAP50-95): 100%|██████████| 65/65 [00:07<00:00,  8.42it/s]"
     ]
    },
    {
     "name": "stdout",
     "output_type": "stream",
     "text": [
      "                   all        644       1280      0.734      0.538      0.601      0.445\n"
     ]
    },
    {
     "name": "stderr",
     "output_type": "stream",
     "text": [
      "\n"
     ]
    },
    {
     "name": "stdout",
     "output_type": "stream",
     "text": [
      "\n",
      "      Epoch    GPU_mem   box_loss   cls_loss   dfl_loss  Instances       Size\n"
     ]
    },
    {
     "name": "stderr",
     "output_type": "stream",
     "text": [
      "    99/1000      5.86G     0.8261     0.6917      1.108          4       1920: 100%|██████████| 1233/1233 [03:24<00:00,  6.02it/s]\n",
      "                 Class     Images  Instances      Box(P          R      mAP50  mAP50-95): 100%|██████████| 65/65 [00:07<00:00,  8.40it/s]"
     ]
    },
    {
     "name": "stdout",
     "output_type": "stream",
     "text": [
      "                   all        644       1280       0.76      0.547        0.6      0.435\n"
     ]
    },
    {
     "name": "stderr",
     "output_type": "stream",
     "text": [
      "\n"
     ]
    },
    {
     "name": "stdout",
     "output_type": "stream",
     "text": [
      "\n",
      "      Epoch    GPU_mem   box_loss   cls_loss   dfl_loss  Instances       Size\n"
     ]
    },
    {
     "name": "stderr",
     "output_type": "stream",
     "text": [
      "   100/1000      5.86G     0.8394     0.6934      1.119          4       1920: 100%|██████████| 1233/1233 [03:25<00:00,  6.01it/s]\n",
      "                 Class     Images  Instances      Box(P          R      mAP50  mAP50-95): 100%|██████████| 65/65 [00:07<00:00,  8.39it/s]"
     ]
    },
    {
     "name": "stdout",
     "output_type": "stream",
     "text": [
      "                   all        644       1280      0.724      0.543      0.593      0.424\n"
     ]
    },
    {
     "name": "stderr",
     "output_type": "stream",
     "text": [
      "\n"
     ]
    },
    {
     "name": "stdout",
     "output_type": "stream",
     "text": [
      "\n",
      "      Epoch    GPU_mem   box_loss   cls_loss   dfl_loss  Instances       Size\n"
     ]
    },
    {
     "name": "stderr",
     "output_type": "stream",
     "text": [
      "   101/1000      5.86G     0.8301     0.6861      1.114          5       1920: 100%|██████████| 1233/1233 [03:25<00:00,  6.00it/s]\n",
      "                 Class     Images  Instances      Box(P          R      mAP50  mAP50-95): 100%|██████████| 65/65 [00:07<00:00,  8.41it/s]"
     ]
    },
    {
     "name": "stdout",
     "output_type": "stream",
     "text": [
      "                   all        644       1280      0.499      0.627       0.58      0.418\n"
     ]
    },
    {
     "name": "stderr",
     "output_type": "stream",
     "text": [
      "\n"
     ]
    },
    {
     "name": "stdout",
     "output_type": "stream",
     "text": [
      "\n",
      "      Epoch    GPU_mem   box_loss   cls_loss   dfl_loss  Instances       Size\n"
     ]
    },
    {
     "name": "stderr",
     "output_type": "stream",
     "text": [
      "   102/1000      5.85G     0.8258     0.6824      1.111          4       1920: 100%|██████████| 1233/1233 [03:25<00:00,  6.00it/s]\n",
      "                 Class     Images  Instances      Box(P          R      mAP50  mAP50-95): 100%|██████████| 65/65 [00:07<00:00,  8.41it/s]"
     ]
    },
    {
     "name": "stdout",
     "output_type": "stream",
     "text": [
      "                   all        644       1280      0.638      0.556      0.606      0.435\n"
     ]
    },
    {
     "name": "stderr",
     "output_type": "stream",
     "text": [
      "\n"
     ]
    },
    {
     "name": "stdout",
     "output_type": "stream",
     "text": [
      "\n",
      "      Epoch    GPU_mem   box_loss   cls_loss   dfl_loss  Instances       Size\n"
     ]
    },
    {
     "name": "stderr",
     "output_type": "stream",
     "text": [
      "   103/1000      5.86G      0.824     0.6786      1.108          5       1920: 100%|██████████| 1233/1233 [03:25<00:00,  6.00it/s]\n",
      "                 Class     Images  Instances      Box(P          R      mAP50  mAP50-95): 100%|██████████| 65/65 [00:07<00:00,  8.41it/s]"
     ]
    },
    {
     "name": "stdout",
     "output_type": "stream",
     "text": [
      "                   all        644       1280       0.78       0.52      0.608      0.428\n"
     ]
    },
    {
     "name": "stderr",
     "output_type": "stream",
     "text": [
      "\n"
     ]
    },
    {
     "name": "stdout",
     "output_type": "stream",
     "text": [
      "\n",
      "      Epoch    GPU_mem   box_loss   cls_loss   dfl_loss  Instances       Size\n"
     ]
    },
    {
     "name": "stderr",
     "output_type": "stream",
     "text": [
      "   104/1000      5.86G     0.8183     0.6687      1.103          5       1920: 100%|██████████| 1233/1233 [03:25<00:00,  6.00it/s]\n",
      "                 Class     Images  Instances      Box(P          R      mAP50  mAP50-95): 100%|██████████| 65/65 [00:07<00:00,  8.38it/s]"
     ]
    },
    {
     "name": "stdout",
     "output_type": "stream",
     "text": [
      "                   all        644       1280      0.759      0.513      0.612      0.429\n"
     ]
    },
    {
     "name": "stderr",
     "output_type": "stream",
     "text": [
      "\n"
     ]
    },
    {
     "name": "stdout",
     "output_type": "stream",
     "text": [
      "\n",
      "      Epoch    GPU_mem   box_loss   cls_loss   dfl_loss  Instances       Size\n"
     ]
    },
    {
     "name": "stderr",
     "output_type": "stream",
     "text": [
      "   105/1000      5.86G     0.8192     0.6719      1.106          5       1920: 100%|██████████| 1233/1233 [03:25<00:00,  6.00it/s]\n",
      "                 Class     Images  Instances      Box(P          R      mAP50  mAP50-95): 100%|██████████| 65/65 [00:07<00:00,  8.42it/s]"
     ]
    },
    {
     "name": "stdout",
     "output_type": "stream",
     "text": [
      "                   all        644       1280      0.794      0.518      0.612      0.436\n"
     ]
    },
    {
     "name": "stderr",
     "output_type": "stream",
     "text": [
      "\n"
     ]
    },
    {
     "name": "stdout",
     "output_type": "stream",
     "text": [
      "\n",
      "      Epoch    GPU_mem   box_loss   cls_loss   dfl_loss  Instances       Size\n"
     ]
    },
    {
     "name": "stderr",
     "output_type": "stream",
     "text": [
      "   106/1000      5.86G     0.8171     0.6625      1.105          5       1920: 100%|██████████| 1233/1233 [03:25<00:00,  6.00it/s]\n",
      "                 Class     Images  Instances      Box(P          R      mAP50  mAP50-95): 100%|██████████| 65/65 [00:07<00:00,  8.39it/s]"
     ]
    },
    {
     "name": "stdout",
     "output_type": "stream",
     "text": [
      "                   all        644       1280      0.762      0.543      0.604      0.441\n"
     ]
    },
    {
     "name": "stderr",
     "output_type": "stream",
     "text": [
      "\n"
     ]
    },
    {
     "name": "stdout",
     "output_type": "stream",
     "text": [
      "\n",
      "      Epoch    GPU_mem   box_loss   cls_loss   dfl_loss  Instances       Size\n"
     ]
    },
    {
     "name": "stderr",
     "output_type": "stream",
     "text": [
      "   107/1000      5.86G     0.8175     0.6657      1.103          4       1920: 100%|██████████| 1233/1233 [03:25<00:00,  5.99it/s]\n",
      "                 Class     Images  Instances      Box(P          R      mAP50  mAP50-95): 100%|██████████| 65/65 [00:07<00:00,  8.39it/s]"
     ]
    },
    {
     "name": "stdout",
     "output_type": "stream",
     "text": [
      "                   all        644       1280      0.643      0.576      0.596      0.447\n"
     ]
    },
    {
     "name": "stderr",
     "output_type": "stream",
     "text": [
      "\n"
     ]
    },
    {
     "name": "stdout",
     "output_type": "stream",
     "text": [
      "\n",
      "      Epoch    GPU_mem   box_loss   cls_loss   dfl_loss  Instances       Size\n"
     ]
    },
    {
     "name": "stderr",
     "output_type": "stream",
     "text": [
      "   108/1000      5.86G     0.8214     0.6657      1.109          5       1920: 100%|██████████| 1233/1233 [03:25<00:00,  5.99it/s]\n",
      "                 Class     Images  Instances      Box(P          R      mAP50  mAP50-95): 100%|██████████| 65/65 [00:07<00:00,  8.39it/s]"
     ]
    },
    {
     "name": "stdout",
     "output_type": "stream",
     "text": [
      "                   all        644       1280      0.547      0.569      0.549      0.406\n"
     ]
    },
    {
     "name": "stderr",
     "output_type": "stream",
     "text": [
      "\n"
     ]
    },
    {
     "name": "stdout",
     "output_type": "stream",
     "text": [
      "\n",
      "      Epoch    GPU_mem   box_loss   cls_loss   dfl_loss  Instances       Size\n"
     ]
    },
    {
     "name": "stderr",
     "output_type": "stream",
     "text": [
      "   109/1000      5.86G     0.8147     0.6569      1.102          5       1920: 100%|██████████| 1233/1233 [03:25<00:00,  5.99it/s]\n",
      "                 Class     Images  Instances      Box(P          R      mAP50  mAP50-95): 100%|██████████| 65/65 [00:07<00:00,  8.38it/s]"
     ]
    },
    {
     "name": "stdout",
     "output_type": "stream",
     "text": [
      "                   all        644       1280      0.508      0.595       0.55      0.407\n"
     ]
    },
    {
     "name": "stderr",
     "output_type": "stream",
     "text": [
      "\n"
     ]
    },
    {
     "name": "stdout",
     "output_type": "stream",
     "text": [
      "\n",
      "      Epoch    GPU_mem   box_loss   cls_loss   dfl_loss  Instances       Size\n"
     ]
    },
    {
     "name": "stderr",
     "output_type": "stream",
     "text": [
      "   110/1000      5.86G     0.8141     0.6587      1.098          4       1920: 100%|██████████| 1233/1233 [03:25<00:00,  5.99it/s]\n",
      "                 Class     Images  Instances      Box(P          R      mAP50  mAP50-95): 100%|██████████| 65/65 [00:07<00:00,  8.39it/s]"
     ]
    },
    {
     "name": "stdout",
     "output_type": "stream",
     "text": [
      "                   all        644       1280      0.538      0.579      0.546      0.395\n"
     ]
    },
    {
     "name": "stderr",
     "output_type": "stream",
     "text": [
      "\n"
     ]
    },
    {
     "name": "stdout",
     "output_type": "stream",
     "text": [
      "\n",
      "      Epoch    GPU_mem   box_loss   cls_loss   dfl_loss  Instances       Size\n"
     ]
    },
    {
     "name": "stderr",
     "output_type": "stream",
     "text": [
      "   111/1000      5.86G      0.812     0.6555      1.101          5       1920: 100%|██████████| 1233/1233 [03:25<00:00,  5.99it/s]\n",
      "                 Class     Images  Instances      Box(P          R      mAP50  mAP50-95): 100%|██████████| 65/65 [00:07<00:00,  8.39it/s]"
     ]
    },
    {
     "name": "stdout",
     "output_type": "stream",
     "text": [
      "                   all        644       1280      0.526      0.603      0.553      0.401\n"
     ]
    },
    {
     "name": "stderr",
     "output_type": "stream",
     "text": [
      "\n"
     ]
    },
    {
     "name": "stdout",
     "output_type": "stream",
     "text": [
      "\n",
      "      Epoch    GPU_mem   box_loss   cls_loss   dfl_loss  Instances       Size\n"
     ]
    },
    {
     "name": "stderr",
     "output_type": "stream",
     "text": [
      "   112/1000      5.86G     0.8099     0.6523      1.103          5       1920: 100%|██████████| 1233/1233 [03:25<00:00,  5.99it/s]\n",
      "                 Class     Images  Instances      Box(P          R      mAP50  mAP50-95): 100%|██████████| 65/65 [00:07<00:00,  8.38it/s]"
     ]
    },
    {
     "name": "stdout",
     "output_type": "stream",
     "text": [
      "                   all        644       1280       0.52      0.594      0.551      0.407\n"
     ]
    },
    {
     "name": "stderr",
     "output_type": "stream",
     "text": [
      "\n"
     ]
    },
    {
     "name": "stdout",
     "output_type": "stream",
     "text": [
      "\n",
      "      Epoch    GPU_mem   box_loss   cls_loss   dfl_loss  Instances       Size\n"
     ]
    },
    {
     "name": "stderr",
     "output_type": "stream",
     "text": [
      "   113/1000      5.86G     0.8047     0.6541      1.097          5       1920: 100%|██████████| 1233/1233 [03:25<00:00,  5.99it/s]\n",
      "                 Class     Images  Instances      Box(P          R      mAP50  mAP50-95): 100%|██████████| 65/65 [00:07<00:00,  8.39it/s]"
     ]
    },
    {
     "name": "stdout",
     "output_type": "stream",
     "text": [
      "                   all        644       1280      0.632      0.535      0.551      0.407\n"
     ]
    },
    {
     "name": "stderr",
     "output_type": "stream",
     "text": [
      "\n"
     ]
    },
    {
     "name": "stdout",
     "output_type": "stream",
     "text": [
      "\n",
      "      Epoch    GPU_mem   box_loss   cls_loss   dfl_loss  Instances       Size\n"
     ]
    },
    {
     "name": "stderr",
     "output_type": "stream",
     "text": [
      "   114/1000      5.86G     0.8079     0.6573      1.096          5       1920: 100%|██████████| 1233/1233 [03:25<00:00,  5.99it/s]\n",
      "                 Class     Images  Instances      Box(P          R      mAP50  mAP50-95): 100%|██████████| 65/65 [00:07<00:00,  8.40it/s]"
     ]
    },
    {
     "name": "stdout",
     "output_type": "stream",
     "text": [
      "                   all        644       1280      0.644      0.533      0.551      0.403\n"
     ]
    },
    {
     "name": "stderr",
     "output_type": "stream",
     "text": [
      "\n"
     ]
    },
    {
     "name": "stdout",
     "output_type": "stream",
     "text": [
      "\n",
      "      Epoch    GPU_mem   box_loss   cls_loss   dfl_loss  Instances       Size\n"
     ]
    },
    {
     "name": "stderr",
     "output_type": "stream",
     "text": [
      "   115/1000      5.85G     0.8058     0.6541      1.091          5       1920: 100%|██████████| 1233/1233 [03:25<00:00,  5.99it/s]\n",
      "                 Class     Images  Instances      Box(P          R      mAP50  mAP50-95): 100%|██████████| 65/65 [00:07<00:00,  8.39it/s]"
     ]
    },
    {
     "name": "stdout",
     "output_type": "stream",
     "text": [
      "                   all        644       1280      0.663      0.529      0.581      0.423\n"
     ]
    },
    {
     "name": "stderr",
     "output_type": "stream",
     "text": [
      "\n"
     ]
    },
    {
     "name": "stdout",
     "output_type": "stream",
     "text": [
      "\n",
      "      Epoch    GPU_mem   box_loss   cls_loss   dfl_loss  Instances       Size\n"
     ]
    },
    {
     "name": "stderr",
     "output_type": "stream",
     "text": [
      "   116/1000      5.86G     0.8006     0.6445      1.097          5       1920: 100%|██████████| 1233/1233 [03:25<00:00,  5.99it/s]\n",
      "                 Class     Images  Instances      Box(P          R      mAP50  mAP50-95): 100%|██████████| 65/65 [00:07<00:00,  8.36it/s]"
     ]
    },
    {
     "name": "stdout",
     "output_type": "stream",
     "text": [
      "                   all        644       1280      0.784       0.52       0.58      0.416\n"
     ]
    },
    {
     "name": "stderr",
     "output_type": "stream",
     "text": [
      "\n"
     ]
    },
    {
     "name": "stdout",
     "output_type": "stream",
     "text": [
      "\n",
      "      Epoch    GPU_mem   box_loss   cls_loss   dfl_loss  Instances       Size\n"
     ]
    },
    {
     "name": "stderr",
     "output_type": "stream",
     "text": [
      "   117/1000      5.86G     0.8078     0.6456      1.093          5       1920: 100%|██████████| 1233/1233 [03:26<00:00,  5.98it/s]\n",
      "                 Class     Images  Instances      Box(P          R      mAP50  mAP50-95): 100%|██████████| 65/65 [00:07<00:00,  8.41it/s]"
     ]
    },
    {
     "name": "stdout",
     "output_type": "stream",
     "text": [
      "                   all        644       1280       0.72       0.56       0.58      0.421\n"
     ]
    },
    {
     "name": "stderr",
     "output_type": "stream",
     "text": [
      "\n"
     ]
    },
    {
     "name": "stdout",
     "output_type": "stream",
     "text": [
      "\n",
      "      Epoch    GPU_mem   box_loss   cls_loss   dfl_loss  Instances       Size\n"
     ]
    },
    {
     "name": "stderr",
     "output_type": "stream",
     "text": [
      "   118/1000      5.86G     0.8012     0.6431      1.096          5       1920: 100%|██████████| 1233/1233 [03:26<00:00,  5.98it/s]\n",
      "                 Class     Images  Instances      Box(P          R      mAP50  mAP50-95): 100%|██████████| 65/65 [00:07<00:00,  8.36it/s]"
     ]
    },
    {
     "name": "stdout",
     "output_type": "stream",
     "text": [
      "                   all        644       1280       0.68      0.573      0.583      0.425\n"
     ]
    },
    {
     "name": "stderr",
     "output_type": "stream",
     "text": [
      "\n"
     ]
    },
    {
     "name": "stdout",
     "output_type": "stream",
     "text": [
      "\n",
      "      Epoch    GPU_mem   box_loss   cls_loss   dfl_loss  Instances       Size\n"
     ]
    },
    {
     "name": "stderr",
     "output_type": "stream",
     "text": [
      "   119/1000      5.86G     0.7962     0.6433      1.089          5       1920: 100%|██████████| 1233/1233 [03:25<00:00,  5.99it/s]\n",
      "                 Class     Images  Instances      Box(P          R      mAP50  mAP50-95): 100%|██████████| 65/65 [00:07<00:00,  8.40it/s]"
     ]
    },
    {
     "name": "stdout",
     "output_type": "stream",
     "text": [
      "                   all        644       1280      0.625      0.598      0.584      0.426\n"
     ]
    },
    {
     "name": "stderr",
     "output_type": "stream",
     "text": [
      "\n"
     ]
    },
    {
     "name": "stdout",
     "output_type": "stream",
     "text": [
      "\n",
      "      Epoch    GPU_mem   box_loss   cls_loss   dfl_loss  Instances       Size\n"
     ]
    },
    {
     "name": "stderr",
     "output_type": "stream",
     "text": [
      "   120/1000      5.86G     0.7981     0.6324      1.087          4       1920: 100%|██████████| 1233/1233 [03:25<00:00,  5.99it/s]\n",
      "                 Class     Images  Instances      Box(P          R      mAP50  mAP50-95): 100%|██████████| 65/65 [00:07<00:00,  8.35it/s]"
     ]
    },
    {
     "name": "stdout",
     "output_type": "stream",
     "text": [
      "                   all        644       1280      0.734      0.571      0.582      0.427\n"
     ]
    },
    {
     "name": "stderr",
     "output_type": "stream",
     "text": [
      "\n"
     ]
    },
    {
     "name": "stdout",
     "output_type": "stream",
     "text": [
      "\n",
      "      Epoch    GPU_mem   box_loss   cls_loss   dfl_loss  Instances       Size\n"
     ]
    },
    {
     "name": "stderr",
     "output_type": "stream",
     "text": [
      "   121/1000      5.86G     0.7997     0.6383      1.088          5       1920: 100%|██████████| 1233/1233 [03:25<00:00,  5.99it/s]\n",
      "                 Class     Images  Instances      Box(P          R      mAP50  mAP50-95): 100%|██████████| 65/65 [00:07<00:00,  8.38it/s]"
     ]
    },
    {
     "name": "stdout",
     "output_type": "stream",
     "text": [
      "                   all        644       1280      0.726      0.572      0.585      0.421\n",
      "\u001b[34m\u001b[1mEarlyStopping: \u001b[0mTraining stopped early as no improvement observed in last 50 epochs. Best results observed at epoch 71, best model saved as best.pt.\n",
      "To update EarlyStopping(patience=50) pass a new patience value, i.e. `patience=300` or use `patience=0` to disable EarlyStopping.\n"
     ]
    },
    {
     "name": "stderr",
     "output_type": "stream",
     "text": [
      "\n"
     ]
    },
    {
     "name": "stdout",
     "output_type": "stream",
     "text": [
      "\n",
      "121 epochs completed in 7.202 hours.\n",
      "Optimizer stripped from /home/aubrey/label-studio-ml-backend/runs/detect/yolo11n.pt6/weights/last.pt, 5.7MB\n",
      "Optimizer stripped from /home/aubrey/label-studio-ml-backend/runs/detect/yolo11n.pt6/weights/best.pt, 5.7MB\n",
      "\n",
      "Validating /home/aubrey/label-studio-ml-backend/runs/detect/yolo11n.pt6/weights/best.pt...\n",
      "Ultralytics 8.3.38 🚀 Python-3.10.12 torch-2.5.1+cu124 CUDA:0 (NVIDIA GeForce RTX 3080 Laptop GPU, 16110MiB)\n",
      "YOLO11n summary (fused): 238 layers, 2,582,737 parameters, 0 gradients, 6.3 GFLOPs\n"
     ]
    },
    {
     "name": "stderr",
     "output_type": "stream",
     "text": [
      "                 Class     Images  Instances      Box(P          R      mAP50  mAP50-95): 100%|██████████| 65/65 [00:07<00:00,  8.71it/s]\n"
     ]
    },
    {
     "name": "stdout",
     "output_type": "stream",
     "text": [
      "                   all        644       1280        0.8      0.483      0.644      0.468\n",
      "                  live        555        939      0.745      0.851      0.868      0.672\n",
      "                  dead          5          5          1          0      0.402      0.292\n",
      "                  vcut        223        336      0.655      0.598      0.663      0.441\n",
      "Speed: 1.5ms preprocess, 7.5ms inference, 0.0ms loss, 0.8ms postprocess per image\n",
      "Results saved to \u001b[1m/home/aubrey/label-studio-ml-backend/runs/detect/yolo11n.pt6\u001b[0m\n",
      "2024-12-13 21:50:33    finished training\n"
     ]
    }
   ],
   "source": [
    "# MAIN\n",
    "\n",
    "## globals\n",
    "\n",
    "\n",
    "## CONSTANTS\n",
    "\n",
    "DATAPATH = '/home/aubrey/crb_damage_detector_data'\n",
    "\n",
    "# path to dataset nonstandard format (images and labels in same folders). Not normally used.\n",
    "NONSTANDARD_DATASET_PATH = None\n",
    "\n",
    "# path to latest dataset in YOLOv5 format\n",
    "YOLO_DATASET_PATH = '/home/aubrey/crb_damage_detector_data/datasets/20241128_1648'\n",
    "\n",
    "# path to latest weights file\n",
    "WEIGHTS = '/home/aubrey/crb_damage_detector_data/runs/20241128_1657/weights/best.pt'\n",
    "\n",
    "# name of FiftyOne dataset\n",
    "FO_DATASET_NAME = '20241128_1648'\n",
    "\n",
    "# file name for log file saved in the same folder as this notebook\n",
    "LOGFILE = f'{FO_DATASET_NAME}.log'\n",
    "\n",
    "# Arguments for create_autocorrelated_images_view function.\n",
    "AUTOCORRELATED_IMAGES_THRESHOLD = 0.98\n",
    "DELETE_AUTOCORRELATED_IMAGES = True\n",
    "\n",
    "# Argument for create_autocorrelated_images_view function\n",
    "DELETE_BBS_TOUCHING_EDGES = True\n",
    "\n",
    "# Option to retrain model. Usually FALSE.\n",
    "RETRAIN_MODEL = False\n",
    "\n",
    "# Option to launch the FiftyOne app in a browser at end of workflow. Usually True.\n",
    "LAUNCH_51 = True\n",
    "\n",
    "## CONFIGURE LOGGER\n",
    "logger = configure_logger(LOGFILE)\n",
    "\n",
    "## update requirements.txt\n",
    "logger.info('Updating \"requirements.txt\"')\n",
    "update_requirements_file()\n",
    "\n",
    "# CONTROL PANEL\n",
    "\n",
    "## Buttons\n",
    "btn_descriptions = [\n",
    "    'import latest yolo dataset into 51', \n",
    "    'Launch 51 in browser', \n",
    "    'add embeddings',\n",
    "    'export_51_to_YOLO',\n",
    "    'train_model',\n",
    "    'add YOLO predictions',\n",
    "    'add mistakenness field',\n",
    "    'add mistake view',\n",
    "    'annotate using CVAT',\n",
    "    'merge from CVAT',\n",
    "    'best.pt metadata',\n",
    "    'obj class counts',\n",
    "    'input test'\n",
    "]\n",
    "\n",
    "## Callback function\n",
    "def on_button_clicked(b):\n",
    "    \"\"\" \n",
    "    To provide a visual indication of status, button sttyle is changed to 'primary' when clicked and 'success' when execution ends.\n",
    "    After a button is clicked, all buttons are disabled. All buttons are enabled when execution ends.\n",
    "    \"\"\"\n",
    "    \n",
    "    global dataset\n",
    "    global session\n",
    "    \n",
    "    for button in buttons:\n",
    "        button.disabled = True\n",
    "    b.button_style = 'primary' \n",
    "    match b.description:\n",
    "        case 'import latest yolo dataset into 51':\n",
    "            latest_yaml_path = get_latest_yaml_path()\n",
    "            name = create_timestamp_for_filename()\n",
    "            basename = os.path.basename(latest_yaml_path)\n",
    "            dataset_dir = latest_yaml_path.replace(f'/{basename}', '')\n",
    "            logger.info(f'Executing yolo2fiftyone() with the following parameters:')\n",
    "            logger.info(f'   name={name}')\n",
    "            logger.info(f'   dataset_dir={dataset_dir}')\n",
    "            logger.info(f'   splits=[\"train\", \"val\"])')\n",
    "            yolo2fiftyone(name=name, dataset_dir=dataset_dir, splits=[\"train\", \"val\"])\n",
    "        case 'Launch 51 in browser':     \n",
    "            logger.info(f'Launching FifyOne app in browser')\n",
    "            dataset = fo.load_dataset(name = get_latest_51_dataset())\n",
    "            session = fo.launch_app(dataset=dataset, auto=False)\n",
    "            logger.info(session)\n",
    "        case 'add embeddings': \n",
    "            logger.info('add_embeddings_field()')\n",
    "            add_embeddings_field()\n",
    "        case 'export_51_to_YOLO':\n",
    "            dataset_name = get_latest_51_dataset()\n",
    "            export_dir = f'{DATAPATH}/datasets/{create_timestamp_for_filename()}'\n",
    "            remove_unannotated = True\n",
    "            logger.info(f'Executing export_51_to_yolo() with the following parameters:')\n",
    "            logger.info(f'   dataset_name={dataset_name}')\n",
    "            logger.info(f'   export_dir={export_dir}')\n",
    "            logger.info(f'   remove_unannotated={remove_unannotated}')\n",
    "            export_51_to_YOLO(\n",
    "                dataset_name=dataset_name, \n",
    "                export_dir=export_dir, \n",
    "                remove_unannotated=remove_unannotated) \n",
    "        case 'train_model':\n",
    "            yaml_path = get_latest_yaml_path()\n",
    "            logger.info(f'Executing train_model() with the following parameter:')\n",
    "            logger.info(f'   yaml_path={yaml_path}') \n",
    "            train_model(yaml_path=yaml_path) \n",
    "            logger.info('   finished training') \n",
    "        case 'add YOLO predictions':\n",
    "            model = YOLO(get_latest_weights_path())\n",
    "            logger.info('Adding YOLO predictions as \"yolo\" label field')\n",
    "            dataset.apply_model(model=model, label_field=\"yolo\")  \n",
    "              \n",
    "        case 'add mistakenness field':\n",
    "            # See docs at https://docs.voxel51.com/brain.html#label-mistakes for details.\n",
    "            logger.info('Adding \"mistakenness\", \"possible_missing\" and \"possible_spurious\" fields')\n",
    "            if 'mistakenness' in dataset.list_brain_runs():\n",
    "                dataset.delete_brain_run('mistakenness')\n",
    "            fob.compute_mistakenness(samples=dataset, pred_field=\"yolo\", label_field=\"ground_truth\", copy_missing=False)\n",
    "            \n",
    "        case 'add mistake view':\n",
    "            logger.info('creating mistake_view')\n",
    "            view = dataset.match(F('mistakenness')>0.36).sort_by(\"mistakenness\", reverse=True)\n",
    "            logger.info('   saving mistake_view')\n",
    "            dataset.save_view(name='mistake_view', view=view, overwrite=True) \n",
    "            logger.info('   loading mistake_view')\n",
    "            dataset.load_saved_view('mistake_view')\n",
    "            \n",
    "        case 'annotate using CVAT':\n",
    "            # Note: the view to be annotated is a saved view, not the current session.view\n",
    "            logger.info('annotate using CVAT')\n",
    "                       \n",
    "            # get latest cvat view\n",
    "            cvat_views = []\n",
    "            for saved_view in dataset.list_saved_views():\n",
    "                if saved_view.startswith('cvat'):\n",
    "                    cvat_views.append(saved_view)\n",
    "            latest_cvat_view = max(cvat_views)\n",
    "            \n",
    "            logger.info(f'   launching CVAT with anno_key=\"{latest_cvat_view}\" and label_field=\"ground_truth\"')\n",
    "            dataset.load_saved_view(latest_cvat_view).annotate(anno_key=latest_cvat_view, label_field=\"ground_truth\", launch_editor=True)\n",
    "       \n",
    "        case 'merge from CVAT':\n",
    "            # get latest cvat view\n",
    "            cvat_views = []\n",
    "            for saved_view in dataset.list_saved_views():\n",
    "                if saved_view.startswith('cvat'):\n",
    "                    cvat_views.append(saved_view)\n",
    "            latest_cvat_view = max(cvat_views)\n",
    "            \n",
    "            logger.info('merging CVAT annotations')\n",
    "            logger.info(f'    anno_key={latest_cvat_view}')\n",
    "            logger.info(f'   before merge: {dataset.count_values(\"ground_truth.detections.label\")}')\n",
    "            dataset.load_annotations(anno_key=latest_cvat_view, cleanup=False)\n",
    "            logger.info(f'   after merge: {dataset.count_values(\"ground_truth.detections.label\")}')\n",
    "            \n",
    "        case 'best.pt metadata':\n",
    "            print('\"best.pt metadata\" button pressed')\n",
    "            print(get_best_pt_metadata())\n",
    "            \n",
    "        case 'obj class counts':\n",
    "            counts = dataset.count_values(\"ground_truth.detections.label\")\n",
    "            logger.info(f'Object class counts: {counts}')\n",
    "            \n",
    "        case 'input test':\n",
    "            myinput = input('string:')\n",
    "            logger.info(f'doing something with \"{myinput}\"')\n",
    "                      \n",
    "        case _: \n",
    "            print('--- not a valid b.description')           \n",
    "    b.button_style = 'success'\n",
    "    for button in buttons:\n",
    "        button.disabled = False\n",
    "\n",
    "# Widget layout\n",
    "\n",
    "buttons = []\n",
    "for btn_description in btn_descriptions:\n",
    "    buttons.append(widgets.Button(description=btn_description))\n",
    "\n",
    "for button in buttons:\n",
    "    button.on_click(on_button_clicked)\n",
    "        \n",
    "    \n",
    "# widgets.VBox(buttons)\n",
    "\n",
    "# for description in btn_descriptions:\n",
    "#     button = widgets.Button(description=description)\n",
    "#     list_btns.append(button)\n",
    "\n",
    "# Create a flex box to contain the buttons\n",
    "# Use flex-wrap: wrap to allow multiple rows\n",
    "box_layout = widgets.Layout(\n",
    "    display='flex',\n",
    "    flex_flow='row wrap',\n",
    "    align_items='stretch',\n",
    "    width='100%'\n",
    ")\n",
    "flex_box = widgets.Box(children=buttons, layout=box_layout)\n",
    "\n",
    "# Display the flex box\n",
    "display(flex_box)\n"
   ]
  }
 ],
 "metadata": {
  "kernelspec": {
   "display_name": ".venv",
   "language": "python",
   "name": "python3"
  },
  "language_info": {
   "codemirror_mode": {
    "name": "ipython",
    "version": 3
   },
   "file_extension": ".py",
   "mimetype": "text/x-python",
   "name": "python",
   "nbconvert_exporter": "python",
   "pygments_lexer": "ipython3",
   "version": "3.10.12"
  }
 },
 "nbformat": 4,
 "nbformat_minor": 2
}
