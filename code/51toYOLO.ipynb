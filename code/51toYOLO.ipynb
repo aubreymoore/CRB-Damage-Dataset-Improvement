{
 "cells": [
  {
   "cell_type": "markdown",
   "metadata": {},
   "source": [
    "# create_dataset4.ipynb"
   ]
  },
  {
   "cell_type": "code",
   "execution_count": 1,
   "metadata": {},
   "outputs": [],
   "source": [
    "import fiftyone as fo"
   ]
  },
  {
   "cell_type": "code",
   "execution_count": 2,
   "metadata": {},
   "outputs": [
    {
     "name": "stdout",
     "output_type": "stream",
     "text": [
      " 100% |█████████████| 48002/48002 [48.7s elapsed, 0s remaining, 1.0K samples/s]       \n",
      "Directory '/home/aubrey/dataset4' already exists; export will be merged with existing files\n",
      " 100% |███████████████| 5990/5990 [6.1s elapsed, 0s remaining, 988.8 samples/s]       \n",
      "Directory '/home/aubrey/dataset4' already exists; export will be merged with existing files\n",
      " 100% |███████████████| 6005/6005 [6.0s elapsed, 0s remaining, 1.0K samples/s]        \n"
     ]
    }
   ],
   "source": [
    "export_dir = \"/home/aubrey/dataset4\"\n",
    "label_field = \"ground_truth\"  # for example\n",
    "\n",
    "# The splits to export\n",
    "splits = [\"train\", \"val\", \"test\"]\n",
    "\n",
    "# All splits must use the same classes list\n",
    "classes = [\"live\", \"dead\", \"vcut\"]\n",
    "\n",
    "# The dataset or view to export\n",
    "# We assume the dataset uses sample tags to encode the splits to export\n",
    "dataset_or_view = fo.load_dataset('dataset4')\n",
    "\n",
    "# Export the splits\n",
    "for split in splits:\n",
    "    split_view = dataset_or_view.match_tags(split)\n",
    "    split_view.export(\n",
    "        export_dir=export_dir,\n",
    "        dataset_type=fo.types.YOLOv5Dataset,\n",
    "        label_field=label_field,\n",
    "        split=split,\n",
    "        classes=classes,\n",
    "    )"
   ]
  }
 ],
 "metadata": {
  "kernelspec": {
   "display_name": "venv",
   "language": "python",
   "name": "python3"
  },
  "language_info": {
   "codemirror_mode": {
    "name": "ipython",
    "version": 3
   },
   "file_extension": ".py",
   "mimetype": "text/x-python",
   "name": "python",
   "nbconvert_exporter": "python",
   "pygments_lexer": "ipython3",
   "version": "3.10.12"
  }
 },
 "nbformat": 4,
 "nbformat_minor": 2
}
