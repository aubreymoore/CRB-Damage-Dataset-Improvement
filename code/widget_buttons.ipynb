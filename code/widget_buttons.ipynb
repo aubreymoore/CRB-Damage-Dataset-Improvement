{
 "cells": [
  {
   "cell_type": "code",
   "execution_count": 1,
   "metadata": {},
   "outputs": [],
   "source": [
    "import ipywidgets as widgets\n",
    "from icecream import ic"
   ]
  },
  {
   "cell_type": "code",
   "execution_count": 9,
   "metadata": {},
   "outputs": [
    {
     "data": {
      "application/vnd.jupyter.widget-view+json": {
       "model_id": "fcef1cb2bce74ef7bbd2e77e754d01cd",
       "version_major": 2,
       "version_minor": 0
      },
      "text/plain": [
       "HBox(children=(Button(description='do_this', style=ButtonStyle()), Button(description='do_that', style=ButtonS…"
      ]
     },
     "execution_count": 9,
     "metadata": {},
     "output_type": "execute_result"
    }
   ],
   "source": [
    "A = 10\n",
    "B = 20\n",
    "\n",
    "# my normal functions\n",
    "\n",
    "def add(a, b):\n",
    "    return a+b\n",
    "    \n",
    "def multiply(a, b):\n",
    "    return a*b \n",
    "\n",
    "# my callback function   \n",
    "\n",
    "def on_button_clicked(b):\n",
    "    match b.description:\n",
    "        case 'do_this': \n",
    "            print('executing do_this function')\n",
    "            print(add(A,B))\n",
    "        case 'do_that':\n",
    "            print('executing do_that function')\n",
    "            print(multiply(A,B))\n",
    "        case 'do_something_else': \n",
    "            print('executing do_something_else function') \n",
    "        case _:\n",
    "            print('not a valid b.description')  \n",
    "\n",
    "# my widget layout\n",
    "\n",
    "btn_descriptions = ['do_this', 'do_that', 'do_something_else']\n",
    "buttons = []\n",
    "for i, btn_description in enumerate(btn_descriptions):\n",
    "    buttons.append(widgets.Button(description=f'{btn_descriptions[i]}'))   \n",
    "for button in buttons:\n",
    "    button.on_click(on_button_clicked)\n",
    "widgets.HBox(buttons)"
   ]
  }
 ],
 "metadata": {
  "kernelspec": {
   "display_name": ".venv",
   "language": "python",
   "name": "python3"
  },
  "language_info": {
   "codemirror_mode": {
    "name": "ipython",
    "version": 3
   },
   "file_extension": ".py",
   "mimetype": "text/x-python",
   "name": "python",
   "nbconvert_exporter": "python",
   "pygments_lexer": "ipython3",
   "version": "3.10.12"
  }
 },
 "nbformat": 4,
 "nbformat_minor": 2
}
