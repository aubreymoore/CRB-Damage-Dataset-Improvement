{
 "cells": [
  {
   "cell_type": "markdown",
   "metadata": {},
   "source": []
  },
  {
   "cell_type": "code",
   "execution_count": 2,
   "metadata": {},
   "outputs": [],
   "source": [
    "import fiftyone as fo\n",
    "from fiftyone import ViewField as F\n",
    "from icecream import ic"
   ]
  },
  {
   "cell_type": "code",
   "execution_count": 40,
   "metadata": {},
   "outputs": [
    {
     "name": "stdout",
     "output_type": "stream",
     "text": [
      "Session launched. Run `session.show()` to open the App in a cell output.\n"
     ]
    },
    {
     "data": {
      "text/plain": [
       "Dataset:          dataset5\n",
       "Media type:       image\n",
       "Num patches:      10033\n",
       "Selected patches: 0\n",
       "Selected labels:  0\n",
       "Session URL:      http://localhost:5151/\n",
       "View stages:\n",
       "    1. FilterLabels(field='ground_truth', filter={'$gt': ['$$this.possible_spurious', 0]}, only_matches=True, trajectories=False)\n",
       "    2. ToPatches(field='ground_truth', config=None)"
      ]
     },
     "execution_count": 40,
     "metadata": {},
     "output_type": "execute_result"
    }
   ],
   "source": [
    "## create a view containing only objects whose\n",
    "## ground truth detections are possibly spurious\n",
    "gt_field = \"ground_truth\"\n",
    "spurious_view = dataset.filter_labels(\n",
    "    gt_field, \n",
    "    F(\"possible_spurious\") > 0, \n",
    "    only_matches=True\n",
    ").to_patches(gt_field)\n",
    "\n",
    "fo.launch_app(view=spurious_view, auto=False)\n",
    "\n",
    "\n",
    "\n",
    "# # Only include samples whose ground truth `label` is \"slug\" or \"conch\"\n",
    "# dataset = fo.load_dataset('dataset5')\n",
    "# dead_view = dataset.filter_labels(\n",
    "#     field=\"ground_truth\", \n",
    "#     filter=F(\"label\") == \"dead\"\n",
    "# )\n",
    "# dead_view = dead_view.sort_by(F(\"mistakenness\"), reverse=True)\n",
    "\n",
    "# fo.launch_app(view=dead_view, auto=False)"
   ]
  },
  {
   "cell_type": "code",
   "execution_count": 6,
   "metadata": {},
   "outputs": [
    {
     "name": "stdout",
     "output_type": "stream",
     "text": [
      "Connected to FiftyOne on port 5151 at localhost.\n",
      "If you are not connecting to a remote session, you may need to start a new session and specify a port\n",
      "Session launched. Run `session.show()` to open the App in a cell output.\n"
     ]
    },
    {
     "data": {
      "text/plain": [
       "Dataset:          dataset5\n",
       "Media type:       image\n",
       "Num samples:      59997\n",
       "Selected samples: 0\n",
       "Selected labels:  0\n",
       "Session URL:      http://localhost:5151/"
      ]
     },
     "execution_count": 6,
     "metadata": {},
     "output_type": "execute_result"
    }
   ],
   "source": [
    "dataset = fo.load_dataset('dataset5')\n",
    "fo.launch_app(dataset, auto=False)"
   ]
  },
  {
   "cell_type": "code",
   "execution_count": 17,
   "metadata": {},
   "outputs": [],
   "source": [
    "dataset.delete_saved_view('myview')"
   ]
  },
  {
   "cell_type": "code",
   "execution_count": null,
   "metadata": {},
   "outputs": [],
   "source": [
    "myview = dataset.\n",
    "        \"ground_truth\", (\n",
    "            (F(\"mistakenness\") > 0.5)\n",
    "            & ((F(\"bounding_box\")[2] * F(\"bounding_box\")[3]) > 0.3)\n",
    "            & (F(\"eval\") == \"fp\")\n",
    "            & (F(\"label\").is_in([\"person\", \"dog\"]))\n",
    "        )\n",
    "    ).match(\n",
    "        F(\"predictions.detections\").length() > 2\n",
    "    ).to_patches(\"ground_truth\")\n",
    ")\n",
    "\n",
    "dataset.save_view('myview', myview)"
   ]
  },
  {
   "cell_type": "code",
   "execution_count": 18,
   "metadata": {},
   "outputs": [
    {
     "data": {
      "text/plain": [
       "[]"
      ]
     },
     "execution_count": 18,
     "metadata": {},
     "output_type": "execute_result"
    }
   ],
   "source": [
    "dataset.list_saved_views()"
   ]
  }
 ],
 "metadata": {
  "kernelspec": {
   "display_name": ".venv",
   "language": "python",
   "name": "python3"
  },
  "language_info": {
   "codemirror_mode": {
    "name": "ipython",
    "version": 3
   },
   "file_extension": ".py",
   "mimetype": "text/x-python",
   "name": "python",
   "nbconvert_exporter": "python",
   "pygments_lexer": "ipython3",
   "version": "3.10.12"
  }
 },
 "nbformat": 4,
 "nbformat_minor": 2
}
