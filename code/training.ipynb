{
 "cells": [
  {
   "cell_type": "markdown",
   "metadata": {},
   "source": [
    "# training.ipynb"
   ]
  },
  {
   "cell_type": "code",
   "execution_count": null,
   "metadata": {},
   "outputs": [
    {
     "name": "stdout",
     "output_type": "stream",
     "text": [
      "Traceback (most recent call last):\n",
      "  File \"/home/aubrey/Desktop/CRB-Damage-Dataset-Improvement/.venv/bin/yolo\", line 8, in <module>\n",
      "    sys.exit(entrypoint())\n",
      "  File \"/home/aubrey/Desktop/CRB-Damage-Dataset-Improvement/.venv/lib/python3.10/site-packages/ultralytics/cfg/__init__.py\", line 901, in entrypoint\n",
      "    check_dict_alignment(full_args_dict, overrides)\n",
      "  File \"/home/aubrey/Desktop/CRB-Damage-Dataset-Improvement/.venv/lib/python3.10/site-packages/ultralytics/cfg/__init__.py\", line 483, in check_dict_alignment\n",
      "    raise SyntaxError(string + CLI_HELP_MSG) from e\n",
      "SyntaxError: '\u001b[31m\u001b[1msave_dir\u001b[0m' is not a valid YOLO argument. Similar arguments are i.e. ['save_crop=False', 'save=True', 'save_period=-1'].\n",
      "\n",
      "    Arguments received: ['yolo', 'task=detect', 'mode=train', 'model=yolo11n.pt', 'imgsz=1920', 'rect=True', 'data=/home/aubrey/crb_damage_detector_data/datasets/20241205_1729/dataset.yaml', 'epochs=1000', 'batch=-1', 'patience=50', 'name=20241206_0803', 'save_dir=/home/aubrey/crb_damage_detector_data/runs', 'verbose=True']. Ultralytics 'yolo' commands use the following syntax:\n",
      "\n",
      "        yolo TASK MODE ARGS\n",
      "\n",
      "        Where   TASK (optional) is one of {'pose', 'obb', 'classify', 'segment', 'detect'}\n",
      "                MODE (required) is one of {'benchmark', 'track', 'export', 'predict', 'train', 'val'}\n",
      "                ARGS (optional) are any number of custom 'arg=value' pairs like 'imgsz=320' that override defaults.\n",
      "                    See all ARGS at https://docs.ultralytics.com/usage/cfg or with 'yolo cfg'\n",
      "\n",
      "    1. Train a detection model for 10 epochs with an initial learning_rate of 0.01\n",
      "        yolo train data=coco8.yaml model=yolo11n.pt epochs=10 lr0=0.01\n",
      "\n",
      "    2. Predict a YouTube video using a pretrained segmentation model at image size 320:\n",
      "        yolo predict model=yolo11n-seg.pt source='https://youtu.be/LNwODJXcvt4' imgsz=320\n",
      "\n",
      "    3. Val a pretrained detection model at batch-size 1 and image size 640:\n",
      "        yolo val model=yolo11n.pt data=coco8.yaml batch=1 imgsz=640\n",
      "\n",
      "    4. Export a YOLO11n classification model to ONNX format at image size 224 by 128 (no TASK required)\n",
      "        yolo export model=yolo11n-cls.pt format=onnx imgsz=224,128\n",
      "\n",
      "    5. Streamlit real-time webcam inference GUI\n",
      "        yolo streamlit-predict\n",
      "\n",
      "    6. Ultralytics solutions usage\n",
      "        yolo solutions count or in ['count', 'heatmap', 'queue', 'speed', 'workout', 'analytics', 'help'] source=\"path/to/video/file.mp4\"\n",
      "\n",
      "    7. Run special commands:\n",
      "        yolo help\n",
      "        yolo checks\n",
      "        yolo version\n",
      "        yolo settings\n",
      "        yolo copy-cfg\n",
      "        yolo cfg\n",
      "        yolo solutions help\n",
      "\n",
      "    Docs: https://docs.ultralytics.com\n",
      "    Solutions: https://docs.ultralytics.com/solutions/\n",
      "    Community: https://community.ultralytics.com\n",
      "    GitHub: https://github.com/ultralytics/ultralytics\n",
      "    \n"
     ]
    }
   ],
   "source": [
    "# Sample training.\n",
    "\n",
    "!yolo \\\n",
    "task=detect \\\n",
    "mode=train \\\n",
    "model=yolo11n.pt \\\n",
    "imgsz=1920 \\\n",
    "rect=True \\\n",
    "data=/home/aubrey/crb_damage_detector_data/datasets/20241205_1729/dataset.yaml \\\n",
    "epochs=1000 \\\n",
    "batch=-1 \\\n",
    "patience=50 \\\n",
    "name=20241206_0803 \\\n",
    "project=/home/aubrey/crb_damage_detector_data/runs \\\n",
    "verbose=True"
   ]
  }
 ],
 "metadata": {
  "kernelspec": {
   "display_name": ".venv",
   "language": "python",
   "name": "python3"
  },
  "language_info": {
   "codemirror_mode": {
    "name": "ipython",
    "version": 3
   },
   "file_extension": ".py",
   "mimetype": "text/x-python",
   "name": "python",
   "nbconvert_exporter": "python",
   "pygments_lexer": "ipython3",
   "version": "3.10.12"
  }
 },
 "nbformat": 4,
 "nbformat_minor": 2
}
