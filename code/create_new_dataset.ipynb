{
 "cells": [
  {
   "cell_type": "code",
   "execution_count": 15,
   "metadata": {},
   "outputs": [],
   "source": [
    "import os\n",
    "import shutil\n",
    "import glob\n",
    "import fiftyone as fo"
   ]
  },
  {
   "cell_type": "code",
   "execution_count": null,
   "metadata": {},
   "outputs": [],
   "source": [
    "def create_new_dataset(original_ds_path, new_ds_path):\n",
    "    \"\"\" \n",
    "    \"\"\"\n",
    "    os.mkdir(new_ds_path)\n",
    "    os.mkdir(f'{new_ds_path}/images')\n",
    "    os.mkdir(f'{new_ds_path}/images/train')\n",
    "    os.mkdir(f'{new_ds_path}/images/val')\n",
    "    os.mkdir(f'{new_ds_path}/labels')\n",
    "    os.mkdir(f'{new_ds_path}/labels/train')\n",
    "    os.mkdir(f'{new_ds_path}/labels/val')\n",
    "    \n",
    "    for filepath in glob.glob(f'{original_ds_path}/train/*.jpg'):\n",
    "        shutil.copy2(filepath, f'{new_ds_path}/images/train')\n",
    "    for filepath in glob.glob(f'{original_ds_path}/train/*.txt'):\n",
    "        shutil.copy2(filepath, f'{new_ds_path}/labels/train')\n",
    "    for filepath in glob.glob(f'{original_ds_path}/val/*.jpg'):\n",
    "        shutil.copy2(filepath, f'{new_ds_path}/images/val')\n",
    "    for filepath in glob.glob(f'{original_ds_path}/val/*.txt'):\n",
    "        shutil.copy2(filepath, f'{new_ds_path}/labels/val')\n",
    "        \n",
    "    s = f'path: {new_ds_path} \\n'\n",
    "    s += 'train: ./images/train/ \\n'\n",
    "    s += 'val: ./images/val/ \\n'\n",
    "    s += 'names: \\n'\n",
    "    s += '  0: live \\n'\n",
    "    s += '  1: dead \\n'\n",
    "    s += '  2: vcut \\n'\n",
    "    with open(f'{new_ds_path}/dataset.yaml', 'w') as f:\n",
    "        f.write(s)"
   ]
  },
  {
   "cell_type": "code",
   "execution_count": null,
   "metadata": {},
   "outputs": [],
   "source": [
    "def yolo2fiftyone(name=fo_dataset_name, dataset_dir=dataset_dir, splits=[\"train\", \"val\"]):\n",
    "    \"\"\" \n",
    "    Imports a dataset in YOLO5 format into FiftyOne, using tags to mark the samples in each split \n",
    "    \"\"\" \n",
    "    dataset = fo.Dataset(name, persistent=True)\n",
    "    for split in splits:\n",
    "        dataset.add_dir(\n",
    "            dataset_dir=dataset_dir,\n",
    "            dataset_type=fo.types.YOLOv5Dataset,\n",
    "            split=split,\n",
    "            tags=split,\n",
    "    )\n",
    "    return dataset"
   ]
  },
  {
   "cell_type": "code",
   "execution_count": null,
   "metadata": {},
   "outputs": [],
   "source": [
    "def create_datetime_tag():\n",
    "    \"\"\"\n",
    "    \"\"\"\n",
    "    pass"
   ]
  },
  {
   "cell_type": "code",
   "execution_count": null,
   "metadata": {},
   "outputs": [],
   "source": [
    "def remove_autocorrelated_images():\n",
    "    \"\"\" \n",
    "    \"\"\" \n",
    "    pass\n",
    "\n",
    "import numpy as np\n",
    "from numpy.linalg import norm\n",
    "\n",
    "def cosine_similarity(a, b):\n",
    "    return np.dot(a,b)/(norm(a)*norm(b))\n",
    " \n",
    "# a = np.array([2,1,2,3,2,9])\n",
    "# b = np.array([3,4,2,4,5,5])\n",
    "# cosine_similarity(a, b)\n",
    "\n",
    "\n",
    "sorted_by_datetime_view = dataset.load_saved_view('sorted_by_datatime_view')\n",
    "\n",
    "thresh = 0.92\n",
    "\n",
    "first_sample = True\n",
    "for sample in sorted_by_datetime_view:\n",
    "    if first_sample:\n",
    "        current_embeddings = sample.embeddings\n",
    "        similarity = 0.0\n",
    "        first_sample = False\n",
    "    else:\n",
    "        previous_embeddings = current_embeddings\n",
    "        current_embeddings = sample.embeddings\n",
    "        similarity = cosine_similarity(previous_embeddings, current_embeddings)\n",
    "        sample['similarity_with_prev_img'] = similarity\n",
    "    if similarity > thresh:\n",
    "        sample.tags.append(f'similarity>{thresh}')\n",
    "    else:\n",
    "        sample.tags.append('similarity OK') \n",
    "    sample.save()"
   ]
  },
  {
   "cell_type": "code",
   "execution_count": null,
   "metadata": {},
   "outputs": [],
   "source": [
    "# MAIN\n",
    "original_ds_path = '/home/aubrey/Desktop/Guam07-training-set/datasets/3class-no-symlinks'\n",
    "new_ds_path = '/home/aubrey/datasets/Guam07v3'\n",
    "fo_dataset_name = 'Guam07v3'\n",
    "\n",
    "# wrangle dataset into YOLOv5 format\n",
    "# create_new_dataset(original_ds_path, new_ds_path)\n",
    "\n",
    "# Import dataset into FiftyOne\n",
    "# dataset = yolo2fiftyone(name=name, dataset_dir=new_ds_path)\n",
    "\n",
    "# Open dataset in FiftyOne app in browser\n",
    "dataset = fo.load_dataset(fo_dataset_name)\n",
    "fo.launch_app(dataset, auto=False)"
   ]
  }
 ],
 "metadata": {
  "kernelspec": {
   "display_name": ".venv",
   "language": "python",
   "name": "python3"
  },
  "language_info": {
   "codemirror_mode": {
    "name": "ipython",
    "version": 3
   },
   "file_extension": ".py",
   "mimetype": "text/x-python",
   "name": "python",
   "nbconvert_exporter": "python",
   "pygments_lexer": "ipython3",
   "version": "3.10.12"
  }
 },
 "nbformat": 4,
 "nbformat_minor": 2
}
